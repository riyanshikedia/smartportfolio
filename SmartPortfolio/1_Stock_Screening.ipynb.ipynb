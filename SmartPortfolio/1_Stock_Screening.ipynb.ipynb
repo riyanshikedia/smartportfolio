{
 "cells": [
  {
   "cell_type": "code",
   "execution_count": 1,
   "id": "a251ad5e-fdfd-4d32-8701-e393ad6b8d03",
   "metadata": {},
   "outputs": [
    {
     "name": "stdout",
     "output_type": "stream",
     "text": [
      "Requirement already satisfied: yfinance in c:\\users\\riyanshi kedia\\anaconda3\\lib\\site-packages (0.2.65)\n",
      "Requirement already satisfied: pandas>=1.3.0 in c:\\users\\riyanshi kedia\\anaconda3\\lib\\site-packages (from yfinance) (2.2.2)\n",
      "Requirement already satisfied: numpy>=1.16.5 in c:\\users\\riyanshi kedia\\anaconda3\\lib\\site-packages (from yfinance) (1.26.4)\n",
      "Requirement already satisfied: requests>=2.31 in c:\\users\\riyanshi kedia\\anaconda3\\lib\\site-packages (from yfinance) (2.32.3)\n",
      "Requirement already satisfied: multitasking>=0.0.7 in c:\\users\\riyanshi kedia\\anaconda3\\lib\\site-packages (from yfinance) (0.0.11)\n",
      "Requirement already satisfied: platformdirs>=2.0.0 in c:\\users\\riyanshi kedia\\anaconda3\\lib\\site-packages (from yfinance) (3.10.0)\n",
      "Requirement already satisfied: pytz>=2022.5 in c:\\users\\riyanshi kedia\\anaconda3\\lib\\site-packages (from yfinance) (2024.1)\n",
      "Requirement already satisfied: frozendict>=2.3.4 in c:\\users\\riyanshi kedia\\anaconda3\\lib\\site-packages (from yfinance) (2.4.2)\n",
      "Requirement already satisfied: peewee>=3.16.2 in c:\\users\\riyanshi kedia\\anaconda3\\lib\\site-packages (from yfinance) (3.18.2)\n",
      "Requirement already satisfied: beautifulsoup4>=4.11.1 in c:\\users\\riyanshi kedia\\anaconda3\\lib\\site-packages (from yfinance) (4.12.3)\n",
      "Requirement already satisfied: curl_cffi>=0.7 in c:\\users\\riyanshi kedia\\anaconda3\\lib\\site-packages (from yfinance) (0.11.4)\n",
      "Requirement already satisfied: protobuf>=3.19.0 in c:\\users\\riyanshi kedia\\anaconda3\\lib\\site-packages (from yfinance) (4.25.3)\n",
      "Requirement already satisfied: websockets>=13.0 in c:\\users\\riyanshi kedia\\anaconda3\\lib\\site-packages (from yfinance) (15.0.1)\n",
      "Requirement already satisfied: soupsieve>1.2 in c:\\users\\riyanshi kedia\\anaconda3\\lib\\site-packages (from beautifulsoup4>=4.11.1->yfinance) (2.5)\n",
      "Requirement already satisfied: cffi>=1.12.0 in c:\\users\\riyanshi kedia\\anaconda3\\lib\\site-packages (from curl_cffi>=0.7->yfinance) (1.17.1)\n",
      "Requirement already satisfied: certifi>=2024.2.2 in c:\\users\\riyanshi kedia\\anaconda3\\lib\\site-packages (from curl_cffi>=0.7->yfinance) (2024.8.30)\n",
      "Requirement already satisfied: python-dateutil>=2.8.2 in c:\\users\\riyanshi kedia\\anaconda3\\lib\\site-packages (from pandas>=1.3.0->yfinance) (2.9.0.post0)\n",
      "Requirement already satisfied: tzdata>=2022.7 in c:\\users\\riyanshi kedia\\anaconda3\\lib\\site-packages (from pandas>=1.3.0->yfinance) (2023.3)\n",
      "Requirement already satisfied: charset-normalizer<4,>=2 in c:\\users\\riyanshi kedia\\anaconda3\\lib\\site-packages (from requests>=2.31->yfinance) (3.3.2)\n",
      "Requirement already satisfied: idna<4,>=2.5 in c:\\users\\riyanshi kedia\\anaconda3\\lib\\site-packages (from requests>=2.31->yfinance) (3.7)\n",
      "Requirement already satisfied: urllib3<3,>=1.21.1 in c:\\users\\riyanshi kedia\\anaconda3\\lib\\site-packages (from requests>=2.31->yfinance) (2.2.3)\n",
      "Requirement already satisfied: pycparser in c:\\users\\riyanshi kedia\\anaconda3\\lib\\site-packages (from cffi>=1.12.0->curl_cffi>=0.7->yfinance) (2.21)\n",
      "Requirement already satisfied: six>=1.5 in c:\\users\\riyanshi kedia\\anaconda3\\lib\\site-packages (from python-dateutil>=2.8.2->pandas>=1.3.0->yfinance) (1.16.0)\n",
      "Note: you may need to restart the kernel to use updated packages.\n"
     ]
    }
   ],
   "source": [
    "pip install yfinance\n"
   ]
  },
  {
   "cell_type": "code",
   "execution_count": 2,
   "id": "7ed7a91a-213f-4ae4-a49b-bc4f914e328c",
   "metadata": {},
   "outputs": [
    {
     "name": "stdout",
     "output_type": "stream",
     "text": [
      "Requirement already satisfied: psycopg2-binary in c:\\users\\riyanshi kedia\\anaconda3\\lib\\site-packages (2.9.10)\n",
      "Note: you may need to restart the kernel to use updated packages.\n"
     ]
    }
   ],
   "source": [
    "pip install psycopg2-binary\n"
   ]
  },
  {
   "cell_type": "code",
   "execution_count": 3,
   "id": "3d4fb0a6-690f-421b-a577-77a87c4a052f",
   "metadata": {},
   "outputs": [
    {
     "name": "stdout",
     "output_type": "stream",
     "text": [
      "Requirement already satisfied: html5lib in c:\\users\\riyanshi kedia\\anaconda3\\envs\\smartportfolio\\lib\\site-packages (1.1)\n",
      "Requirement already satisfied: six>=1.9 in c:\\users\\riyanshi kedia\\anaconda3\\envs\\smartportfolio\\lib\\site-packages (from html5lib) (1.17.0)\n",
      "Requirement already satisfied: webencodings in c:\\users\\riyanshi kedia\\anaconda3\\envs\\smartportfolio\\lib\\site-packages (from html5lib) (0.5.1)\n"
     ]
    }
   ],
   "source": [
    "!pip install html5lib"
   ]
  },
  {
   "cell_type": "code",
   "execution_count": 4,
   "id": "0a1c52f3-6069-4581-8a7d-471b2169013b",
   "metadata": {},
   "outputs": [],
   "source": [
    "import pandas as pd\n",
    "import yfinance as yf\n",
    "from sqlalchemy import create_engine\n",
    "import datetime\n",
    "import requests\n",
    "from bs4 import BeautifulSoup\n",
    "from io import StringIO\n",
    "import time  # ✅ Needed for sleep between batches\n"
   ]
  },
  {
   "cell_type": "code",
   "execution_count": 19,
   "id": "cd5a6fb4-2e91-4934-a1f2-cd12bd296ae4",
   "metadata": {},
   "outputs": [
    {
     "name": "stdout",
     "output_type": "stream",
     "text": [
      "✅ Connection successful: (1,)\n"
     ]
    }
   ],
   "source": [
    "from sqlalchemy import create_engine, text\n",
    "\n",
    "user = 'postgres'\n",
    "host = 'localhost'\n",
    "port = '5432'\n",
    "database = 'smartportfolio'\n",
    "\n",
    "engine = create_engine(f'postgresql+psycopg2://{user}@{host}:{port}/{database}')\n",
    "\n",
    "# Use SQLAlchemy's `text()` wrapper\n",
    "with engine.connect() as conn:\n",
    "    result = conn.execute(text(\"SELECT 1\")).fetchone()\n",
    "    print(\"✅ Connection successful:\", result)\n"
   ]
  },
  {
   "cell_type": "code",
   "execution_count": null,
   "id": "b9b980c4-7066-459d-b578-3d3409d718be",
   "metadata": {},
   "outputs": [],
   "source": []
  },
  {
   "cell_type": "code",
   "execution_count": 20,
   "id": "a91e3152-82ba-4bff-bbd7-d1826a59c8c4",
   "metadata": {},
   "outputs": [
    {
     "name": "stdout",
     "output_type": "stream",
     "text": [
      "['MMM', 'AOS', 'ABT', 'ABBV', 'ACN', 'ADBE', 'AMD', 'AES', 'AFL', 'A', 'APD', 'ABNB', 'AKAM', 'ALB', 'ARE', 'ALGN', 'ALLE', 'LNT', 'ALL', 'GOOGL', 'GOOG', 'MO', 'AMZN', 'AMCR', 'AEE', 'AEP', 'AXP', 'AIG', 'AMT', 'AWK', 'AMP', 'AME', 'AMGN', 'APH', 'ADI', 'ANSS', 'AON', 'APA', 'APO', 'AAPL', 'AMAT', 'APTV', 'ACGL', 'ADM', 'ANET', 'AJG', 'AIZ', 'T', 'ATO', 'ADSK', 'ADP', 'AZO', 'AVB', 'AVY', 'AXON', 'BKR', 'BALL', 'BAC', 'BAX', 'BDX', 'BRK-B', 'BBY', 'TECH', 'BIIB', 'BLK', 'BX', 'BK', 'BA', 'BKNG', 'BSX', 'BMY', 'AVGO', 'BR', 'BRO', 'BF-B', 'BLDR', 'BG', 'BXP', 'CHRW', 'CDNS', 'CZR', 'CPT', 'CPB', 'COF', 'CAH', 'KMX', 'CCL', 'CARR', 'CAT', 'CBOE', 'CBRE', 'CDW', 'COR', 'CNC', 'CNP', 'CF', 'CRL', 'SCHW', 'CHTR', 'CVX', 'CMG', 'CB', 'CHD', 'CI', 'CINF', 'CTAS', 'CSCO', 'C', 'CFG', 'CLX', 'CME', 'CMS', 'KO', 'CTSH', 'COIN', 'CL', 'CMCSA', 'CAG', 'COP', 'ED', 'STZ', 'CEG', 'COO', 'CPRT', 'GLW', 'CPAY', 'CTVA', 'CSGP', 'COST', 'CTRA', 'CRWD', 'CCI', 'CSX', 'CMI', 'CVS', 'DHR', 'DRI', 'DDOG', 'DVA', 'DAY', 'DECK', 'DE', 'DELL', 'DAL', 'DVN', 'DXCM', 'FANG', 'DLR', 'DG', 'DLTR', 'D', 'DPZ', 'DASH', 'DOV', 'DOW', 'DHI', 'DTE', 'DUK', 'DD', 'EMN', 'ETN', 'EBAY', 'ECL', 'EIX', 'EW', 'EA', 'ELV', 'EMR', 'ENPH', 'ETR', 'EOG', 'EPAM', 'EQT', 'EFX', 'EQIX', 'EQR', 'ERIE', 'ESS', 'EL', 'EG', 'EVRG', 'ES', 'EXC', 'EXE', 'EXPE', 'EXPD', 'EXR', 'XOM', 'FFIV', 'FDS', 'FICO', 'FAST', 'FRT', 'FDX', 'FIS', 'FITB', 'FSLR', 'FE', 'FI', 'F', 'FTNT', 'FTV', 'FOXA', 'FOX', 'BEN', 'FCX', 'GRMN', 'IT', 'GE', 'GEHC', 'GEV', 'GEN', 'GNRC', 'GD', 'GIS', 'GM', 'GPC', 'GILD', 'GPN', 'GL', 'GDDY', 'GS', 'HAL', 'HIG', 'HAS', 'HCA', 'DOC', 'HSIC', 'HSY', 'HES', 'HPE', 'HLT', 'HOLX', 'HD', 'HON', 'HRL', 'HST', 'HWM', 'HPQ', 'HUBB', 'HUM', 'HBAN', 'HII', 'IBM', 'IEX', 'IDXX', 'ITW', 'INCY', 'IR', 'PODD', 'INTC', 'ICE', 'IFF', 'IP', 'IPG', 'INTU', 'ISRG', 'IVZ', 'INVH', 'IQV', 'IRM', 'JBHT', 'JBL', 'JKHY', 'J', 'JNJ', 'JCI', 'JPM', 'K', 'KVUE', 'KDP', 'KEY', 'KEYS', 'KMB', 'KIM', 'KMI', 'KKR', 'KLAC', 'KHC', 'KR', 'LHX', 'LH', 'LRCX', 'LW', 'LVS', 'LDOS', 'LEN', 'LII', 'LLY', 'LIN', 'LYV', 'LKQ', 'LMT', 'L', 'LOW', 'LULU', 'LYB', 'MTB', 'MPC', 'MKTX', 'MAR', 'MMC', 'MLM', 'MAS', 'MA', 'MTCH', 'MKC', 'MCD', 'MCK', 'MDT', 'MRK', 'META', 'MET', 'MTD', 'MGM', 'MCHP', 'MU', 'MSFT', 'MAA', 'MRNA', 'MHK', 'MOH', 'TAP', 'MDLZ', 'MPWR', 'MNST', 'MCO', 'MS', 'MOS', 'MSI', 'MSCI', 'NDAQ', 'NTAP', 'NFLX', 'NEM', 'NWSA', 'NWS', 'NEE', 'NKE', 'NI', 'NDSN', 'NSC', 'NTRS', 'NOC', 'NCLH', 'NRG', 'NUE', 'NVDA', 'NVR', 'NXPI', 'ORLY', 'OXY', 'ODFL', 'OMC', 'ON', 'OKE', 'ORCL', 'OTIS', 'PCAR', 'PKG', 'PLTR', 'PANW', 'PARA', 'PH', 'PAYX', 'PAYC', 'PYPL', 'PNR', 'PEP', 'PFE', 'PCG', 'PM', 'PSX', 'PNW', 'PNC', 'POOL', 'PPG', 'PPL', 'PFG', 'PG', 'PGR', 'PLD', 'PRU', 'PEG', 'PTC', 'PSA', 'PHM', 'PWR', 'QCOM', 'DGX', 'RL', 'RJF', 'RTX', 'O', 'REG', 'REGN', 'RF', 'RSG', 'RMD', 'RVTY', 'ROK', 'ROL', 'ROP', 'ROST', 'RCL', 'SPGI', 'CRM', 'SBAC', 'SLB', 'STX', 'SRE', 'NOW', 'SHW', 'SPG', 'SWKS', 'SJM', 'SW', 'SNA', 'SOLV', 'SO', 'LUV', 'SWK', 'SBUX', 'STT', 'STLD', 'STE', 'SYK', 'SMCI', 'SYF', 'SNPS', 'SYY', 'TMUS', 'TROW', 'TTWO', 'TPR', 'TRGP', 'TGT', 'TEL', 'TDY', 'TER', 'TSLA', 'TXN', 'TPL', 'TXT', 'TMO', 'TJX', 'TKO', 'TSCO', 'TT', 'TDG', 'TRV', 'TRMB', 'TFC', 'TYL', 'TSN', 'USB', 'UBER', 'UDR', 'ULTA', 'UNP', 'UAL', 'UPS', 'URI', 'UNH', 'UHS', 'VLO', 'VTR', 'VLTO', 'VRSN', 'VRSK', 'VZ', 'VRTX', 'VTRS', 'VICI', 'V', 'VST', 'VMC', 'WRB', 'GWW', 'WAB', 'WBA', 'WMT', 'DIS', 'WBD', 'WM', 'WAT', 'WEC', 'WFC', 'WELL', 'WST', 'WDC', 'WY', 'WSM', 'WMB', 'WTW', 'WDAY', 'WYNN', 'XEL', 'XYL', 'YUM', 'ZBRA', 'ZBH', 'ZTS']\n"
     ]
    }
   ],
   "source": [
    "url = 'https://en.wikipedia.org/wiki/List_of_S%26P_500_companies'\n",
    "response = requests.get(url)\n",
    "\n",
    "# Step 2: Parse the page with BeautifulSoup\n",
    "soup = BeautifulSoup(response.content, 'html.parser')  # works now after html5lib install\n",
    "table = soup.find('table', {'id': 'constituents'})\n",
    "\n",
    "# Step 3: Read the table into a DataFrame\n",
    "sp500_df = pd.read_html(StringIO(str(table)))[0]\n",
    "\n",
    "# Step 4: Extract and clean ticker symbols\n",
    "tickers = sp500_df['Symbol'].tolist()\n",
    "tickers = [ticker.replace('.', '-') for ticker in tickers]\n",
    "print(tickers)"
   ]
  },
  {
   "cell_type": "code",
   "execution_count": 21,
   "id": "7752a932-4c9b-403f-9ff3-ec720f889b7a",
   "metadata": {},
   "outputs": [
    {
     "name": "stdout",
     "output_type": "stream",
     "text": [
      "✅ Loaded 503 S&P 500 tickers\n"
     ]
    }
   ],
   "source": [
    "print(f\"✅ Loaded {len(tickers)} S&P 500 tickers\")"
   ]
  },
  {
   "cell_type": "code",
   "execution_count": 22,
   "id": "626bf243-bddb-430a-9829-80e5f7f06759",
   "metadata": {},
   "outputs": [],
   "source": [
    "end_date= datetime.datetime.today()\n",
    "start_date= end_date-datetime.timedelta(days=180)"
   ]
  },
  {
   "cell_type": "code",
   "execution_count": 23,
   "id": "e01ab4ce-b504-421a-8a14-c543c6decddf",
   "metadata": {},
   "outputs": [],
   "source": [
    "def fetch_and_store(tickers, batch_size=20):\n",
    "    total = len(tickers)\n",
    "    for i in range(0, total, batch_size):\n",
    "        batch = tickers[i:i + batch_size]\n",
    "        print(f\"🔄 Fetching batch {i+1} to {i+len(batch)}\")\n",
    "\n",
    "        try:\n",
    "            data = yf.download(batch, start=start_date, end=end_date, group_by='ticker', threads=True)\n",
    "        except Exception as e:\n",
    "            print(f\"❌ Error fetching batch: {e}\")\n",
    "            continue\n",
    "\n",
    "        for ticker in batch:\n",
    "            try:\n",
    "                df = data[ticker].copy()\n",
    "                df.reset_index(inplace=True)\n",
    "                df['ticker'] = ticker\n",
    "                df.columns = [col.lower().replace(' ', '_') for col in df.columns]\n",
    "                df.rename(columns={'adj_close': 'adj_close'}, inplace=True)\n",
    "\n",
    "                table_name = f\"hist_{ticker.lower().replace('-', '_')}\"\n",
    "                df.to_sql(table_name, engine, if_exists='replace', index=False)\n",
    "\n",
    "                print(f\"✅ Stored: {ticker} → Table: {table_name}\")\n",
    "            except Exception as e:\n",
    "                print(f\"⚠️ Skipped {ticker}: {e}\")\n",
    "        \n",
    "        time.sleep(3) \n"
   ]
  },
  {
   "cell_type": "code",
   "execution_count": 24,
   "id": "6003af07-e7dc-4f91-8a31-7d517e5c72a4",
   "metadata": {},
   "outputs": [
    {
     "name": "stdout",
     "output_type": "stream",
     "text": [
      "🔄 Fetching batch 1 to 20\n"
     ]
    },
    {
     "name": "stderr",
     "output_type": "stream",
     "text": [
      "C:\\Users\\Riyanshi Kedia\\AppData\\Local\\Temp\\ipykernel_24388\\2296189172.py:8: FutureWarning: YF.download() has changed argument auto_adjust default to True\n",
      "  data = yf.download(batch, start=start_date, end=end_date, group_by='ticker', threads=True)\n",
      "[*********************100%***********************]  20 of 20 completed\n"
     ]
    },
    {
     "name": "stdout",
     "output_type": "stream",
     "text": [
      "✅ Stored: MMM → Table: hist_mmm\n",
      "✅ Stored: AOS → Table: hist_aos\n",
      "✅ Stored: ABT → Table: hist_abt\n",
      "✅ Stored: ABBV → Table: hist_abbv\n",
      "✅ Stored: ACN → Table: hist_acn\n",
      "✅ Stored: ADBE → Table: hist_adbe\n",
      "✅ Stored: AMD → Table: hist_amd\n",
      "✅ Stored: AES → Table: hist_aes\n",
      "✅ Stored: AFL → Table: hist_afl\n",
      "✅ Stored: A → Table: hist_a\n",
      "✅ Stored: APD → Table: hist_apd\n",
      "✅ Stored: ABNB → Table: hist_abnb\n",
      "✅ Stored: AKAM → Table: hist_akam\n",
      "✅ Stored: ALB → Table: hist_alb\n",
      "✅ Stored: ARE → Table: hist_are\n",
      "✅ Stored: ALGN → Table: hist_algn\n",
      "✅ Stored: ALLE → Table: hist_alle\n",
      "✅ Stored: LNT → Table: hist_lnt\n",
      "✅ Stored: ALL → Table: hist_all\n",
      "✅ Stored: GOOGL → Table: hist_googl\n"
     ]
    },
    {
     "name": "stderr",
     "output_type": "stream",
     "text": [
      "C:\\Users\\Riyanshi Kedia\\AppData\\Local\\Temp\\ipykernel_24388\\2296189172.py:8: FutureWarning: YF.download() has changed argument auto_adjust default to True\n",
      "  data = yf.download(batch, start=start_date, end=end_date, group_by='ticker', threads=True)\n",
      "[************          25%                       ]  5 of 20 completed"
     ]
    },
    {
     "name": "stdout",
     "output_type": "stream",
     "text": [
      "🔄 Fetching batch 21 to 40\n"
     ]
    },
    {
     "name": "stderr",
     "output_type": "stream",
     "text": [
      "[*********************100%***********************]  20 of 20 completed\n"
     ]
    },
    {
     "name": "stdout",
     "output_type": "stream",
     "text": [
      "✅ Stored: GOOG → Table: hist_goog\n",
      "✅ Stored: MO → Table: hist_mo\n",
      "✅ Stored: AMZN → Table: hist_amzn\n",
      "✅ Stored: AMCR → Table: hist_amcr\n",
      "✅ Stored: AEE → Table: hist_aee\n",
      "✅ Stored: AEP → Table: hist_aep\n",
      "✅ Stored: AXP → Table: hist_axp\n",
      "✅ Stored: AIG → Table: hist_aig\n",
      "✅ Stored: AMT → Table: hist_amt\n",
      "✅ Stored: AWK → Table: hist_awk\n",
      "✅ Stored: AMP → Table: hist_amp\n",
      "✅ Stored: AME → Table: hist_ame\n",
      "✅ Stored: AMGN → Table: hist_amgn\n",
      "✅ Stored: APH → Table: hist_aph\n",
      "✅ Stored: ADI → Table: hist_adi\n",
      "✅ Stored: ANSS → Table: hist_anss\n",
      "✅ Stored: AON → Table: hist_aon\n",
      "✅ Stored: APA → Table: hist_apa\n",
      "✅ Stored: APO → Table: hist_apo\n",
      "✅ Stored: AAPL → Table: hist_aapl\n"
     ]
    },
    {
     "name": "stderr",
     "output_type": "stream",
     "text": [
      "C:\\Users\\Riyanshi Kedia\\AppData\\Local\\Temp\\ipykernel_24388\\2296189172.py:8: FutureWarning: YF.download() has changed argument auto_adjust default to True\n",
      "  data = yf.download(batch, start=start_date, end=end_date, group_by='ticker', threads=True)\n",
      "[*****                 10%                       ]  2 of 20 completed"
     ]
    },
    {
     "name": "stdout",
     "output_type": "stream",
     "text": [
      "🔄 Fetching batch 41 to 60\n"
     ]
    },
    {
     "name": "stderr",
     "output_type": "stream",
     "text": [
      "[*********************100%***********************]  20 of 20 completed\n"
     ]
    },
    {
     "name": "stdout",
     "output_type": "stream",
     "text": [
      "✅ Stored: AMAT → Table: hist_amat\n",
      "✅ Stored: APTV → Table: hist_aptv\n",
      "✅ Stored: ACGL → Table: hist_acgl\n",
      "✅ Stored: ADM → Table: hist_adm\n",
      "✅ Stored: ANET → Table: hist_anet\n",
      "✅ Stored: AJG → Table: hist_ajg\n",
      "✅ Stored: AIZ → Table: hist_aiz\n",
      "✅ Stored: T → Table: hist_t\n",
      "✅ Stored: ATO → Table: hist_ato\n",
      "✅ Stored: ADSK → Table: hist_adsk\n",
      "✅ Stored: ADP → Table: hist_adp\n",
      "✅ Stored: AZO → Table: hist_azo\n",
      "✅ Stored: AVB → Table: hist_avb\n",
      "✅ Stored: AVY → Table: hist_avy\n",
      "✅ Stored: AXON → Table: hist_axon\n",
      "✅ Stored: BKR → Table: hist_bkr\n",
      "✅ Stored: BALL → Table: hist_ball\n",
      "✅ Stored: BAC → Table: hist_bac\n",
      "✅ Stored: BAX → Table: hist_bax\n",
      "✅ Stored: BDX → Table: hist_bdx\n"
     ]
    },
    {
     "name": "stderr",
     "output_type": "stream",
     "text": [
      "C:\\Users\\Riyanshi Kedia\\AppData\\Local\\Temp\\ipykernel_24388\\2296189172.py:8: FutureWarning: YF.download() has changed argument auto_adjust default to True\n",
      "  data = yf.download(batch, start=start_date, end=end_date, group_by='ticker', threads=True)\n",
      "[**********            20%                       ]  4 of 20 completed"
     ]
    },
    {
     "name": "stdout",
     "output_type": "stream",
     "text": [
      "🔄 Fetching batch 61 to 80\n"
     ]
    },
    {
     "name": "stderr",
     "output_type": "stream",
     "text": [
      "[*********************100%***********************]  20 of 20 completed\n"
     ]
    },
    {
     "name": "stdout",
     "output_type": "stream",
     "text": [
      "✅ Stored: BRK-B → Table: hist_brk_b\n",
      "✅ Stored: BBY → Table: hist_bby\n",
      "✅ Stored: TECH → Table: hist_tech\n",
      "✅ Stored: BIIB → Table: hist_biib\n",
      "✅ Stored: BLK → Table: hist_blk\n",
      "✅ Stored: BX → Table: hist_bx\n",
      "✅ Stored: BK → Table: hist_bk\n",
      "✅ Stored: BA → Table: hist_ba\n",
      "✅ Stored: BKNG → Table: hist_bkng\n",
      "✅ Stored: BSX → Table: hist_bsx\n",
      "✅ Stored: BMY → Table: hist_bmy\n",
      "✅ Stored: AVGO → Table: hist_avgo\n",
      "✅ Stored: BR → Table: hist_br\n",
      "✅ Stored: BRO → Table: hist_bro\n",
      "✅ Stored: BF-B → Table: hist_bf_b\n",
      "✅ Stored: BLDR → Table: hist_bldr\n",
      "✅ Stored: BG → Table: hist_bg\n",
      "✅ Stored: BXP → Table: hist_bxp\n",
      "✅ Stored: CHRW → Table: hist_chrw\n",
      "✅ Stored: CDNS → Table: hist_cdns\n"
     ]
    },
    {
     "name": "stderr",
     "output_type": "stream",
     "text": [
      "C:\\Users\\Riyanshi Kedia\\AppData\\Local\\Temp\\ipykernel_24388\\2296189172.py:8: FutureWarning: YF.download() has changed argument auto_adjust default to True\n",
      "  data = yf.download(batch, start=start_date, end=end_date, group_by='ticker', threads=True)\n",
      "[************          25%                       ]  5 of 20 completed"
     ]
    },
    {
     "name": "stdout",
     "output_type": "stream",
     "text": [
      "🔄 Fetching batch 81 to 100\n"
     ]
    },
    {
     "name": "stderr",
     "output_type": "stream",
     "text": [
      "[*********************100%***********************]  20 of 20 completed\n"
     ]
    },
    {
     "name": "stdout",
     "output_type": "stream",
     "text": [
      "✅ Stored: CZR → Table: hist_czr\n",
      "✅ Stored: CPT → Table: hist_cpt\n",
      "✅ Stored: CPB → Table: hist_cpb\n",
      "✅ Stored: COF → Table: hist_cof\n",
      "✅ Stored: CAH → Table: hist_cah\n",
      "✅ Stored: KMX → Table: hist_kmx\n",
      "✅ Stored: CCL → Table: hist_ccl\n",
      "✅ Stored: CARR → Table: hist_carr\n",
      "✅ Stored: CAT → Table: hist_cat\n",
      "✅ Stored: CBOE → Table: hist_cboe\n",
      "✅ Stored: CBRE → Table: hist_cbre\n",
      "✅ Stored: CDW → Table: hist_cdw\n",
      "✅ Stored: COR → Table: hist_cor\n",
      "✅ Stored: CNC → Table: hist_cnc\n",
      "✅ Stored: CNP → Table: hist_cnp\n",
      "✅ Stored: CF → Table: hist_cf\n",
      "✅ Stored: CRL → Table: hist_crl\n",
      "✅ Stored: SCHW → Table: hist_schw\n",
      "✅ Stored: CHTR → Table: hist_chtr\n",
      "✅ Stored: CVX → Table: hist_cvx\n"
     ]
    },
    {
     "name": "stderr",
     "output_type": "stream",
     "text": [
      "C:\\Users\\Riyanshi Kedia\\AppData\\Local\\Temp\\ipykernel_24388\\2296189172.py:8: FutureWarning: YF.download() has changed argument auto_adjust default to True\n",
      "  data = yf.download(batch, start=start_date, end=end_date, group_by='ticker', threads=True)\n",
      "[************          25%                       ]  5 of 20 completed"
     ]
    },
    {
     "name": "stdout",
     "output_type": "stream",
     "text": [
      "🔄 Fetching batch 101 to 120\n"
     ]
    },
    {
     "name": "stderr",
     "output_type": "stream",
     "text": [
      "[*********************100%***********************]  20 of 20 completed\n"
     ]
    },
    {
     "name": "stdout",
     "output_type": "stream",
     "text": [
      "✅ Stored: CMG → Table: hist_cmg\n",
      "✅ Stored: CB → Table: hist_cb\n",
      "✅ Stored: CHD → Table: hist_chd\n",
      "✅ Stored: CI → Table: hist_ci\n",
      "✅ Stored: CINF → Table: hist_cinf\n",
      "✅ Stored: CTAS → Table: hist_ctas\n",
      "✅ Stored: CSCO → Table: hist_csco\n",
      "✅ Stored: C → Table: hist_c\n",
      "✅ Stored: CFG → Table: hist_cfg\n",
      "✅ Stored: CLX → Table: hist_clx\n",
      "✅ Stored: CME → Table: hist_cme\n",
      "✅ Stored: CMS → Table: hist_cms\n",
      "✅ Stored: KO → Table: hist_ko\n",
      "✅ Stored: CTSH → Table: hist_ctsh\n",
      "✅ Stored: COIN → Table: hist_coin\n",
      "✅ Stored: CL → Table: hist_cl\n",
      "✅ Stored: CMCSA → Table: hist_cmcsa\n",
      "✅ Stored: CAG → Table: hist_cag\n",
      "✅ Stored: COP → Table: hist_cop\n",
      "✅ Stored: ED → Table: hist_ed\n"
     ]
    },
    {
     "name": "stderr",
     "output_type": "stream",
     "text": [
      "C:\\Users\\Riyanshi Kedia\\AppData\\Local\\Temp\\ipykernel_24388\\2296189172.py:8: FutureWarning: YF.download() has changed argument auto_adjust default to True\n",
      "  data = yf.download(batch, start=start_date, end=end_date, group_by='ticker', threads=True)\n",
      "[**********            20%                       ]  4 of 20 completed"
     ]
    },
    {
     "name": "stdout",
     "output_type": "stream",
     "text": [
      "🔄 Fetching batch 121 to 140\n"
     ]
    },
    {
     "name": "stderr",
     "output_type": "stream",
     "text": [
      "[*********************100%***********************]  20 of 20 completed\n"
     ]
    },
    {
     "name": "stdout",
     "output_type": "stream",
     "text": [
      "✅ Stored: STZ → Table: hist_stz\n",
      "✅ Stored: CEG → Table: hist_ceg\n",
      "✅ Stored: COO → Table: hist_coo\n",
      "✅ Stored: CPRT → Table: hist_cprt\n",
      "✅ Stored: GLW → Table: hist_glw\n",
      "✅ Stored: CPAY → Table: hist_cpay\n",
      "✅ Stored: CTVA → Table: hist_ctva\n",
      "✅ Stored: CSGP → Table: hist_csgp\n",
      "✅ Stored: COST → Table: hist_cost\n",
      "✅ Stored: CTRA → Table: hist_ctra\n",
      "✅ Stored: CRWD → Table: hist_crwd\n",
      "✅ Stored: CCI → Table: hist_cci\n",
      "✅ Stored: CSX → Table: hist_csx\n",
      "✅ Stored: CMI → Table: hist_cmi\n",
      "✅ Stored: CVS → Table: hist_cvs\n",
      "✅ Stored: DHR → Table: hist_dhr\n",
      "✅ Stored: DRI → Table: hist_dri\n",
      "✅ Stored: DDOG → Table: hist_ddog\n",
      "✅ Stored: DVA → Table: hist_dva\n",
      "✅ Stored: DAY → Table: hist_day\n"
     ]
    },
    {
     "name": "stderr",
     "output_type": "stream",
     "text": [
      "C:\\Users\\Riyanshi Kedia\\AppData\\Local\\Temp\\ipykernel_24388\\2296189172.py:8: FutureWarning: YF.download() has changed argument auto_adjust default to True\n",
      "  data = yf.download(batch, start=start_date, end=end_date, group_by='ticker', threads=True)\n",
      "[**********            20%                       ]  4 of 20 completed"
     ]
    },
    {
     "name": "stdout",
     "output_type": "stream",
     "text": [
      "🔄 Fetching batch 141 to 160\n"
     ]
    },
    {
     "name": "stderr",
     "output_type": "stream",
     "text": [
      "[*********************100%***********************]  20 of 20 completed\n"
     ]
    },
    {
     "name": "stdout",
     "output_type": "stream",
     "text": [
      "✅ Stored: DECK → Table: hist_deck\n",
      "✅ Stored: DE → Table: hist_de\n",
      "✅ Stored: DELL → Table: hist_dell\n",
      "✅ Stored: DAL → Table: hist_dal\n",
      "✅ Stored: DVN → Table: hist_dvn\n",
      "✅ Stored: DXCM → Table: hist_dxcm\n",
      "✅ Stored: FANG → Table: hist_fang\n",
      "✅ Stored: DLR → Table: hist_dlr\n",
      "✅ Stored: DG → Table: hist_dg\n",
      "✅ Stored: DLTR → Table: hist_dltr\n",
      "✅ Stored: D → Table: hist_d\n",
      "✅ Stored: DPZ → Table: hist_dpz\n",
      "✅ Stored: DASH → Table: hist_dash\n",
      "✅ Stored: DOV → Table: hist_dov\n",
      "✅ Stored: DOW → Table: hist_dow\n",
      "✅ Stored: DHI → Table: hist_dhi\n",
      "✅ Stored: DTE → Table: hist_dte\n",
      "✅ Stored: DUK → Table: hist_duk\n",
      "✅ Stored: DD → Table: hist_dd\n",
      "✅ Stored: EMN → Table: hist_emn\n"
     ]
    },
    {
     "name": "stderr",
     "output_type": "stream",
     "text": [
      "C:\\Users\\Riyanshi Kedia\\AppData\\Local\\Temp\\ipykernel_24388\\2296189172.py:8: FutureWarning: YF.download() has changed argument auto_adjust default to True\n",
      "  data = yf.download(batch, start=start_date, end=end_date, group_by='ticker', threads=True)\n",
      "[*******               15%                       ]  3 of 20 completed"
     ]
    },
    {
     "name": "stdout",
     "output_type": "stream",
     "text": [
      "🔄 Fetching batch 161 to 180\n"
     ]
    },
    {
     "name": "stderr",
     "output_type": "stream",
     "text": [
      "[*********************100%***********************]  20 of 20 completed\n"
     ]
    },
    {
     "name": "stdout",
     "output_type": "stream",
     "text": [
      "✅ Stored: ETN → Table: hist_etn\n",
      "✅ Stored: EBAY → Table: hist_ebay\n",
      "✅ Stored: ECL → Table: hist_ecl\n",
      "✅ Stored: EIX → Table: hist_eix\n",
      "✅ Stored: EW → Table: hist_ew\n",
      "✅ Stored: EA → Table: hist_ea\n",
      "✅ Stored: ELV → Table: hist_elv\n",
      "✅ Stored: EMR → Table: hist_emr\n",
      "✅ Stored: ENPH → Table: hist_enph\n",
      "✅ Stored: ETR → Table: hist_etr\n",
      "✅ Stored: EOG → Table: hist_eog\n",
      "✅ Stored: EPAM → Table: hist_epam\n",
      "✅ Stored: EQT → Table: hist_eqt\n",
      "✅ Stored: EFX → Table: hist_efx\n",
      "✅ Stored: EQIX → Table: hist_eqix\n",
      "✅ Stored: EQR → Table: hist_eqr\n",
      "✅ Stored: ERIE → Table: hist_erie\n",
      "✅ Stored: ESS → Table: hist_ess\n",
      "✅ Stored: EL → Table: hist_el\n",
      "✅ Stored: EG → Table: hist_eg\n"
     ]
    },
    {
     "name": "stderr",
     "output_type": "stream",
     "text": [
      "C:\\Users\\Riyanshi Kedia\\AppData\\Local\\Temp\\ipykernel_24388\\2296189172.py:8: FutureWarning: YF.download() has changed argument auto_adjust default to True\n",
      "  data = yf.download(batch, start=start_date, end=end_date, group_by='ticker', threads=True)\n",
      "[*******               15%                       ]  3 of 20 completed"
     ]
    },
    {
     "name": "stdout",
     "output_type": "stream",
     "text": [
      "🔄 Fetching batch 181 to 200\n"
     ]
    },
    {
     "name": "stderr",
     "output_type": "stream",
     "text": [
      "[*********************100%***********************]  20 of 20 completed\n"
     ]
    },
    {
     "name": "stdout",
     "output_type": "stream",
     "text": [
      "✅ Stored: EVRG → Table: hist_evrg\n",
      "✅ Stored: ES → Table: hist_es\n",
      "✅ Stored: EXC → Table: hist_exc\n",
      "✅ Stored: EXE → Table: hist_exe\n",
      "✅ Stored: EXPE → Table: hist_expe\n",
      "✅ Stored: EXPD → Table: hist_expd\n",
      "✅ Stored: EXR → Table: hist_exr\n",
      "✅ Stored: XOM → Table: hist_xom\n",
      "✅ Stored: FFIV → Table: hist_ffiv\n",
      "✅ Stored: FDS → Table: hist_fds\n",
      "✅ Stored: FICO → Table: hist_fico\n",
      "✅ Stored: FAST → Table: hist_fast\n",
      "✅ Stored: FRT → Table: hist_frt\n",
      "✅ Stored: FDX → Table: hist_fdx\n",
      "✅ Stored: FIS → Table: hist_fis\n",
      "✅ Stored: FITB → Table: hist_fitb\n",
      "✅ Stored: FSLR → Table: hist_fslr\n",
      "✅ Stored: FE → Table: hist_fe\n",
      "✅ Stored: FI → Table: hist_fi\n",
      "✅ Stored: F → Table: hist_f\n"
     ]
    },
    {
     "name": "stderr",
     "output_type": "stream",
     "text": [
      "C:\\Users\\Riyanshi Kedia\\AppData\\Local\\Temp\\ipykernel_24388\\2296189172.py:8: FutureWarning: YF.download() has changed argument auto_adjust default to True\n",
      "  data = yf.download(batch, start=start_date, end=end_date, group_by='ticker', threads=True)\n",
      "[*******               15%                       ]  3 of 20 completed"
     ]
    },
    {
     "name": "stdout",
     "output_type": "stream",
     "text": [
      "🔄 Fetching batch 201 to 220\n"
     ]
    },
    {
     "name": "stderr",
     "output_type": "stream",
     "text": [
      "[*********************100%***********************]  20 of 20 completed\n"
     ]
    },
    {
     "name": "stdout",
     "output_type": "stream",
     "text": [
      "✅ Stored: FTNT → Table: hist_ftnt\n",
      "✅ Stored: FTV → Table: hist_ftv\n",
      "✅ Stored: FOXA → Table: hist_foxa\n",
      "✅ Stored: FOX → Table: hist_fox\n",
      "✅ Stored: BEN → Table: hist_ben\n",
      "✅ Stored: FCX → Table: hist_fcx\n",
      "✅ Stored: GRMN → Table: hist_grmn\n",
      "✅ Stored: IT → Table: hist_it\n",
      "✅ Stored: GE → Table: hist_ge\n",
      "✅ Stored: GEHC → Table: hist_gehc\n",
      "✅ Stored: GEV → Table: hist_gev\n",
      "✅ Stored: GEN → Table: hist_gen\n",
      "✅ Stored: GNRC → Table: hist_gnrc\n",
      "✅ Stored: GD → Table: hist_gd\n",
      "✅ Stored: GIS → Table: hist_gis\n",
      "✅ Stored: GM → Table: hist_gm\n",
      "✅ Stored: GPC → Table: hist_gpc\n",
      "✅ Stored: GILD → Table: hist_gild\n",
      "✅ Stored: GPN → Table: hist_gpn\n",
      "✅ Stored: GL → Table: hist_gl\n"
     ]
    },
    {
     "name": "stderr",
     "output_type": "stream",
     "text": [
      "C:\\Users\\Riyanshi Kedia\\AppData\\Local\\Temp\\ipykernel_24388\\2296189172.py:8: FutureWarning: YF.download() has changed argument auto_adjust default to True\n",
      "  data = yf.download(batch, start=start_date, end=end_date, group_by='ticker', threads=True)\n",
      "[**************        30%                       ]  6 of 20 completed"
     ]
    },
    {
     "name": "stdout",
     "output_type": "stream",
     "text": [
      "🔄 Fetching batch 221 to 240\n"
     ]
    },
    {
     "name": "stderr",
     "output_type": "stream",
     "text": [
      "[*********************100%***********************]  20 of 20 completed\n"
     ]
    },
    {
     "name": "stdout",
     "output_type": "stream",
     "text": [
      "✅ Stored: GDDY → Table: hist_gddy\n",
      "✅ Stored: GS → Table: hist_gs\n",
      "✅ Stored: HAL → Table: hist_hal\n",
      "✅ Stored: HIG → Table: hist_hig\n",
      "✅ Stored: HAS → Table: hist_has\n",
      "✅ Stored: HCA → Table: hist_hca\n",
      "✅ Stored: DOC → Table: hist_doc\n",
      "✅ Stored: HSIC → Table: hist_hsic\n",
      "✅ Stored: HSY → Table: hist_hsy\n",
      "✅ Stored: HES → Table: hist_hes\n",
      "✅ Stored: HPE → Table: hist_hpe\n",
      "✅ Stored: HLT → Table: hist_hlt\n",
      "✅ Stored: HOLX → Table: hist_holx\n",
      "✅ Stored: HD → Table: hist_hd\n",
      "✅ Stored: HON → Table: hist_hon\n",
      "✅ Stored: HRL → Table: hist_hrl\n",
      "✅ Stored: HST → Table: hist_hst\n",
      "✅ Stored: HWM → Table: hist_hwm\n",
      "✅ Stored: HPQ → Table: hist_hpq\n",
      "✅ Stored: HUBB → Table: hist_hubb\n"
     ]
    },
    {
     "name": "stderr",
     "output_type": "stream",
     "text": [
      "C:\\Users\\Riyanshi Kedia\\AppData\\Local\\Temp\\ipykernel_24388\\2296189172.py:8: FutureWarning: YF.download() has changed argument auto_adjust default to True\n",
      "  data = yf.download(batch, start=start_date, end=end_date, group_by='ticker', threads=True)\n",
      "[************          25%                       ]  5 of 20 completed"
     ]
    },
    {
     "name": "stdout",
     "output_type": "stream",
     "text": [
      "🔄 Fetching batch 241 to 260\n"
     ]
    },
    {
     "name": "stderr",
     "output_type": "stream",
     "text": [
      "[*********************100%***********************]  20 of 20 completed\n"
     ]
    },
    {
     "name": "stdout",
     "output_type": "stream",
     "text": [
      "✅ Stored: HUM → Table: hist_hum\n",
      "✅ Stored: HBAN → Table: hist_hban\n",
      "✅ Stored: HII → Table: hist_hii\n",
      "✅ Stored: IBM → Table: hist_ibm\n",
      "✅ Stored: IEX → Table: hist_iex\n",
      "✅ Stored: IDXX → Table: hist_idxx\n",
      "✅ Stored: ITW → Table: hist_itw\n",
      "✅ Stored: INCY → Table: hist_incy\n",
      "✅ Stored: IR → Table: hist_ir\n",
      "✅ Stored: PODD → Table: hist_podd\n",
      "✅ Stored: INTC → Table: hist_intc\n",
      "✅ Stored: ICE → Table: hist_ice\n",
      "✅ Stored: IFF → Table: hist_iff\n",
      "✅ Stored: IP → Table: hist_ip\n",
      "✅ Stored: IPG → Table: hist_ipg\n",
      "✅ Stored: INTU → Table: hist_intu\n",
      "✅ Stored: ISRG → Table: hist_isrg\n",
      "✅ Stored: IVZ → Table: hist_ivz\n",
      "✅ Stored: INVH → Table: hist_invh\n",
      "✅ Stored: IQV → Table: hist_iqv\n"
     ]
    },
    {
     "name": "stderr",
     "output_type": "stream",
     "text": [
      "C:\\Users\\Riyanshi Kedia\\AppData\\Local\\Temp\\ipykernel_24388\\2296189172.py:8: FutureWarning: YF.download() has changed argument auto_adjust default to True\n",
      "  data = yf.download(batch, start=start_date, end=end_date, group_by='ticker', threads=True)\n",
      "[*******               15%                       ]  3 of 20 completed"
     ]
    },
    {
     "name": "stdout",
     "output_type": "stream",
     "text": [
      "🔄 Fetching batch 261 to 280\n"
     ]
    },
    {
     "name": "stderr",
     "output_type": "stream",
     "text": [
      "[*********************100%***********************]  20 of 20 completed\n"
     ]
    },
    {
     "name": "stdout",
     "output_type": "stream",
     "text": [
      "✅ Stored: IRM → Table: hist_irm\n",
      "✅ Stored: JBHT → Table: hist_jbht\n",
      "✅ Stored: JBL → Table: hist_jbl\n",
      "✅ Stored: JKHY → Table: hist_jkhy\n",
      "✅ Stored: J → Table: hist_j\n",
      "✅ Stored: JNJ → Table: hist_jnj\n",
      "✅ Stored: JCI → Table: hist_jci\n",
      "✅ Stored: JPM → Table: hist_jpm\n",
      "✅ Stored: K → Table: hist_k\n",
      "✅ Stored: KVUE → Table: hist_kvue\n",
      "✅ Stored: KDP → Table: hist_kdp\n",
      "✅ Stored: KEY → Table: hist_key\n",
      "✅ Stored: KEYS → Table: hist_keys\n",
      "✅ Stored: KMB → Table: hist_kmb\n",
      "✅ Stored: KIM → Table: hist_kim\n",
      "✅ Stored: KMI → Table: hist_kmi\n",
      "✅ Stored: KKR → Table: hist_kkr\n",
      "✅ Stored: KLAC → Table: hist_klac\n",
      "✅ Stored: KHC → Table: hist_khc\n",
      "✅ Stored: KR → Table: hist_kr\n"
     ]
    },
    {
     "name": "stderr",
     "output_type": "stream",
     "text": [
      "C:\\Users\\Riyanshi Kedia\\AppData\\Local\\Temp\\ipykernel_24388\\2296189172.py:8: FutureWarning: YF.download() has changed argument auto_adjust default to True\n",
      "  data = yf.download(batch, start=start_date, end=end_date, group_by='ticker', threads=True)\n",
      "[**************        30%                       ]  6 of 20 completed"
     ]
    },
    {
     "name": "stdout",
     "output_type": "stream",
     "text": [
      "🔄 Fetching batch 281 to 300\n"
     ]
    },
    {
     "name": "stderr",
     "output_type": "stream",
     "text": [
      "[*********************100%***********************]  20 of 20 completed\n"
     ]
    },
    {
     "name": "stdout",
     "output_type": "stream",
     "text": [
      "✅ Stored: LHX → Table: hist_lhx\n",
      "✅ Stored: LH → Table: hist_lh\n",
      "✅ Stored: LRCX → Table: hist_lrcx\n",
      "✅ Stored: LW → Table: hist_lw\n",
      "✅ Stored: LVS → Table: hist_lvs\n",
      "✅ Stored: LDOS → Table: hist_ldos\n",
      "✅ Stored: LEN → Table: hist_len\n",
      "✅ Stored: LII → Table: hist_lii\n",
      "✅ Stored: LLY → Table: hist_lly\n",
      "✅ Stored: LIN → Table: hist_lin\n",
      "✅ Stored: LYV → Table: hist_lyv\n",
      "✅ Stored: LKQ → Table: hist_lkq\n",
      "✅ Stored: LMT → Table: hist_lmt\n",
      "✅ Stored: L → Table: hist_l\n",
      "✅ Stored: LOW → Table: hist_low\n",
      "✅ Stored: LULU → Table: hist_lulu\n",
      "✅ Stored: LYB → Table: hist_lyb\n",
      "✅ Stored: MTB → Table: hist_mtb\n",
      "✅ Stored: MPC → Table: hist_mpc\n",
      "✅ Stored: MKTX → Table: hist_mktx\n"
     ]
    },
    {
     "name": "stderr",
     "output_type": "stream",
     "text": [
      "C:\\Users\\Riyanshi Kedia\\AppData\\Local\\Temp\\ipykernel_24388\\2296189172.py:8: FutureWarning: YF.download() has changed argument auto_adjust default to True\n",
      "  data = yf.download(batch, start=start_date, end=end_date, group_by='ticker', threads=True)\n",
      "[*****                 10%                       ]  2 of 20 completed"
     ]
    },
    {
     "name": "stdout",
     "output_type": "stream",
     "text": [
      "🔄 Fetching batch 301 to 320\n"
     ]
    },
    {
     "name": "stderr",
     "output_type": "stream",
     "text": [
      "[*********************100%***********************]  20 of 20 completed\n"
     ]
    },
    {
     "name": "stdout",
     "output_type": "stream",
     "text": [
      "✅ Stored: MAR → Table: hist_mar\n",
      "✅ Stored: MMC → Table: hist_mmc\n",
      "✅ Stored: MLM → Table: hist_mlm\n",
      "✅ Stored: MAS → Table: hist_mas\n",
      "✅ Stored: MA → Table: hist_ma\n",
      "✅ Stored: MTCH → Table: hist_mtch\n",
      "✅ Stored: MKC → Table: hist_mkc\n",
      "✅ Stored: MCD → Table: hist_mcd\n",
      "✅ Stored: MCK → Table: hist_mck\n",
      "✅ Stored: MDT → Table: hist_mdt\n",
      "✅ Stored: MRK → Table: hist_mrk\n",
      "✅ Stored: META → Table: hist_meta\n",
      "✅ Stored: MET → Table: hist_met\n",
      "✅ Stored: MTD → Table: hist_mtd\n",
      "✅ Stored: MGM → Table: hist_mgm\n",
      "✅ Stored: MCHP → Table: hist_mchp\n",
      "✅ Stored: MU → Table: hist_mu\n",
      "✅ Stored: MSFT → Table: hist_msft\n",
      "✅ Stored: MAA → Table: hist_maa\n",
      "✅ Stored: MRNA → Table: hist_mrna\n"
     ]
    },
    {
     "name": "stderr",
     "output_type": "stream",
     "text": [
      "C:\\Users\\Riyanshi Kedia\\AppData\\Local\\Temp\\ipykernel_24388\\2296189172.py:8: FutureWarning: YF.download() has changed argument auto_adjust default to True\n",
      "  data = yf.download(batch, start=start_date, end=end_date, group_by='ticker', threads=True)\n",
      "[**************        30%                       ]  6 of 20 completed"
     ]
    },
    {
     "name": "stdout",
     "output_type": "stream",
     "text": [
      "🔄 Fetching batch 321 to 340\n"
     ]
    },
    {
     "name": "stderr",
     "output_type": "stream",
     "text": [
      "[*********************100%***********************]  20 of 20 completed\n"
     ]
    },
    {
     "name": "stdout",
     "output_type": "stream",
     "text": [
      "✅ Stored: MHK → Table: hist_mhk\n",
      "✅ Stored: MOH → Table: hist_moh\n",
      "✅ Stored: TAP → Table: hist_tap\n",
      "✅ Stored: MDLZ → Table: hist_mdlz\n",
      "✅ Stored: MPWR → Table: hist_mpwr\n",
      "✅ Stored: MNST → Table: hist_mnst\n",
      "✅ Stored: MCO → Table: hist_mco\n",
      "✅ Stored: MS → Table: hist_ms\n",
      "✅ Stored: MOS → Table: hist_mos\n",
      "✅ Stored: MSI → Table: hist_msi\n",
      "✅ Stored: MSCI → Table: hist_msci\n",
      "✅ Stored: NDAQ → Table: hist_ndaq\n",
      "✅ Stored: NTAP → Table: hist_ntap\n",
      "✅ Stored: NFLX → Table: hist_nflx\n",
      "✅ Stored: NEM → Table: hist_nem\n",
      "✅ Stored: NWSA → Table: hist_nwsa\n",
      "✅ Stored: NWS → Table: hist_nws\n",
      "✅ Stored: NEE → Table: hist_nee\n",
      "✅ Stored: NKE → Table: hist_nke\n",
      "✅ Stored: NI → Table: hist_ni\n"
     ]
    },
    {
     "name": "stderr",
     "output_type": "stream",
     "text": [
      "C:\\Users\\Riyanshi Kedia\\AppData\\Local\\Temp\\ipykernel_24388\\2296189172.py:8: FutureWarning: YF.download() has changed argument auto_adjust default to True\n",
      "  data = yf.download(batch, start=start_date, end=end_date, group_by='ticker', threads=True)\n",
      "[**************        30%                       ]  6 of 20 completed"
     ]
    },
    {
     "name": "stdout",
     "output_type": "stream",
     "text": [
      "🔄 Fetching batch 341 to 360\n"
     ]
    },
    {
     "name": "stderr",
     "output_type": "stream",
     "text": [
      "[*********************100%***********************]  20 of 20 completed\n"
     ]
    },
    {
     "name": "stdout",
     "output_type": "stream",
     "text": [
      "✅ Stored: NDSN → Table: hist_ndsn\n",
      "✅ Stored: NSC → Table: hist_nsc\n",
      "✅ Stored: NTRS → Table: hist_ntrs\n",
      "✅ Stored: NOC → Table: hist_noc\n",
      "✅ Stored: NCLH → Table: hist_nclh\n",
      "✅ Stored: NRG → Table: hist_nrg\n",
      "✅ Stored: NUE → Table: hist_nue\n",
      "✅ Stored: NVDA → Table: hist_nvda\n",
      "✅ Stored: NVR → Table: hist_nvr\n",
      "✅ Stored: NXPI → Table: hist_nxpi\n",
      "✅ Stored: ORLY → Table: hist_orly\n",
      "✅ Stored: OXY → Table: hist_oxy\n",
      "✅ Stored: ODFL → Table: hist_odfl\n",
      "✅ Stored: OMC → Table: hist_omc\n",
      "✅ Stored: ON → Table: hist_on\n",
      "✅ Stored: OKE → Table: hist_oke\n",
      "✅ Stored: ORCL → Table: hist_orcl\n",
      "✅ Stored: OTIS → Table: hist_otis\n",
      "✅ Stored: PCAR → Table: hist_pcar\n",
      "✅ Stored: PKG → Table: hist_pkg\n"
     ]
    },
    {
     "name": "stderr",
     "output_type": "stream",
     "text": [
      "C:\\Users\\Riyanshi Kedia\\AppData\\Local\\Temp\\ipykernel_24388\\2296189172.py:8: FutureWarning: YF.download() has changed argument auto_adjust default to True\n",
      "  data = yf.download(batch, start=start_date, end=end_date, group_by='ticker', threads=True)\n",
      "[**********            20%                       ]  4 of 20 completed"
     ]
    },
    {
     "name": "stdout",
     "output_type": "stream",
     "text": [
      "🔄 Fetching batch 361 to 380\n"
     ]
    },
    {
     "name": "stderr",
     "output_type": "stream",
     "text": [
      "[*********************100%***********************]  20 of 20 completed\n"
     ]
    },
    {
     "name": "stdout",
     "output_type": "stream",
     "text": [
      "✅ Stored: PLTR → Table: hist_pltr\n",
      "✅ Stored: PANW → Table: hist_panw\n",
      "✅ Stored: PARA → Table: hist_para\n",
      "✅ Stored: PH → Table: hist_ph\n",
      "✅ Stored: PAYX → Table: hist_payx\n",
      "✅ Stored: PAYC → Table: hist_payc\n",
      "✅ Stored: PYPL → Table: hist_pypl\n",
      "✅ Stored: PNR → Table: hist_pnr\n",
      "✅ Stored: PEP → Table: hist_pep\n",
      "✅ Stored: PFE → Table: hist_pfe\n",
      "✅ Stored: PCG → Table: hist_pcg\n",
      "✅ Stored: PM → Table: hist_pm\n",
      "✅ Stored: PSX → Table: hist_psx\n",
      "✅ Stored: PNW → Table: hist_pnw\n",
      "✅ Stored: PNC → Table: hist_pnc\n",
      "✅ Stored: POOL → Table: hist_pool\n",
      "✅ Stored: PPG → Table: hist_ppg\n",
      "✅ Stored: PPL → Table: hist_ppl\n",
      "✅ Stored: PFG → Table: hist_pfg\n",
      "✅ Stored: PG → Table: hist_pg\n"
     ]
    },
    {
     "name": "stderr",
     "output_type": "stream",
     "text": [
      "C:\\Users\\Riyanshi Kedia\\AppData\\Local\\Temp\\ipykernel_24388\\2296189172.py:8: FutureWarning: YF.download() has changed argument auto_adjust default to True\n",
      "  data = yf.download(batch, start=start_date, end=end_date, group_by='ticker', threads=True)\n",
      "[*******               15%                       ]  3 of 20 completed"
     ]
    },
    {
     "name": "stdout",
     "output_type": "stream",
     "text": [
      "🔄 Fetching batch 381 to 400\n"
     ]
    },
    {
     "name": "stderr",
     "output_type": "stream",
     "text": [
      "[*********************100%***********************]  20 of 20 completed\n"
     ]
    },
    {
     "name": "stdout",
     "output_type": "stream",
     "text": [
      "✅ Stored: PGR → Table: hist_pgr\n",
      "✅ Stored: PLD → Table: hist_pld\n",
      "✅ Stored: PRU → Table: hist_pru\n",
      "✅ Stored: PEG → Table: hist_peg\n",
      "✅ Stored: PTC → Table: hist_ptc\n",
      "✅ Stored: PSA → Table: hist_psa\n",
      "✅ Stored: PHM → Table: hist_phm\n",
      "✅ Stored: PWR → Table: hist_pwr\n",
      "✅ Stored: QCOM → Table: hist_qcom\n",
      "✅ Stored: DGX → Table: hist_dgx\n",
      "✅ Stored: RL → Table: hist_rl\n",
      "✅ Stored: RJF → Table: hist_rjf\n",
      "✅ Stored: RTX → Table: hist_rtx\n",
      "✅ Stored: O → Table: hist_o\n",
      "✅ Stored: REG → Table: hist_reg\n",
      "✅ Stored: REGN → Table: hist_regn\n",
      "✅ Stored: RF → Table: hist_rf\n",
      "✅ Stored: RSG → Table: hist_rsg\n",
      "✅ Stored: RMD → Table: hist_rmd\n",
      "✅ Stored: RVTY → Table: hist_rvty\n"
     ]
    },
    {
     "name": "stderr",
     "output_type": "stream",
     "text": [
      "C:\\Users\\Riyanshi Kedia\\AppData\\Local\\Temp\\ipykernel_24388\\2296189172.py:8: FutureWarning: YF.download() has changed argument auto_adjust default to True\n",
      "  data = yf.download(batch, start=start_date, end=end_date, group_by='ticker', threads=True)\n",
      "[**********            20%                       ]  4 of 20 completed"
     ]
    },
    {
     "name": "stdout",
     "output_type": "stream",
     "text": [
      "🔄 Fetching batch 401 to 420\n"
     ]
    },
    {
     "name": "stderr",
     "output_type": "stream",
     "text": [
      "[*********************100%***********************]  20 of 20 completed\n"
     ]
    },
    {
     "name": "stdout",
     "output_type": "stream",
     "text": [
      "✅ Stored: ROK → Table: hist_rok\n",
      "✅ Stored: ROL → Table: hist_rol\n",
      "✅ Stored: ROP → Table: hist_rop\n",
      "✅ Stored: ROST → Table: hist_rost\n",
      "✅ Stored: RCL → Table: hist_rcl\n",
      "✅ Stored: SPGI → Table: hist_spgi\n",
      "✅ Stored: CRM → Table: hist_crm\n",
      "✅ Stored: SBAC → Table: hist_sbac\n",
      "✅ Stored: SLB → Table: hist_slb\n",
      "✅ Stored: STX → Table: hist_stx\n",
      "✅ Stored: SRE → Table: hist_sre\n",
      "✅ Stored: NOW → Table: hist_now\n",
      "✅ Stored: SHW → Table: hist_shw\n",
      "✅ Stored: SPG → Table: hist_spg\n",
      "✅ Stored: SWKS → Table: hist_swks\n",
      "✅ Stored: SJM → Table: hist_sjm\n",
      "✅ Stored: SW → Table: hist_sw\n",
      "✅ Stored: SNA → Table: hist_sna\n",
      "✅ Stored: SOLV → Table: hist_solv\n",
      "✅ Stored: SO → Table: hist_so\n"
     ]
    },
    {
     "name": "stderr",
     "output_type": "stream",
     "text": [
      "C:\\Users\\Riyanshi Kedia\\AppData\\Local\\Temp\\ipykernel_24388\\2296189172.py:8: FutureWarning: YF.download() has changed argument auto_adjust default to True\n",
      "  data = yf.download(batch, start=start_date, end=end_date, group_by='ticker', threads=True)\n",
      "[*******               15%                       ]  3 of 20 completed"
     ]
    },
    {
     "name": "stdout",
     "output_type": "stream",
     "text": [
      "🔄 Fetching batch 421 to 440\n"
     ]
    },
    {
     "name": "stderr",
     "output_type": "stream",
     "text": [
      "[*********************100%***********************]  20 of 20 completed\n"
     ]
    },
    {
     "name": "stdout",
     "output_type": "stream",
     "text": [
      "✅ Stored: LUV → Table: hist_luv\n",
      "✅ Stored: SWK → Table: hist_swk\n",
      "✅ Stored: SBUX → Table: hist_sbux\n",
      "✅ Stored: STT → Table: hist_stt\n",
      "✅ Stored: STLD → Table: hist_stld\n",
      "✅ Stored: STE → Table: hist_ste\n",
      "✅ Stored: SYK → Table: hist_syk\n",
      "✅ Stored: SMCI → Table: hist_smci\n",
      "✅ Stored: SYF → Table: hist_syf\n",
      "✅ Stored: SNPS → Table: hist_snps\n",
      "✅ Stored: SYY → Table: hist_syy\n",
      "✅ Stored: TMUS → Table: hist_tmus\n",
      "✅ Stored: TROW → Table: hist_trow\n",
      "✅ Stored: TTWO → Table: hist_ttwo\n",
      "✅ Stored: TPR → Table: hist_tpr\n",
      "✅ Stored: TRGP → Table: hist_trgp\n",
      "✅ Stored: TGT → Table: hist_tgt\n",
      "✅ Stored: TEL → Table: hist_tel\n",
      "✅ Stored: TDY → Table: hist_tdy\n",
      "✅ Stored: TER → Table: hist_ter\n"
     ]
    },
    {
     "name": "stderr",
     "output_type": "stream",
     "text": [
      "C:\\Users\\Riyanshi Kedia\\AppData\\Local\\Temp\\ipykernel_24388\\2296189172.py:8: FutureWarning: YF.download() has changed argument auto_adjust default to True\n",
      "  data = yf.download(batch, start=start_date, end=end_date, group_by='ticker', threads=True)\n",
      "[*******               15%                       ]  3 of 20 completed"
     ]
    },
    {
     "name": "stdout",
     "output_type": "stream",
     "text": [
      "🔄 Fetching batch 441 to 460\n"
     ]
    },
    {
     "name": "stderr",
     "output_type": "stream",
     "text": [
      "[*********************100%***********************]  20 of 20 completed\n"
     ]
    },
    {
     "name": "stdout",
     "output_type": "stream",
     "text": [
      "✅ Stored: TSLA → Table: hist_tsla\n",
      "✅ Stored: TXN → Table: hist_txn\n",
      "✅ Stored: TPL → Table: hist_tpl\n",
      "✅ Stored: TXT → Table: hist_txt\n",
      "✅ Stored: TMO → Table: hist_tmo\n",
      "✅ Stored: TJX → Table: hist_tjx\n",
      "✅ Stored: TKO → Table: hist_tko\n",
      "✅ Stored: TSCO → Table: hist_tsco\n",
      "✅ Stored: TT → Table: hist_tt\n",
      "✅ Stored: TDG → Table: hist_tdg\n",
      "✅ Stored: TRV → Table: hist_trv\n",
      "✅ Stored: TRMB → Table: hist_trmb\n",
      "✅ Stored: TFC → Table: hist_tfc\n",
      "✅ Stored: TYL → Table: hist_tyl\n",
      "✅ Stored: TSN → Table: hist_tsn\n",
      "✅ Stored: USB → Table: hist_usb\n",
      "✅ Stored: UBER → Table: hist_uber\n",
      "✅ Stored: UDR → Table: hist_udr\n",
      "✅ Stored: ULTA → Table: hist_ulta\n",
      "✅ Stored: UNP → Table: hist_unp\n"
     ]
    },
    {
     "name": "stderr",
     "output_type": "stream",
     "text": [
      "C:\\Users\\Riyanshi Kedia\\AppData\\Local\\Temp\\ipykernel_24388\\2296189172.py:8: FutureWarning: YF.download() has changed argument auto_adjust default to True\n",
      "  data = yf.download(batch, start=start_date, end=end_date, group_by='ticker', threads=True)\n",
      "[*****************     35%                       ]  7 of 20 completed"
     ]
    },
    {
     "name": "stdout",
     "output_type": "stream",
     "text": [
      "🔄 Fetching batch 461 to 480\n"
     ]
    },
    {
     "name": "stderr",
     "output_type": "stream",
     "text": [
      "[*********************100%***********************]  20 of 20 completed\n"
     ]
    },
    {
     "name": "stdout",
     "output_type": "stream",
     "text": [
      "✅ Stored: UAL → Table: hist_ual\n",
      "✅ Stored: UPS → Table: hist_ups\n",
      "✅ Stored: URI → Table: hist_uri\n",
      "✅ Stored: UNH → Table: hist_unh\n",
      "✅ Stored: UHS → Table: hist_uhs\n",
      "✅ Stored: VLO → Table: hist_vlo\n",
      "✅ Stored: VTR → Table: hist_vtr\n",
      "✅ Stored: VLTO → Table: hist_vlto\n",
      "✅ Stored: VRSN → Table: hist_vrsn\n",
      "✅ Stored: VRSK → Table: hist_vrsk\n",
      "✅ Stored: VZ → Table: hist_vz\n",
      "✅ Stored: VRTX → Table: hist_vrtx\n",
      "✅ Stored: VTRS → Table: hist_vtrs\n",
      "✅ Stored: VICI → Table: hist_vici\n",
      "✅ Stored: V → Table: hist_v\n",
      "✅ Stored: VST → Table: hist_vst\n",
      "✅ Stored: VMC → Table: hist_vmc\n",
      "✅ Stored: WRB → Table: hist_wrb\n",
      "✅ Stored: GWW → Table: hist_gww\n",
      "✅ Stored: WAB → Table: hist_wab\n"
     ]
    },
    {
     "name": "stderr",
     "output_type": "stream",
     "text": [
      "C:\\Users\\Riyanshi Kedia\\AppData\\Local\\Temp\\ipykernel_24388\\2296189172.py:8: FutureWarning: YF.download() has changed argument auto_adjust default to True\n",
      "  data = yf.download(batch, start=start_date, end=end_date, group_by='ticker', threads=True)\n",
      "[************          25%                       ]  5 of 20 completed"
     ]
    },
    {
     "name": "stdout",
     "output_type": "stream",
     "text": [
      "🔄 Fetching batch 481 to 500\n"
     ]
    },
    {
     "name": "stderr",
     "output_type": "stream",
     "text": [
      "[*********************100%***********************]  20 of 20 completed\n"
     ]
    },
    {
     "name": "stdout",
     "output_type": "stream",
     "text": [
      "✅ Stored: WBA → Table: hist_wba\n",
      "✅ Stored: WMT → Table: hist_wmt\n",
      "✅ Stored: DIS → Table: hist_dis\n",
      "✅ Stored: WBD → Table: hist_wbd\n",
      "✅ Stored: WM → Table: hist_wm\n",
      "✅ Stored: WAT → Table: hist_wat\n",
      "✅ Stored: WEC → Table: hist_wec\n",
      "✅ Stored: WFC → Table: hist_wfc\n",
      "✅ Stored: WELL → Table: hist_well\n",
      "✅ Stored: WST → Table: hist_wst\n",
      "✅ Stored: WDC → Table: hist_wdc\n",
      "✅ Stored: WY → Table: hist_wy\n",
      "✅ Stored: WSM → Table: hist_wsm\n",
      "✅ Stored: WMB → Table: hist_wmb\n",
      "✅ Stored: WTW → Table: hist_wtw\n",
      "✅ Stored: WDAY → Table: hist_wday\n",
      "✅ Stored: WYNN → Table: hist_wynn\n",
      "✅ Stored: XEL → Table: hist_xel\n",
      "✅ Stored: XYL → Table: hist_xyl\n",
      "✅ Stored: YUM → Table: hist_yum\n"
     ]
    },
    {
     "name": "stderr",
     "output_type": "stream",
     "text": [
      "C:\\Users\\Riyanshi Kedia\\AppData\\Local\\Temp\\ipykernel_24388\\2296189172.py:8: FutureWarning: YF.download() has changed argument auto_adjust default to True\n",
      "  data = yf.download(batch, start=start_date, end=end_date, group_by='ticker', threads=True)\n",
      "[*********************100%***********************]  3 of 3 completed"
     ]
    },
    {
     "name": "stdout",
     "output_type": "stream",
     "text": [
      "🔄 Fetching batch 501 to 503\n"
     ]
    },
    {
     "name": "stderr",
     "output_type": "stream",
     "text": [
      "\n"
     ]
    },
    {
     "name": "stdout",
     "output_type": "stream",
     "text": [
      "✅ Stored: ZBRA → Table: hist_zbra\n",
      "✅ Stored: ZBH → Table: hist_zbh\n",
      "✅ Stored: ZTS → Table: hist_zts\n"
     ]
    }
   ],
   "source": [
    "fetch_and_store(tickers, batch_size=20)"
   ]
  },
  {
   "cell_type": "code",
   "execution_count": null,
   "id": "eaf527db-a46d-4134-8035-f06fe10baf2f",
   "metadata": {},
   "outputs": [],
   "source": []
  }
 ],
 "metadata": {
  "kernelspec": {
   "display_name": "Python 3 (ipykernel)",
   "language": "python",
   "name": "python3"
  },
  "language_info": {
   "codemirror_mode": {
    "name": "ipython",
    "version": 3
   },
   "file_extension": ".py",
   "mimetype": "text/x-python",
   "name": "python",
   "nbconvert_exporter": "python",
   "pygments_lexer": "ipython3",
   "version": "3.12.7"
  }
 },
 "nbformat": 4,
 "nbformat_minor": 5
}
