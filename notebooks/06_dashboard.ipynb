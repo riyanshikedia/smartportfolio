{
 "cells": [
  {
   "cell_type": "markdown",
   "id": "md_0",
   "metadata": {},
   "source": [
    "# 📊 SmartPortfolio AI - Interactive Dashboard\n",
    "\n",
    "## Notebook 06: Portfolio Analytics & Insights\n",
    "\n",
    "**Goal**: Comprehensive visualization and analysis of your AI-powered investment strategy\n",
    "\n",
    "**What You'll See**:\n",
    "- 📈 **Portfolio Overview**: Holdings, allocation, and performance\n",
    "- 🎯 **Stock Analysis**: Individual stock metrics and rankings\n",
    "- 🧠 **ML Model Insights**: Prediction accuracy and feature importance\n",
    "- 📊 **Risk Dashboard**: Volatility, correlations, and risk metrics\n",
    "- 💰 **Performance Tracking**: Returns, Sharpe ratio, and benchmark comparison\n",
    "- 🔮 **Future Outlook**: Monte Carlo projections and recommendations\n",
    "\n",
    "**Interactive Features**:\n",
    "- Plotly charts (hover, zoom, filter)\n",
    "- Sector breakdowns\n",
    "- Stock deep-dives\n",
    "- Risk heat maps\n",
    "\n",
    "**Last Updated**: 2025-10-03 16:32\n",
    "\n",
    "---\n"
   ]
  },
  {
   "cell_type": "markdown",
   "id": "md_1",
   "metadata": {},
   "source": [
    "## 📚 Step 1: Import Libraries\n"
   ]
  },
  {
   "cell_type": "code",
   "execution_count": 1,
   "id": "code_2",
   "metadata": {},
   "outputs": [
    {
     "name": "stdout",
     "output_type": "stream",
     "text": [
      "✅ Libraries loaded successfully!\n",
      "📁 Project root: /Users/RiyanshiKedia/Documents/GitHub/smartportfolio/SmartPortfolio\n"
     ]
    }
   ],
   "source": [
    "import sys\n",
    "from pathlib import Path\n",
    "import warnings\n",
    "warnings.filterwarnings('ignore')\n",
    "\n",
    "import pandas as pd\n",
    "import numpy as np\n",
    "from datetime import datetime, timedelta\n",
    "import json\n",
    "\n",
    "# Database\n",
    "from dotenv import load_dotenv\n",
    "project_root = Path.cwd().parent\n",
    "sys.path.insert(0, str(project_root))\n",
    "load_dotenv(project_root / '.env')\n",
    "from utils.database_connector import DatabaseConnector\n",
    "\n",
    "# Visualization\n",
    "import matplotlib.pyplot as plt\n",
    "import seaborn as sns\n",
    "import plotly.graph_objects as go\n",
    "import plotly.express as px\n",
    "from plotly.subplots import make_subplots\n",
    "%matplotlib inline\n",
    "\n",
    "# Set styling\n",
    "sns.set_style(\"whitegrid\")\n",
    "plt.rcParams['figure.figsize'] = (12, 6)\n",
    "\n",
    "print(\"✅ Libraries loaded successfully!\")\n",
    "print(f\"📁 Project root: {project_root}\")\n"
   ]
  },
  {
   "cell_type": "markdown",
   "id": "md_3",
   "metadata": {},
   "source": [
    "## 📂 Step 2: Load Portfolio Data\n"
   ]
  },
  {
   "cell_type": "code",
   "execution_count": 2,
   "id": "code_4",
   "metadata": {},
   "outputs": [
    {
     "name": "stdout",
     "output_type": "stream",
     "text": [
      "✅ Portfolio loaded: portfolio_allocation_20251003_1611.csv\n",
      "   Stocks: 50\n",
      "   Total Value: $5,000.00\n",
      "✅ Portfolio summary loaded\n",
      "✅ ML predictions loaded: 503 stocks\n",
      "✅ Performance simulation loaded\n",
      "\n",
      "✅ All data loaded!\n"
     ]
    }
   ],
   "source": [
    "# Find latest output files\n",
    "data_dir = project_root / 'data' / 'processed'\n",
    "\n",
    "# Load portfolio allocation\n",
    "portfolio_files = sorted(data_dir.glob('portfolio_allocation_*.csv'), reverse=True)\n",
    "if not portfolio_files:\n",
    "    raise FileNotFoundError(\"No portfolio files found. Run Notebook 04 first!\")\n",
    "\n",
    "portfolio_file = portfolio_files[0]\n",
    "portfolio = pd.read_csv(portfolio_file)\n",
    "portfolio = portfolio[portfolio['weight'] > 0.001].copy()\n",
    "\n",
    "print(f\"✅ Portfolio loaded: {portfolio_file.name}\")\n",
    "print(f\"   Stocks: {len(portfolio)}\")\n",
    "print(f\"   Total Value: ${portfolio['dollar_amount'].sum():,.2f}\")\n",
    "\n",
    "# Load portfolio summary\n",
    "summary_files = sorted(data_dir.glob('portfolio_summary_*.json'), reverse=True)\n",
    "if summary_files:\n",
    "    with open(summary_files[0], 'r') as f:\n",
    "        portfolio_summary = json.load(f)\n",
    "    print(f\"✅ Portfolio summary loaded\")\n",
    "else:\n",
    "    portfolio_summary = None\n",
    "    print(\"⚠️  Portfolio summary not found\")\n",
    "\n",
    "# Load ML predictions\n",
    "ml_files = sorted(data_dir.glob('ml_predictions_*.csv'), reverse=True)\n",
    "if ml_files:\n",
    "    ml_predictions = pd.read_csv(ml_files[0])\n",
    "    print(f\"✅ ML predictions loaded: {len(ml_predictions)} stocks\")\n",
    "else:\n",
    "    ml_predictions = None\n",
    "    print(\"⚠️  ML predictions not found\")\n",
    "\n",
    "# Load performance simulation\n",
    "sim_files = sorted(data_dir.glob('performance_simulation_*.json'), reverse=True)\n",
    "if sim_files:\n",
    "    with open(sim_files[0], 'r') as f:\n",
    "        performance = json.load(f)\n",
    "    print(f\"✅ Performance simulation loaded\")\n",
    "else:\n",
    "    performance = None\n",
    "    print(\"⚠️  Performance simulation not found\")\n",
    "\n",
    "print(\"\\n✅ All data loaded!\")\n"
   ]
  },
  {
   "cell_type": "markdown",
   "id": "md_5",
   "metadata": {},
   "source": [
    "## 📊 Step 3: Portfolio Overview Dashboard\n"
   ]
  },
  {
   "cell_type": "code",
   "execution_count": 3,
   "id": "code_6",
   "metadata": {},
   "outputs": [
    {
     "name": "stdout",
     "output_type": "stream",
     "text": [
      "================================================================================\n",
      "💼 PORTFOLIO OVERVIEW\n",
      "================================================================================\n",
      "\n",
      "💰 Total Portfolio Value: $5,000.00\n",
      "📈 Number of Holdings: 50\n",
      "🏆 Top Holding: NEE (NextEra Energy)\n",
      "   Weight: 10.00%\n",
      "   Value: $500.00\n",
      "\n",
      "🏢 Sector Diversification:\n",
      "   Financials                $   1,266 ( 25.3%)\n",
      "   Consumer Staples          $   1,006 ( 20.1%)\n",
      "   Health Care               $     600 ( 12.0%)\n",
      "   Utilities                 $     550 ( 11.0%)\n",
      "   Communication Services    $     400 (  8.0%)\n",
      "   Information Technology    $     400 (  8.0%)\n",
      "   Industrials               $     328 (  6.6%)\n",
      "   Consumer Discretionary    $     200 (  4.0%)\n",
      "   Materials                 $     150 (  3.0%)\n",
      "   Energy                    $     100 (  2.0%)\n",
      "\n",
      "📊 Concentration:\n",
      "   Top 5 holdings: 47.3%\n",
      "   Top 10 holdings: 60.0%\n",
      "================================================================================\n"
     ]
    }
   ],
   "source": [
    "# Create summary statistics\n",
    "total_value = portfolio['dollar_amount'].sum()\n",
    "num_stocks = len(portfolio)\n",
    "top_holding = portfolio.iloc[0]\n",
    "\n",
    "print(\"=\" * 80)\n",
    "print(\"💼 PORTFOLIO OVERVIEW\")\n",
    "print(\"=\" * 80)\n",
    "print(f\"\\n💰 Total Portfolio Value: ${total_value:,.2f}\")\n",
    "print(f\"📈 Number of Holdings: {num_stocks}\")\n",
    "print(f\"🏆 Top Holding: {top_holding['ticker']} ({top_holding['company_name']})\")\n",
    "print(f\"   Weight: {top_holding['weight']*100:.2f}%\")\n",
    "print(f\"   Value: ${top_holding['dollar_amount']:,.2f}\")\n",
    "\n",
    "# Sector breakdown\n",
    "if 'sector' in portfolio.columns:\n",
    "    print(f\"\\n🏢 Sector Diversification:\")\n",
    "    sector_alloc = portfolio.groupby('sector')['dollar_amount'].sum().sort_values(ascending=False)\n",
    "    for sector, amount in sector_alloc.items():\n",
    "        pct = (amount / total_value) * 100\n",
    "        print(f\"   {sector:<25} ${amount:>8,.0f} ({pct:>5.1f}%)\")\n",
    "\n",
    "# Concentration metrics\n",
    "top_5_weight = portfolio.head(5)['weight'].sum()\n",
    "top_10_weight = portfolio.head(10)['weight'].sum()\n",
    "print(f\"\\n📊 Concentration:\")\n",
    "print(f\"   Top 5 holdings: {top_5_weight*100:.1f}%\")\n",
    "print(f\"   Top 10 holdings: {top_10_weight*100:.1f}%\")\n",
    "\n",
    "print(\"=\" * 80)\n"
   ]
  },
  {
   "cell_type": "markdown",
   "id": "md_7",
   "metadata": {},
   "source": [
    "## 📈 Step 4: Portfolio Allocation Visualizations\n"
   ]
  },
  {
   "cell_type": "code",
   "execution_count": 4,
   "id": "code_8",
   "metadata": {},
   "outputs": [
    {
     "data": {
      "application/vnd.plotly.v1+json": {
       "config": {
        "plotlyServerURL": "https://plot.ly"
       },
       "data": [
        {
         "hovertemplate": "<b>%{y}</b><br>Weight: %{x:.2f}%<br><extra></extra>",
         "marker": {
          "color": {
           "bdata": "2gkAAAAA8D80CgAAAADwP7sKAAAAAPA/QgsAAAAA8D9+DAAAAADwPyEPAAAAAPA/axEAAAAA8D/yEQAAAADwP/pmFo1+ewxAhgsBpZGCGECBy3MUrz8dQGL7/////yNAc/3/////I0B///////8jQLf//////yNA",
           "dtype": "f8"
          },
          "colorbar": {
           "title": {
            "text": "Weight (%)"
           }
          },
          "colorscale": [
           [
            0,
            "#440154"
           ],
           [
            0.1111111111111111,
            "#482878"
           ],
           [
            0.2222222222222222,
            "#3e4989"
           ],
           [
            0.3333333333333333,
            "#31688e"
           ],
           [
            0.4444444444444444,
            "#26828e"
           ],
           [
            0.5555555555555556,
            "#1f9e89"
           ],
           [
            0.6666666666666666,
            "#35b779"
           ],
           [
            0.7777777777777778,
            "#6ece58"
           ],
           [
            0.8888888888888888,
            "#b5de2b"
           ],
           [
            1,
            "#fde725"
           ]
          ],
          "showscale": true
         },
         "orientation": "h",
         "text": [
          "1.0%",
          "1.0%",
          "1.0%",
          "1.0%",
          "1.0%",
          "1.0%",
          "1.0%",
          "1.0%",
          "3.6%",
          "6.1%",
          "7.3%",
          "10.0%",
          "10.0%",
          "10.0%",
          "10.0%"
         ],
         "textposition": "auto",
         "type": "bar",
         "x": {
          "bdata": "2gkAAAAA8D80CgAAAADwP7sKAAAAAPA/QgsAAAAA8D9+DAAAAADwPyEPAAAAAPA/axEAAAAA8D/yEQAAAADwP/pmFo1+ewxAhgsBpZGCGECBy3MUrz8dQGL7/////yNAc/3/////I0B///////8jQLf//////yNA",
          "dtype": "f8"
         },
         "y": [
          "PM",
          "T",
          "KO",
          "SMCI",
          "MRNA",
          "HOOD",
          "FCX",
          "SLB",
          "BA",
          "PG",
          "C",
          "WFC",
          "CNC",
          "MDLZ",
          "NEE"
         ]
        }
       ],
       "layout": {
        "height": 600,
        "showlegend": false,
        "template": {
         "data": {
          "bar": [
           {
            "error_x": {
             "color": "#2a3f5f"
            },
            "error_y": {
             "color": "#2a3f5f"
            },
            "marker": {
             "line": {
              "color": "white",
              "width": 0.5
             },
             "pattern": {
              "fillmode": "overlay",
              "size": 10,
              "solidity": 0.2
             }
            },
            "type": "bar"
           }
          ],
          "barpolar": [
           {
            "marker": {
             "line": {
              "color": "white",
              "width": 0.5
             },
             "pattern": {
              "fillmode": "overlay",
              "size": 10,
              "solidity": 0.2
             }
            },
            "type": "barpolar"
           }
          ],
          "carpet": [
           {
            "aaxis": {
             "endlinecolor": "#2a3f5f",
             "gridcolor": "#C8D4E3",
             "linecolor": "#C8D4E3",
             "minorgridcolor": "#C8D4E3",
             "startlinecolor": "#2a3f5f"
            },
            "baxis": {
             "endlinecolor": "#2a3f5f",
             "gridcolor": "#C8D4E3",
             "linecolor": "#C8D4E3",
             "minorgridcolor": "#C8D4E3",
             "startlinecolor": "#2a3f5f"
            },
            "type": "carpet"
           }
          ],
          "choropleth": [
           {
            "colorbar": {
             "outlinewidth": 0,
             "ticks": ""
            },
            "type": "choropleth"
           }
          ],
          "contour": [
           {
            "colorbar": {
             "outlinewidth": 0,
             "ticks": ""
            },
            "colorscale": [
             [
              0,
              "#0d0887"
             ],
             [
              0.1111111111111111,
              "#46039f"
             ],
             [
              0.2222222222222222,
              "#7201a8"
             ],
             [
              0.3333333333333333,
              "#9c179e"
             ],
             [
              0.4444444444444444,
              "#bd3786"
             ],
             [
              0.5555555555555556,
              "#d8576b"
             ],
             [
              0.6666666666666666,
              "#ed7953"
             ],
             [
              0.7777777777777778,
              "#fb9f3a"
             ],
             [
              0.8888888888888888,
              "#fdca26"
             ],
             [
              1,
              "#f0f921"
             ]
            ],
            "type": "contour"
           }
          ],
          "contourcarpet": [
           {
            "colorbar": {
             "outlinewidth": 0,
             "ticks": ""
            },
            "type": "contourcarpet"
           }
          ],
          "heatmap": [
           {
            "colorbar": {
             "outlinewidth": 0,
             "ticks": ""
            },
            "colorscale": [
             [
              0,
              "#0d0887"
             ],
             [
              0.1111111111111111,
              "#46039f"
             ],
             [
              0.2222222222222222,
              "#7201a8"
             ],
             [
              0.3333333333333333,
              "#9c179e"
             ],
             [
              0.4444444444444444,
              "#bd3786"
             ],
             [
              0.5555555555555556,
              "#d8576b"
             ],
             [
              0.6666666666666666,
              "#ed7953"
             ],
             [
              0.7777777777777778,
              "#fb9f3a"
             ],
             [
              0.8888888888888888,
              "#fdca26"
             ],
             [
              1,
              "#f0f921"
             ]
            ],
            "type": "heatmap"
           }
          ],
          "histogram": [
           {
            "marker": {
             "pattern": {
              "fillmode": "overlay",
              "size": 10,
              "solidity": 0.2
             }
            },
            "type": "histogram"
           }
          ],
          "histogram2d": [
           {
            "colorbar": {
             "outlinewidth": 0,
             "ticks": ""
            },
            "colorscale": [
             [
              0,
              "#0d0887"
             ],
             [
              0.1111111111111111,
              "#46039f"
             ],
             [
              0.2222222222222222,
              "#7201a8"
             ],
             [
              0.3333333333333333,
              "#9c179e"
             ],
             [
              0.4444444444444444,
              "#bd3786"
             ],
             [
              0.5555555555555556,
              "#d8576b"
             ],
             [
              0.6666666666666666,
              "#ed7953"
             ],
             [
              0.7777777777777778,
              "#fb9f3a"
             ],
             [
              0.8888888888888888,
              "#fdca26"
             ],
             [
              1,
              "#f0f921"
             ]
            ],
            "type": "histogram2d"
           }
          ],
          "histogram2dcontour": [
           {
            "colorbar": {
             "outlinewidth": 0,
             "ticks": ""
            },
            "colorscale": [
             [
              0,
              "#0d0887"
             ],
             [
              0.1111111111111111,
              "#46039f"
             ],
             [
              0.2222222222222222,
              "#7201a8"
             ],
             [
              0.3333333333333333,
              "#9c179e"
             ],
             [
              0.4444444444444444,
              "#bd3786"
             ],
             [
              0.5555555555555556,
              "#d8576b"
             ],
             [
              0.6666666666666666,
              "#ed7953"
             ],
             [
              0.7777777777777778,
              "#fb9f3a"
             ],
             [
              0.8888888888888888,
              "#fdca26"
             ],
             [
              1,
              "#f0f921"
             ]
            ],
            "type": "histogram2dcontour"
           }
          ],
          "mesh3d": [
           {
            "colorbar": {
             "outlinewidth": 0,
             "ticks": ""
            },
            "type": "mesh3d"
           }
          ],
          "parcoords": [
           {
            "line": {
             "colorbar": {
              "outlinewidth": 0,
              "ticks": ""
             }
            },
            "type": "parcoords"
           }
          ],
          "pie": [
           {
            "automargin": true,
            "type": "pie"
           }
          ],
          "scatter": [
           {
            "fillpattern": {
             "fillmode": "overlay",
             "size": 10,
             "solidity": 0.2
            },
            "type": "scatter"
           }
          ],
          "scatter3d": [
           {
            "line": {
             "colorbar": {
              "outlinewidth": 0,
              "ticks": ""
             }
            },
            "marker": {
             "colorbar": {
              "outlinewidth": 0,
              "ticks": ""
             }
            },
            "type": "scatter3d"
           }
          ],
          "scattercarpet": [
           {
            "marker": {
             "colorbar": {
              "outlinewidth": 0,
              "ticks": ""
             }
            },
            "type": "scattercarpet"
           }
          ],
          "scattergeo": [
           {
            "marker": {
             "colorbar": {
              "outlinewidth": 0,
              "ticks": ""
             }
            },
            "type": "scattergeo"
           }
          ],
          "scattergl": [
           {
            "marker": {
             "colorbar": {
              "outlinewidth": 0,
              "ticks": ""
             }
            },
            "type": "scattergl"
           }
          ],
          "scattermap": [
           {
            "marker": {
             "colorbar": {
              "outlinewidth": 0,
              "ticks": ""
             }
            },
            "type": "scattermap"
           }
          ],
          "scattermapbox": [
           {
            "marker": {
             "colorbar": {
              "outlinewidth": 0,
              "ticks": ""
             }
            },
            "type": "scattermapbox"
           }
          ],
          "scatterpolar": [
           {
            "marker": {
             "colorbar": {
              "outlinewidth": 0,
              "ticks": ""
             }
            },
            "type": "scatterpolar"
           }
          ],
          "scatterpolargl": [
           {
            "marker": {
             "colorbar": {
              "outlinewidth": 0,
              "ticks": ""
             }
            },
            "type": "scatterpolargl"
           }
          ],
          "scatterternary": [
           {
            "marker": {
             "colorbar": {
              "outlinewidth": 0,
              "ticks": ""
             }
            },
            "type": "scatterternary"
           }
          ],
          "surface": [
           {
            "colorbar": {
             "outlinewidth": 0,
             "ticks": ""
            },
            "colorscale": [
             [
              0,
              "#0d0887"
             ],
             [
              0.1111111111111111,
              "#46039f"
             ],
             [
              0.2222222222222222,
              "#7201a8"
             ],
             [
              0.3333333333333333,
              "#9c179e"
             ],
             [
              0.4444444444444444,
              "#bd3786"
             ],
             [
              0.5555555555555556,
              "#d8576b"
             ],
             [
              0.6666666666666666,
              "#ed7953"
             ],
             [
              0.7777777777777778,
              "#fb9f3a"
             ],
             [
              0.8888888888888888,
              "#fdca26"
             ],
             [
              1,
              "#f0f921"
             ]
            ],
            "type": "surface"
           }
          ],
          "table": [
           {
            "cells": {
             "fill": {
              "color": "#EBF0F8"
             },
             "line": {
              "color": "white"
             }
            },
            "header": {
             "fill": {
              "color": "#C8D4E3"
             },
             "line": {
              "color": "white"
             }
            },
            "type": "table"
           }
          ]
         },
         "layout": {
          "annotationdefaults": {
           "arrowcolor": "#2a3f5f",
           "arrowhead": 0,
           "arrowwidth": 1
          },
          "autotypenumbers": "strict",
          "coloraxis": {
           "colorbar": {
            "outlinewidth": 0,
            "ticks": ""
           }
          },
          "colorscale": {
           "diverging": [
            [
             0,
             "#8e0152"
            ],
            [
             0.1,
             "#c51b7d"
            ],
            [
             0.2,
             "#de77ae"
            ],
            [
             0.3,
             "#f1b6da"
            ],
            [
             0.4,
             "#fde0ef"
            ],
            [
             0.5,
             "#f7f7f7"
            ],
            [
             0.6,
             "#e6f5d0"
            ],
            [
             0.7,
             "#b8e186"
            ],
            [
             0.8,
             "#7fbc41"
            ],
            [
             0.9,
             "#4d9221"
            ],
            [
             1,
             "#276419"
            ]
           ],
           "sequential": [
            [
             0,
             "#0d0887"
            ],
            [
             0.1111111111111111,
             "#46039f"
            ],
            [
             0.2222222222222222,
             "#7201a8"
            ],
            [
             0.3333333333333333,
             "#9c179e"
            ],
            [
             0.4444444444444444,
             "#bd3786"
            ],
            [
             0.5555555555555556,
             "#d8576b"
            ],
            [
             0.6666666666666666,
             "#ed7953"
            ],
            [
             0.7777777777777778,
             "#fb9f3a"
            ],
            [
             0.8888888888888888,
             "#fdca26"
            ],
            [
             1,
             "#f0f921"
            ]
           ],
           "sequentialminus": [
            [
             0,
             "#0d0887"
            ],
            [
             0.1111111111111111,
             "#46039f"
            ],
            [
             0.2222222222222222,
             "#7201a8"
            ],
            [
             0.3333333333333333,
             "#9c179e"
            ],
            [
             0.4444444444444444,
             "#bd3786"
            ],
            [
             0.5555555555555556,
             "#d8576b"
            ],
            [
             0.6666666666666666,
             "#ed7953"
            ],
            [
             0.7777777777777778,
             "#fb9f3a"
            ],
            [
             0.8888888888888888,
             "#fdca26"
            ],
            [
             1,
             "#f0f921"
            ]
           ]
          },
          "colorway": [
           "#636efa",
           "#EF553B",
           "#00cc96",
           "#ab63fa",
           "#FFA15A",
           "#19d3f3",
           "#FF6692",
           "#B6E880",
           "#FF97FF",
           "#FECB52"
          ],
          "font": {
           "color": "#2a3f5f"
          },
          "geo": {
           "bgcolor": "white",
           "lakecolor": "white",
           "landcolor": "white",
           "showlakes": true,
           "showland": true,
           "subunitcolor": "#C8D4E3"
          },
          "hoverlabel": {
           "align": "left"
          },
          "hovermode": "closest",
          "mapbox": {
           "style": "light"
          },
          "paper_bgcolor": "white",
          "plot_bgcolor": "white",
          "polar": {
           "angularaxis": {
            "gridcolor": "#EBF0F8",
            "linecolor": "#EBF0F8",
            "ticks": ""
           },
           "bgcolor": "white",
           "radialaxis": {
            "gridcolor": "#EBF0F8",
            "linecolor": "#EBF0F8",
            "ticks": ""
           }
          },
          "scene": {
           "xaxis": {
            "backgroundcolor": "white",
            "gridcolor": "#DFE8F3",
            "gridwidth": 2,
            "linecolor": "#EBF0F8",
            "showbackground": true,
            "ticks": "",
            "zerolinecolor": "#EBF0F8"
           },
           "yaxis": {
            "backgroundcolor": "white",
            "gridcolor": "#DFE8F3",
            "gridwidth": 2,
            "linecolor": "#EBF0F8",
            "showbackground": true,
            "ticks": "",
            "zerolinecolor": "#EBF0F8"
           },
           "zaxis": {
            "backgroundcolor": "white",
            "gridcolor": "#DFE8F3",
            "gridwidth": 2,
            "linecolor": "#EBF0F8",
            "showbackground": true,
            "ticks": "",
            "zerolinecolor": "#EBF0F8"
           }
          },
          "shapedefaults": {
           "line": {
            "color": "#2a3f5f"
           }
          },
          "ternary": {
           "aaxis": {
            "gridcolor": "#DFE8F3",
            "linecolor": "#A2B1C6",
            "ticks": ""
           },
           "baxis": {
            "gridcolor": "#DFE8F3",
            "linecolor": "#A2B1C6",
            "ticks": ""
           },
           "bgcolor": "white",
           "caxis": {
            "gridcolor": "#DFE8F3",
            "linecolor": "#A2B1C6",
            "ticks": ""
           }
          },
          "title": {
           "x": 0.05
          },
          "xaxis": {
           "automargin": true,
           "gridcolor": "#EBF0F8",
           "linecolor": "#EBF0F8",
           "ticks": "",
           "title": {
            "standoff": 15
           },
           "zerolinecolor": "#EBF0F8",
           "zerolinewidth": 2
          },
          "yaxis": {
           "automargin": true,
           "gridcolor": "#EBF0F8",
           "linecolor": "#EBF0F8",
           "ticks": "",
           "title": {
            "standoff": 15
           },
           "zerolinecolor": "#EBF0F8",
           "zerolinewidth": 2
          }
         }
        },
        "title": {
         "text": "Top 15 Portfolio Holdings"
        },
        "xaxis": {
         "title": {
          "text": "Portfolio Weight (%)"
         }
        },
        "yaxis": {
         "title": {
          "text": "Ticker"
         }
        }
       }
      }
     },
     "metadata": {},
     "output_type": "display_data"
    },
    {
     "data": {
      "application/vnd.plotly.v1+json": {
       "config": {
        "plotlyServerURL": "https://plot.ly"
       },
       "data": [
        {
         "hole": 0.4,
         "hovertemplate": "<b>%{label}</b><br>Value: $%{value:,.0f}<br>Percent: %{percent}<extra></extra>",
         "labels": [
          "Communication Services",
          "Consumer Discretionary",
          "Consumer Staples",
          "Energy",
          "Financials",
          "Health Care",
          "Industrials",
          "Information Technology",
          "Materials",
          "Utilities"
         ],
         "textinfo": "label+percent",
         "type": "pie",
         "values": {
          "bdata": "VAUAAAAAeUBsAgAAAABpQH9rdOQAc49AHg4AAAAAWUCFnf4xcMaTQED/////v4JA7MAcbz2AdEB0BAAAAAB5QNUGAAAAwGJA5/////8vgUA=",
          "dtype": "f8"
         }
        }
       ],
       "layout": {
        "height": 500,
        "template": {
         "data": {
          "bar": [
           {
            "error_x": {
             "color": "#2a3f5f"
            },
            "error_y": {
             "color": "#2a3f5f"
            },
            "marker": {
             "line": {
              "color": "white",
              "width": 0.5
             },
             "pattern": {
              "fillmode": "overlay",
              "size": 10,
              "solidity": 0.2
             }
            },
            "type": "bar"
           }
          ],
          "barpolar": [
           {
            "marker": {
             "line": {
              "color": "white",
              "width": 0.5
             },
             "pattern": {
              "fillmode": "overlay",
              "size": 10,
              "solidity": 0.2
             }
            },
            "type": "barpolar"
           }
          ],
          "carpet": [
           {
            "aaxis": {
             "endlinecolor": "#2a3f5f",
             "gridcolor": "#C8D4E3",
             "linecolor": "#C8D4E3",
             "minorgridcolor": "#C8D4E3",
             "startlinecolor": "#2a3f5f"
            },
            "baxis": {
             "endlinecolor": "#2a3f5f",
             "gridcolor": "#C8D4E3",
             "linecolor": "#C8D4E3",
             "minorgridcolor": "#C8D4E3",
             "startlinecolor": "#2a3f5f"
            },
            "type": "carpet"
           }
          ],
          "choropleth": [
           {
            "colorbar": {
             "outlinewidth": 0,
             "ticks": ""
            },
            "type": "choropleth"
           }
          ],
          "contour": [
           {
            "colorbar": {
             "outlinewidth": 0,
             "ticks": ""
            },
            "colorscale": [
             [
              0,
              "#0d0887"
             ],
             [
              0.1111111111111111,
              "#46039f"
             ],
             [
              0.2222222222222222,
              "#7201a8"
             ],
             [
              0.3333333333333333,
              "#9c179e"
             ],
             [
              0.4444444444444444,
              "#bd3786"
             ],
             [
              0.5555555555555556,
              "#d8576b"
             ],
             [
              0.6666666666666666,
              "#ed7953"
             ],
             [
              0.7777777777777778,
              "#fb9f3a"
             ],
             [
              0.8888888888888888,
              "#fdca26"
             ],
             [
              1,
              "#f0f921"
             ]
            ],
            "type": "contour"
           }
          ],
          "contourcarpet": [
           {
            "colorbar": {
             "outlinewidth": 0,
             "ticks": ""
            },
            "type": "contourcarpet"
           }
          ],
          "heatmap": [
           {
            "colorbar": {
             "outlinewidth": 0,
             "ticks": ""
            },
            "colorscale": [
             [
              0,
              "#0d0887"
             ],
             [
              0.1111111111111111,
              "#46039f"
             ],
             [
              0.2222222222222222,
              "#7201a8"
             ],
             [
              0.3333333333333333,
              "#9c179e"
             ],
             [
              0.4444444444444444,
              "#bd3786"
             ],
             [
              0.5555555555555556,
              "#d8576b"
             ],
             [
              0.6666666666666666,
              "#ed7953"
             ],
             [
              0.7777777777777778,
              "#fb9f3a"
             ],
             [
              0.8888888888888888,
              "#fdca26"
             ],
             [
              1,
              "#f0f921"
             ]
            ],
            "type": "heatmap"
           }
          ],
          "histogram": [
           {
            "marker": {
             "pattern": {
              "fillmode": "overlay",
              "size": 10,
              "solidity": 0.2
             }
            },
            "type": "histogram"
           }
          ],
          "histogram2d": [
           {
            "colorbar": {
             "outlinewidth": 0,
             "ticks": ""
            },
            "colorscale": [
             [
              0,
              "#0d0887"
             ],
             [
              0.1111111111111111,
              "#46039f"
             ],
             [
              0.2222222222222222,
              "#7201a8"
             ],
             [
              0.3333333333333333,
              "#9c179e"
             ],
             [
              0.4444444444444444,
              "#bd3786"
             ],
             [
              0.5555555555555556,
              "#d8576b"
             ],
             [
              0.6666666666666666,
              "#ed7953"
             ],
             [
              0.7777777777777778,
              "#fb9f3a"
             ],
             [
              0.8888888888888888,
              "#fdca26"
             ],
             [
              1,
              "#f0f921"
             ]
            ],
            "type": "histogram2d"
           }
          ],
          "histogram2dcontour": [
           {
            "colorbar": {
             "outlinewidth": 0,
             "ticks": ""
            },
            "colorscale": [
             [
              0,
              "#0d0887"
             ],
             [
              0.1111111111111111,
              "#46039f"
             ],
             [
              0.2222222222222222,
              "#7201a8"
             ],
             [
              0.3333333333333333,
              "#9c179e"
             ],
             [
              0.4444444444444444,
              "#bd3786"
             ],
             [
              0.5555555555555556,
              "#d8576b"
             ],
             [
              0.6666666666666666,
              "#ed7953"
             ],
             [
              0.7777777777777778,
              "#fb9f3a"
             ],
             [
              0.8888888888888888,
              "#fdca26"
             ],
             [
              1,
              "#f0f921"
             ]
            ],
            "type": "histogram2dcontour"
           }
          ],
          "mesh3d": [
           {
            "colorbar": {
             "outlinewidth": 0,
             "ticks": ""
            },
            "type": "mesh3d"
           }
          ],
          "parcoords": [
           {
            "line": {
             "colorbar": {
              "outlinewidth": 0,
              "ticks": ""
             }
            },
            "type": "parcoords"
           }
          ],
          "pie": [
           {
            "automargin": true,
            "type": "pie"
           }
          ],
          "scatter": [
           {
            "fillpattern": {
             "fillmode": "overlay",
             "size": 10,
             "solidity": 0.2
            },
            "type": "scatter"
           }
          ],
          "scatter3d": [
           {
            "line": {
             "colorbar": {
              "outlinewidth": 0,
              "ticks": ""
             }
            },
            "marker": {
             "colorbar": {
              "outlinewidth": 0,
              "ticks": ""
             }
            },
            "type": "scatter3d"
           }
          ],
          "scattercarpet": [
           {
            "marker": {
             "colorbar": {
              "outlinewidth": 0,
              "ticks": ""
             }
            },
            "type": "scattercarpet"
           }
          ],
          "scattergeo": [
           {
            "marker": {
             "colorbar": {
              "outlinewidth": 0,
              "ticks": ""
             }
            },
            "type": "scattergeo"
           }
          ],
          "scattergl": [
           {
            "marker": {
             "colorbar": {
              "outlinewidth": 0,
              "ticks": ""
             }
            },
            "type": "scattergl"
           }
          ],
          "scattermap": [
           {
            "marker": {
             "colorbar": {
              "outlinewidth": 0,
              "ticks": ""
             }
            },
            "type": "scattermap"
           }
          ],
          "scattermapbox": [
           {
            "marker": {
             "colorbar": {
              "outlinewidth": 0,
              "ticks": ""
             }
            },
            "type": "scattermapbox"
           }
          ],
          "scatterpolar": [
           {
            "marker": {
             "colorbar": {
              "outlinewidth": 0,
              "ticks": ""
             }
            },
            "type": "scatterpolar"
           }
          ],
          "scatterpolargl": [
           {
            "marker": {
             "colorbar": {
              "outlinewidth": 0,
              "ticks": ""
             }
            },
            "type": "scatterpolargl"
           }
          ],
          "scatterternary": [
           {
            "marker": {
             "colorbar": {
              "outlinewidth": 0,
              "ticks": ""
             }
            },
            "type": "scatterternary"
           }
          ],
          "surface": [
           {
            "colorbar": {
             "outlinewidth": 0,
             "ticks": ""
            },
            "colorscale": [
             [
              0,
              "#0d0887"
             ],
             [
              0.1111111111111111,
              "#46039f"
             ],
             [
              0.2222222222222222,
              "#7201a8"
             ],
             [
              0.3333333333333333,
              "#9c179e"
             ],
             [
              0.4444444444444444,
              "#bd3786"
             ],
             [
              0.5555555555555556,
              "#d8576b"
             ],
             [
              0.6666666666666666,
              "#ed7953"
             ],
             [
              0.7777777777777778,
              "#fb9f3a"
             ],
             [
              0.8888888888888888,
              "#fdca26"
             ],
             [
              1,
              "#f0f921"
             ]
            ],
            "type": "surface"
           }
          ],
          "table": [
           {
            "cells": {
             "fill": {
              "color": "#EBF0F8"
             },
             "line": {
              "color": "white"
             }
            },
            "header": {
             "fill": {
              "color": "#C8D4E3"
             },
             "line": {
              "color": "white"
             }
            },
            "type": "table"
           }
          ]
         },
         "layout": {
          "annotationdefaults": {
           "arrowcolor": "#2a3f5f",
           "arrowhead": 0,
           "arrowwidth": 1
          },
          "autotypenumbers": "strict",
          "coloraxis": {
           "colorbar": {
            "outlinewidth": 0,
            "ticks": ""
           }
          },
          "colorscale": {
           "diverging": [
            [
             0,
             "#8e0152"
            ],
            [
             0.1,
             "#c51b7d"
            ],
            [
             0.2,
             "#de77ae"
            ],
            [
             0.3,
             "#f1b6da"
            ],
            [
             0.4,
             "#fde0ef"
            ],
            [
             0.5,
             "#f7f7f7"
            ],
            [
             0.6,
             "#e6f5d0"
            ],
            [
             0.7,
             "#b8e186"
            ],
            [
             0.8,
             "#7fbc41"
            ],
            [
             0.9,
             "#4d9221"
            ],
            [
             1,
             "#276419"
            ]
           ],
           "sequential": [
            [
             0,
             "#0d0887"
            ],
            [
             0.1111111111111111,
             "#46039f"
            ],
            [
             0.2222222222222222,
             "#7201a8"
            ],
            [
             0.3333333333333333,
             "#9c179e"
            ],
            [
             0.4444444444444444,
             "#bd3786"
            ],
            [
             0.5555555555555556,
             "#d8576b"
            ],
            [
             0.6666666666666666,
             "#ed7953"
            ],
            [
             0.7777777777777778,
             "#fb9f3a"
            ],
            [
             0.8888888888888888,
             "#fdca26"
            ],
            [
             1,
             "#f0f921"
            ]
           ],
           "sequentialminus": [
            [
             0,
             "#0d0887"
            ],
            [
             0.1111111111111111,
             "#46039f"
            ],
            [
             0.2222222222222222,
             "#7201a8"
            ],
            [
             0.3333333333333333,
             "#9c179e"
            ],
            [
             0.4444444444444444,
             "#bd3786"
            ],
            [
             0.5555555555555556,
             "#d8576b"
            ],
            [
             0.6666666666666666,
             "#ed7953"
            ],
            [
             0.7777777777777778,
             "#fb9f3a"
            ],
            [
             0.8888888888888888,
             "#fdca26"
            ],
            [
             1,
             "#f0f921"
            ]
           ]
          },
          "colorway": [
           "#636efa",
           "#EF553B",
           "#00cc96",
           "#ab63fa",
           "#FFA15A",
           "#19d3f3",
           "#FF6692",
           "#B6E880",
           "#FF97FF",
           "#FECB52"
          ],
          "font": {
           "color": "#2a3f5f"
          },
          "geo": {
           "bgcolor": "white",
           "lakecolor": "white",
           "landcolor": "white",
           "showlakes": true,
           "showland": true,
           "subunitcolor": "#C8D4E3"
          },
          "hoverlabel": {
           "align": "left"
          },
          "hovermode": "closest",
          "mapbox": {
           "style": "light"
          },
          "paper_bgcolor": "white",
          "plot_bgcolor": "white",
          "polar": {
           "angularaxis": {
            "gridcolor": "#EBF0F8",
            "linecolor": "#EBF0F8",
            "ticks": ""
           },
           "bgcolor": "white",
           "radialaxis": {
            "gridcolor": "#EBF0F8",
            "linecolor": "#EBF0F8",
            "ticks": ""
           }
          },
          "scene": {
           "xaxis": {
            "backgroundcolor": "white",
            "gridcolor": "#DFE8F3",
            "gridwidth": 2,
            "linecolor": "#EBF0F8",
            "showbackground": true,
            "ticks": "",
            "zerolinecolor": "#EBF0F8"
           },
           "yaxis": {
            "backgroundcolor": "white",
            "gridcolor": "#DFE8F3",
            "gridwidth": 2,
            "linecolor": "#EBF0F8",
            "showbackground": true,
            "ticks": "",
            "zerolinecolor": "#EBF0F8"
           },
           "zaxis": {
            "backgroundcolor": "white",
            "gridcolor": "#DFE8F3",
            "gridwidth": 2,
            "linecolor": "#EBF0F8",
            "showbackground": true,
            "ticks": "",
            "zerolinecolor": "#EBF0F8"
           }
          },
          "shapedefaults": {
           "line": {
            "color": "#2a3f5f"
           }
          },
          "ternary": {
           "aaxis": {
            "gridcolor": "#DFE8F3",
            "linecolor": "#A2B1C6",
            "ticks": ""
           },
           "baxis": {
            "gridcolor": "#DFE8F3",
            "linecolor": "#A2B1C6",
            "ticks": ""
           },
           "bgcolor": "white",
           "caxis": {
            "gridcolor": "#DFE8F3",
            "linecolor": "#A2B1C6",
            "ticks": ""
           }
          },
          "title": {
           "x": 0.05
          },
          "xaxis": {
           "automargin": true,
           "gridcolor": "#EBF0F8",
           "linecolor": "#EBF0F8",
           "ticks": "",
           "title": {
            "standoff": 15
           },
           "zerolinecolor": "#EBF0F8",
           "zerolinewidth": 2
          },
          "yaxis": {
           "automargin": true,
           "gridcolor": "#EBF0F8",
           "linecolor": "#EBF0F8",
           "ticks": "",
           "title": {
            "standoff": 15
           },
           "zerolinecolor": "#EBF0F8",
           "zerolinewidth": 2
          }
         }
        },
        "title": {
         "text": "Portfolio Allocation by Sector"
        }
       }
      }
     },
     "metadata": {},
     "output_type": "display_data"
    },
    {
     "data": {
      "application/vnd.plotly.v1+json": {
       "config": {
        "plotlyServerURL": "https://plot.ly"
       },
       "data": [
        {
         "branchvalues": "total",
         "customdata": [
          [
           "NextEra Energy",
           0.0999999999999987,
           "6"
          ],
          [
           "Mondelez International",
           0.0999999999999977,
           "7"
          ],
          [
           "Centene Corporation",
           0.0999999999999884,
           "13"
          ],
          [
           "Wells Fargo",
           0.099999999999979,
           "6"
          ],
          [
           "Citigroup",
           0.0731219131428486,
           "3"
          ],
          [
           "Procter & Gamble",
           0.0612750871485594,
           "2"
          ],
          [
           "Boeing",
           0.0356029997086159,
           "0"
          ],
          [
           "Schlumberger",
           0.010000000000010199,
           "1"
          ],
          [
           "Freeport-McMoRan",
           0.010000000000009899,
           "1"
          ],
          [
           "Robinhood Markets",
           0.010000000000008597,
           "0"
          ],
          [
           "Moderna",
           0.0100000000000071,
           "1"
          ],
          [
           "Supermicro",
           0.0100000000000064,
           "0"
          ],
          [
           "Coca-Cola Company (The)",
           0.0100000000000061,
           "0"
          ],
          [
           "AT&T",
           0.010000000000005798,
           "1"
          ],
          [
           "Philip Morris International",
           0.0100000000000056,
           "0"
          ],
          [
           "Kroger",
           0.0100000000000055,
           "0"
          ],
          [
           "Microchip Technology",
           0.010000000000004802,
           "0"
          ],
          [
           "Comcast",
           0.0100000000000046,
           "1"
          ],
          [
           "PayPal",
           0.0100000000000037,
           "0"
          ],
          [
           "Fox Corporation (Class B)",
           0.0100000000000027,
           "0"
          ],
          [
           "Nike, Inc.",
           0.010000000000002602,
           "0"
          ],
          [
           "Huntington Bancshares",
           0.0100000000000022,
           "2"
          ],
          [
           "JPMorgan Chase",
           0.0100000000000022,
           "0"
          ],
          [
           "Walmart",
           0.0100000000000022,
           "0"
          ],
          [
           "Verizon",
           0.0100000000000018,
           "1"
          ],
          [
           "Broadcom",
           0.0100000000000016,
           "0"
          ],
          [
           "Rollins, Inc.",
           0.010000000000001298,
           "0"
          ],
          [
           "KeyCorp",
           0.0100000000000013,
           "2"
          ],
          [
           "PG&E Corporation",
           0.010000000000000701,
           "3"
          ],
          [
           "Dayforce",
           0.0100000000000005,
           "0"
          ],
          [
           "(?)",
           0.09181818181818006,
           "(?)"
          ],
          [
           "(?)",
           0.07032483008994972,
           "(?)"
          ],
          [
           "(?)",
           0.09181818181816574,
           "(?)"
          ],
          [
           "(?)",
           0.07102311896869176,
           "(?)"
          ],
          [
           "(?)",
           0.026393784435055998,
           "0"
          ],
          [
           "Schlumberger",
           0.010000000000010199,
           "1"
          ],
          [
           "Freeport-McMoRan",
           0.010000000000009899,
           "1"
          ],
          [
           "(?)",
           0.010000000000004266,
           "0"
          ],
          [
           "(?)",
           0.010000000000003725,
           "(?)"
          ],
          [
           "Nike, Inc.",
           0.010000000000002602,
           "0"
          ]
         ],
         "domain": {
          "x": [
           0,
           1
          ],
          "y": [
           0,
           1
          ]
         },
         "hovertemplate": "labels=%{label}<br>dollar_amount=%{value}<br>parent=%{parent}<br>id=%{id}<br>company_name=%{customdata[0]}<br>weight=%{color:.2%}<br>shares=%{customdata[2]}<extra></extra>",
         "ids": [
          "Utilities/NEE",
          "Consumer Staples/MDLZ",
          "Health Care/CNC",
          "Financials/WFC",
          "Financials/C",
          "Consumer Staples/PG",
          "Industrials/BA",
          "Energy/SLB",
          "Materials/FCX",
          "Financials/HOOD",
          "Health Care/MRNA",
          "Information Technology/SMCI",
          "Consumer Staples/KO",
          "Communication Services/T",
          "Consumer Staples/PM",
          "Consumer Staples/KR",
          "Information Technology/MCHP",
          "Communication Services/CMCSA",
          "Financials/PYPL",
          "Communication Services/FOX",
          "Consumer Discretionary/NKE",
          "Financials/HBAN",
          "Financials/JPM",
          "Consumer Staples/WMT",
          "Communication Services/VZ",
          "Information Technology/AVGO",
          "Industrials/ROL",
          "Financials/KEY",
          "Utilities/PCG",
          "Industrials/DAY",
          "Utilities",
          "Consumer Staples",
          "Health Care",
          "Financials",
          "Industrials",
          "Energy",
          "Materials",
          "Information Technology",
          "Communication Services",
          "Consumer Discretionary"
         ],
         "labels": [
          "NEE",
          "MDLZ",
          "CNC",
          "WFC",
          "C",
          "PG",
          "BA",
          "SLB",
          "FCX",
          "HOOD",
          "MRNA",
          "SMCI",
          "KO",
          "T",
          "PM",
          "KR",
          "MCHP",
          "CMCSA",
          "PYPL",
          "FOX",
          "NKE",
          "HBAN",
          "JPM",
          "WMT",
          "VZ",
          "AVGO",
          "ROL",
          "KEY",
          "PCG",
          "DAY",
          "Utilities",
          "Consumer Staples",
          "Health Care",
          "Financials",
          "Industrials",
          "Energy",
          "Materials",
          "Information Technology",
          "Communication Services",
          "Consumer Discretionary"
         ],
         "marker": {
          "coloraxis": "coloraxis",
          "colors": {
           "bdata": "PJmZmZmZuT/0mJmZmZm5P1aWmZmZmbk/sJOZmZmZuT/syZEhHriyP1moub5yX68/TqjGbo46oj9yK65H4XqEP8UqrkfheoQ/1yeuR+F6hD94JK5H4XqEP+QirkfheoQ/NyKuR+F6hD+JIa5H4XqEPxchrkfheoQ/3SCuR+F6hD9LH65H4XqEP9cerkfheoQ/0ByuR+F6hD+PGq5H4XqEP1carkfheoQ/bxmuR+F6hD9vGa5H4XqEP28ZrkfheoQ/iRiuR+F6hD8VGK5H4XqEP2cXrkfheoQ/aBeuR+F6hD8PFq5H4XqEP5sVrkfheoQ/A1cWeGWBtz9wRVXdzgCyP/tSFnhlgbc/qv46NZIusj/Zbd3j+AabP3IrrkfheoQ/xSquR+F6hD8WHq5H4XqEP94crkfheoQ/VxquR+F6hD8=",
           "dtype": "f8"
          }
         },
         "name": "",
         "parents": [
          "Utilities",
          "Consumer Staples",
          "Health Care",
          "Financials",
          "Financials",
          "Consumer Staples",
          "Industrials",
          "Energy",
          "Materials",
          "Financials",
          "Health Care",
          "Information Technology",
          "Consumer Staples",
          "Communication Services",
          "Consumer Staples",
          "Consumer Staples",
          "Information Technology",
          "Communication Services",
          "Financials",
          "Communication Services",
          "Consumer Discretionary",
          "Financials",
          "Financials",
          "Consumer Staples",
          "Communication Services",
          "Information Technology",
          "Industrials",
          "Financials",
          "Utilities",
          "Industrials",
          "",
          "",
          "",
          "",
          "",
          "",
          "",
          "",
          "",
          ""
         ],
         "type": "treemap",
         "values": {
          "bdata": "j/////8/f0A6/////z9/QAv8////P39Ayvj///8/f0D+dvrHwNl2QAbR6MgBJnNAfIA53npAZkA9HAAAAABJQFMbAAAAAElA4BcAAAAASUCkEwAAAABJQJ8RAAAAAElA7xAAAAAASUATEAAAAABJQKkPAAAAAElARw8AAAAASUBqDQAAAABJQNYMAAAAAElAUgoAAAAASUCEBwAAAABJQEQHAAAAAElAPwYAAAAASUAVBgAAAABJQBMGAAAAAElAEgUAAAAASUCVBAAAAABJQNQDAAAAAElAzQMAAAAASUD1AQAAAABJQJgBAAAAAElA5/////8vgUB/a3TkAHOPQED/////L4FAhZ3+MXBukUDswBxvPWBxQD0cAAAAAElAUxsAAAAASUDoCAAAAMBiQGAKAAAAAGlARAcAAAAASUA=",
          "dtype": "f8"
         }
        }
       ],
       "layout": {
        "coloraxis": {
         "colorbar": {
          "title": {
           "text": "weight"
          }
         },
         "colorscale": [
          [
           0,
           "rgb(165,0,38)"
          ],
          [
           0.1,
           "rgb(215,48,39)"
          ],
          [
           0.2,
           "rgb(244,109,67)"
          ],
          [
           0.3,
           "rgb(253,174,97)"
          ],
          [
           0.4,
           "rgb(254,224,139)"
          ],
          [
           0.5,
           "rgb(255,255,191)"
          ],
          [
           0.6,
           "rgb(217,239,139)"
          ],
          [
           0.7,
           "rgb(166,217,106)"
          ],
          [
           0.8,
           "rgb(102,189,99)"
          ],
          [
           0.9,
           "rgb(26,152,80)"
          ],
          [
           1,
           "rgb(0,104,55)"
          ]
         ]
        },
        "height": 600,
        "legend": {
         "tracegroupgap": 0
        },
        "template": {
         "data": {
          "bar": [
           {
            "error_x": {
             "color": "#2a3f5f"
            },
            "error_y": {
             "color": "#2a3f5f"
            },
            "marker": {
             "line": {
              "color": "#E5ECF6",
              "width": 0.5
             },
             "pattern": {
              "fillmode": "overlay",
              "size": 10,
              "solidity": 0.2
             }
            },
            "type": "bar"
           }
          ],
          "barpolar": [
           {
            "marker": {
             "line": {
              "color": "#E5ECF6",
              "width": 0.5
             },
             "pattern": {
              "fillmode": "overlay",
              "size": 10,
              "solidity": 0.2
             }
            },
            "type": "barpolar"
           }
          ],
          "carpet": [
           {
            "aaxis": {
             "endlinecolor": "#2a3f5f",
             "gridcolor": "white",
             "linecolor": "white",
             "minorgridcolor": "white",
             "startlinecolor": "#2a3f5f"
            },
            "baxis": {
             "endlinecolor": "#2a3f5f",
             "gridcolor": "white",
             "linecolor": "white",
             "minorgridcolor": "white",
             "startlinecolor": "#2a3f5f"
            },
            "type": "carpet"
           }
          ],
          "choropleth": [
           {
            "colorbar": {
             "outlinewidth": 0,
             "ticks": ""
            },
            "type": "choropleth"
           }
          ],
          "contour": [
           {
            "colorbar": {
             "outlinewidth": 0,
             "ticks": ""
            },
            "colorscale": [
             [
              0,
              "#0d0887"
             ],
             [
              0.1111111111111111,
              "#46039f"
             ],
             [
              0.2222222222222222,
              "#7201a8"
             ],
             [
              0.3333333333333333,
              "#9c179e"
             ],
             [
              0.4444444444444444,
              "#bd3786"
             ],
             [
              0.5555555555555556,
              "#d8576b"
             ],
             [
              0.6666666666666666,
              "#ed7953"
             ],
             [
              0.7777777777777778,
              "#fb9f3a"
             ],
             [
              0.8888888888888888,
              "#fdca26"
             ],
             [
              1,
              "#f0f921"
             ]
            ],
            "type": "contour"
           }
          ],
          "contourcarpet": [
           {
            "colorbar": {
             "outlinewidth": 0,
             "ticks": ""
            },
            "type": "contourcarpet"
           }
          ],
          "heatmap": [
           {
            "colorbar": {
             "outlinewidth": 0,
             "ticks": ""
            },
            "colorscale": [
             [
              0,
              "#0d0887"
             ],
             [
              0.1111111111111111,
              "#46039f"
             ],
             [
              0.2222222222222222,
              "#7201a8"
             ],
             [
              0.3333333333333333,
              "#9c179e"
             ],
             [
              0.4444444444444444,
              "#bd3786"
             ],
             [
              0.5555555555555556,
              "#d8576b"
             ],
             [
              0.6666666666666666,
              "#ed7953"
             ],
             [
              0.7777777777777778,
              "#fb9f3a"
             ],
             [
              0.8888888888888888,
              "#fdca26"
             ],
             [
              1,
              "#f0f921"
             ]
            ],
            "type": "heatmap"
           }
          ],
          "histogram": [
           {
            "marker": {
             "pattern": {
              "fillmode": "overlay",
              "size": 10,
              "solidity": 0.2
             }
            },
            "type": "histogram"
           }
          ],
          "histogram2d": [
           {
            "colorbar": {
             "outlinewidth": 0,
             "ticks": ""
            },
            "colorscale": [
             [
              0,
              "#0d0887"
             ],
             [
              0.1111111111111111,
              "#46039f"
             ],
             [
              0.2222222222222222,
              "#7201a8"
             ],
             [
              0.3333333333333333,
              "#9c179e"
             ],
             [
              0.4444444444444444,
              "#bd3786"
             ],
             [
              0.5555555555555556,
              "#d8576b"
             ],
             [
              0.6666666666666666,
              "#ed7953"
             ],
             [
              0.7777777777777778,
              "#fb9f3a"
             ],
             [
              0.8888888888888888,
              "#fdca26"
             ],
             [
              1,
              "#f0f921"
             ]
            ],
            "type": "histogram2d"
           }
          ],
          "histogram2dcontour": [
           {
            "colorbar": {
             "outlinewidth": 0,
             "ticks": ""
            },
            "colorscale": [
             [
              0,
              "#0d0887"
             ],
             [
              0.1111111111111111,
              "#46039f"
             ],
             [
              0.2222222222222222,
              "#7201a8"
             ],
             [
              0.3333333333333333,
              "#9c179e"
             ],
             [
              0.4444444444444444,
              "#bd3786"
             ],
             [
              0.5555555555555556,
              "#d8576b"
             ],
             [
              0.6666666666666666,
              "#ed7953"
             ],
             [
              0.7777777777777778,
              "#fb9f3a"
             ],
             [
              0.8888888888888888,
              "#fdca26"
             ],
             [
              1,
              "#f0f921"
             ]
            ],
            "type": "histogram2dcontour"
           }
          ],
          "mesh3d": [
           {
            "colorbar": {
             "outlinewidth": 0,
             "ticks": ""
            },
            "type": "mesh3d"
           }
          ],
          "parcoords": [
           {
            "line": {
             "colorbar": {
              "outlinewidth": 0,
              "ticks": ""
             }
            },
            "type": "parcoords"
           }
          ],
          "pie": [
           {
            "automargin": true,
            "type": "pie"
           }
          ],
          "scatter": [
           {
            "fillpattern": {
             "fillmode": "overlay",
             "size": 10,
             "solidity": 0.2
            },
            "type": "scatter"
           }
          ],
          "scatter3d": [
           {
            "line": {
             "colorbar": {
              "outlinewidth": 0,
              "ticks": ""
             }
            },
            "marker": {
             "colorbar": {
              "outlinewidth": 0,
              "ticks": ""
             }
            },
            "type": "scatter3d"
           }
          ],
          "scattercarpet": [
           {
            "marker": {
             "colorbar": {
              "outlinewidth": 0,
              "ticks": ""
             }
            },
            "type": "scattercarpet"
           }
          ],
          "scattergeo": [
           {
            "marker": {
             "colorbar": {
              "outlinewidth": 0,
              "ticks": ""
             }
            },
            "type": "scattergeo"
           }
          ],
          "scattergl": [
           {
            "marker": {
             "colorbar": {
              "outlinewidth": 0,
              "ticks": ""
             }
            },
            "type": "scattergl"
           }
          ],
          "scattermap": [
           {
            "marker": {
             "colorbar": {
              "outlinewidth": 0,
              "ticks": ""
             }
            },
            "type": "scattermap"
           }
          ],
          "scattermapbox": [
           {
            "marker": {
             "colorbar": {
              "outlinewidth": 0,
              "ticks": ""
             }
            },
            "type": "scattermapbox"
           }
          ],
          "scatterpolar": [
           {
            "marker": {
             "colorbar": {
              "outlinewidth": 0,
              "ticks": ""
             }
            },
            "type": "scatterpolar"
           }
          ],
          "scatterpolargl": [
           {
            "marker": {
             "colorbar": {
              "outlinewidth": 0,
              "ticks": ""
             }
            },
            "type": "scatterpolargl"
           }
          ],
          "scatterternary": [
           {
            "marker": {
             "colorbar": {
              "outlinewidth": 0,
              "ticks": ""
             }
            },
            "type": "scatterternary"
           }
          ],
          "surface": [
           {
            "colorbar": {
             "outlinewidth": 0,
             "ticks": ""
            },
            "colorscale": [
             [
              0,
              "#0d0887"
             ],
             [
              0.1111111111111111,
              "#46039f"
             ],
             [
              0.2222222222222222,
              "#7201a8"
             ],
             [
              0.3333333333333333,
              "#9c179e"
             ],
             [
              0.4444444444444444,
              "#bd3786"
             ],
             [
              0.5555555555555556,
              "#d8576b"
             ],
             [
              0.6666666666666666,
              "#ed7953"
             ],
             [
              0.7777777777777778,
              "#fb9f3a"
             ],
             [
              0.8888888888888888,
              "#fdca26"
             ],
             [
              1,
              "#f0f921"
             ]
            ],
            "type": "surface"
           }
          ],
          "table": [
           {
            "cells": {
             "fill": {
              "color": "#EBF0F8"
             },
             "line": {
              "color": "white"
             }
            },
            "header": {
             "fill": {
              "color": "#C8D4E3"
             },
             "line": {
              "color": "white"
             }
            },
            "type": "table"
           }
          ]
         },
         "layout": {
          "annotationdefaults": {
           "arrowcolor": "#2a3f5f",
           "arrowhead": 0,
           "arrowwidth": 1
          },
          "autotypenumbers": "strict",
          "coloraxis": {
           "colorbar": {
            "outlinewidth": 0,
            "ticks": ""
           }
          },
          "colorscale": {
           "diverging": [
            [
             0,
             "#8e0152"
            ],
            [
             0.1,
             "#c51b7d"
            ],
            [
             0.2,
             "#de77ae"
            ],
            [
             0.3,
             "#f1b6da"
            ],
            [
             0.4,
             "#fde0ef"
            ],
            [
             0.5,
             "#f7f7f7"
            ],
            [
             0.6,
             "#e6f5d0"
            ],
            [
             0.7,
             "#b8e186"
            ],
            [
             0.8,
             "#7fbc41"
            ],
            [
             0.9,
             "#4d9221"
            ],
            [
             1,
             "#276419"
            ]
           ],
           "sequential": [
            [
             0,
             "#0d0887"
            ],
            [
             0.1111111111111111,
             "#46039f"
            ],
            [
             0.2222222222222222,
             "#7201a8"
            ],
            [
             0.3333333333333333,
             "#9c179e"
            ],
            [
             0.4444444444444444,
             "#bd3786"
            ],
            [
             0.5555555555555556,
             "#d8576b"
            ],
            [
             0.6666666666666666,
             "#ed7953"
            ],
            [
             0.7777777777777778,
             "#fb9f3a"
            ],
            [
             0.8888888888888888,
             "#fdca26"
            ],
            [
             1,
             "#f0f921"
            ]
           ],
           "sequentialminus": [
            [
             0,
             "#0d0887"
            ],
            [
             0.1111111111111111,
             "#46039f"
            ],
            [
             0.2222222222222222,
             "#7201a8"
            ],
            [
             0.3333333333333333,
             "#9c179e"
            ],
            [
             0.4444444444444444,
             "#bd3786"
            ],
            [
             0.5555555555555556,
             "#d8576b"
            ],
            [
             0.6666666666666666,
             "#ed7953"
            ],
            [
             0.7777777777777778,
             "#fb9f3a"
            ],
            [
             0.8888888888888888,
             "#fdca26"
            ],
            [
             1,
             "#f0f921"
            ]
           ]
          },
          "colorway": [
           "#636efa",
           "#EF553B",
           "#00cc96",
           "#ab63fa",
           "#FFA15A",
           "#19d3f3",
           "#FF6692",
           "#B6E880",
           "#FF97FF",
           "#FECB52"
          ],
          "font": {
           "color": "#2a3f5f"
          },
          "geo": {
           "bgcolor": "white",
           "lakecolor": "white",
           "landcolor": "#E5ECF6",
           "showlakes": true,
           "showland": true,
           "subunitcolor": "white"
          },
          "hoverlabel": {
           "align": "left"
          },
          "hovermode": "closest",
          "mapbox": {
           "style": "light"
          },
          "paper_bgcolor": "white",
          "plot_bgcolor": "#E5ECF6",
          "polar": {
           "angularaxis": {
            "gridcolor": "white",
            "linecolor": "white",
            "ticks": ""
           },
           "bgcolor": "#E5ECF6",
           "radialaxis": {
            "gridcolor": "white",
            "linecolor": "white",
            "ticks": ""
           }
          },
          "scene": {
           "xaxis": {
            "backgroundcolor": "#E5ECF6",
            "gridcolor": "white",
            "gridwidth": 2,
            "linecolor": "white",
            "showbackground": true,
            "ticks": "",
            "zerolinecolor": "white"
           },
           "yaxis": {
            "backgroundcolor": "#E5ECF6",
            "gridcolor": "white",
            "gridwidth": 2,
            "linecolor": "white",
            "showbackground": true,
            "ticks": "",
            "zerolinecolor": "white"
           },
           "zaxis": {
            "backgroundcolor": "#E5ECF6",
            "gridcolor": "white",
            "gridwidth": 2,
            "linecolor": "white",
            "showbackground": true,
            "ticks": "",
            "zerolinecolor": "white"
           }
          },
          "shapedefaults": {
           "line": {
            "color": "#2a3f5f"
           }
          },
          "ternary": {
           "aaxis": {
            "gridcolor": "white",
            "linecolor": "white",
            "ticks": ""
           },
           "baxis": {
            "gridcolor": "white",
            "linecolor": "white",
            "ticks": ""
           },
           "bgcolor": "#E5ECF6",
           "caxis": {
            "gridcolor": "white",
            "linecolor": "white",
            "ticks": ""
           }
          },
          "title": {
           "x": 0.05
          },
          "xaxis": {
           "automargin": true,
           "gridcolor": "white",
           "linecolor": "white",
           "ticks": "",
           "title": {
            "standoff": 15
           },
           "zerolinecolor": "white",
           "zerolinewidth": 2
          },
          "yaxis": {
           "automargin": true,
           "gridcolor": "white",
           "linecolor": "white",
           "ticks": "",
           "title": {
            "standoff": 15
           },
           "zerolinecolor": "white",
           "zerolinewidth": 2
          }
         }
        },
        "title": {
         "text": "Portfolio Treemap (Top 30 Holdings)"
        }
       }
      }
     },
     "metadata": {},
     "output_type": "display_data"
    },
    {
     "name": "stdout",
     "output_type": "stream",
     "text": [
      "✅ Interactive charts displayed!\n"
     ]
    }
   ],
   "source": [
    "# Create interactive allocation charts\n",
    "from plotly.subplots import make_subplots\n",
    "\n",
    "# 1. Top Holdings Bar Chart\n",
    "fig1 = go.Figure()\n",
    "\n",
    "top_15 = portfolio.head(15).copy()\n",
    "top_15 = top_15.sort_values('weight', ascending=True)\n",
    "\n",
    "fig1.add_trace(go.Bar(\n",
    "    y=top_15['ticker'],\n",
    "    x=top_15['weight'] * 100,\n",
    "    orientation='h',\n",
    "    text=[f\"{w*100:.1f}%\" for w in top_15['weight']],\n",
    "    textposition='auto',\n",
    "    marker=dict(\n",
    "        color=top_15['weight'] * 100,\n",
    "        colorscale='Viridis',\n",
    "        showscale=True,\n",
    "        colorbar=dict(title=\"Weight (%)\")\n",
    "    ),\n",
    "    hovertemplate='<b>%{y}</b><br>Weight: %{x:.2f}%<br><extra></extra>'\n",
    "))\n",
    "\n",
    "fig1.update_layout(\n",
    "    title='Top 15 Portfolio Holdings',\n",
    "    xaxis_title='Portfolio Weight (%)',\n",
    "    yaxis_title='Ticker',\n",
    "    height=600,\n",
    "    showlegend=False,\n",
    "    template='plotly_white'\n",
    ")\n",
    "\n",
    "fig1.show()\n",
    "\n",
    "# 2. Sector Allocation Pie Chart\n",
    "if 'sector' in portfolio.columns:\n",
    "    sector_data = portfolio.groupby('sector').agg({\n",
    "        'dollar_amount': 'sum',\n",
    "        'ticker': 'count'\n",
    "    }).reset_index()\n",
    "    sector_data.columns = ['sector', 'value', 'count']\n",
    "    \n",
    "    fig2 = go.Figure(data=[go.Pie(\n",
    "        labels=sector_data['sector'],\n",
    "        values=sector_data['value'],\n",
    "        hole=0.4,\n",
    "        textinfo='label+percent',\n",
    "        hovertemplate='<b>%{label}</b><br>Value: $%{value:,.0f}<br>Percent: %{percent}<extra></extra>'\n",
    "    )])\n",
    "    \n",
    "    fig2.update_layout(\n",
    "        title='Portfolio Allocation by Sector',\n",
    "        height=500,\n",
    "        template='plotly_white'\n",
    "    )\n",
    "    \n",
    "    fig2.show()\n",
    "\n",
    "# 3. Treemap of all holdings\n",
    "fig3 = px.treemap(\n",
    "    portfolio.head(30),\n",
    "    path=['sector', 'ticker'] if 'sector' in portfolio.columns else ['ticker'],\n",
    "    values='dollar_amount',\n",
    "    color='weight',\n",
    "    hover_data={'company_name': True, 'weight': ':.2%', 'shares': True},\n",
    "    color_continuous_scale='RdYlGn',\n",
    "    title='Portfolio Treemap (Top 30 Holdings)'\n",
    ")\n",
    "\n",
    "fig3.update_layout(height=600)\n",
    "fig3.show()\n",
    "\n",
    "print(\"✅ Interactive charts displayed!\")\n"
   ]
  },
  {
   "cell_type": "markdown",
   "id": "md_9",
   "metadata": {},
   "source": [
    "## 🏆 Step 5: Stock Rankings & Analysis\n"
   ]
  },
  {
   "cell_type": "code",
   "execution_count": 8,
   "id": "code_10",
   "metadata": {},
   "outputs": [
    {
     "name": "stderr",
     "output_type": "stream",
     "text": [
      "2025-10-03 16:35:34,042 - INFO - Attempting connection with pymssql...\n",
      "2025-10-03 16:35:34,044 - INFO - ✅ Database connection established\n",
      "2025-10-03 16:35:34,206 - INFO - ✅ Query executed successfully, returned 50 rows\n"
     ]
    },
    {
     "name": "stdout",
     "output_type": "stream",
     "text": [
      "================================================================================\n",
      "🏆 TOP PERFORMERS (Past Month)\n",
      "================================================================================\n",
      "\n",
      "Rank   Ticker   Company                        1M Return    Weight    \n",
      "--------------------------------------------------------------------------------\n",
      "1      WDC      Western Digital                     52.03%     1.00%\n",
      "2      HOOD     Robinhood Markets                   38.01%     1.00%\n",
      "3      TSLA     Tesla, Inc.                         37.53%     1.00%\n",
      "4      SMCI     Supermicro                          30.65%     1.00%\n",
      "5      ORCL     Oracle Corporation                  29.34%     1.00%\n",
      "6      CNC      Centene Corporation                 18.90%    10.00%\n",
      "7      MRNA     Moderna                             14.76%     1.00%\n",
      "8      NEM      Newmont                             14.34%     1.00%\n",
      "9      AVGO     Broadcom                            10.44%     1.00%\n",
      "10     NEE      NextEra Energy                       9.83%    10.00%\n",
      "\n",
      "================================================================================\n",
      "📉 WEAKEST PERFORMERS (Past Month)\n",
      "================================================================================\n",
      "\n",
      "Rank   Ticker   Company                        1M Return    Weight    \n",
      "--------------------------------------------------------------------------------\n",
      "1      FCX      Freeport-McMoRan                   -15.41%     1.00%\n",
      "2      CCL      Carnival                            -9.48%     1.00%\n",
      "3      TXN      Texas Instruments                   -7.84%     1.00%\n",
      "4      CMCSA    Comcast                             -7.74%     1.00%\n",
      "5      BA       Boeing                              -7.39%     3.56%\n",
      "6      T        AT&T                                -5.13%     1.00%\n",
      "7      VTRS     Viatris                             -4.36%     1.00%\n",
      "8      PYPL     PayPal                              -4.28%     1.00%\n",
      "9      BKNG     Booking Holdings                    -4.00%     1.00%\n",
      "10     PG       Procter & Gamble                    -3.15%     6.13%\n",
      "================================================================================\n"
     ]
    }
   ],
   "source": [
    "# Connect to database for additional metrics\n",
    "db = DatabaseConnector()\n",
    "\n",
    "# Get latest prices and calculate recent performance\n",
    "tickers = portfolio['ticker'].tolist()\n",
    "tickers_str = \"', '\".join(tickers)\n",
    "\n",
    "query = f\"\"\"\n",
    "WITH LatestPrices AS (\n",
    "    SELECT \n",
    "        ticker,\n",
    "        [close] as current_price,\n",
    "        date as [current_date],\n",
    "        LAG([close], 5) OVER (PARTITION BY ticker ORDER BY date) as price_1w,\n",
    "        LAG([close], 20) OVER (PARTITION BY ticker ORDER BY date) as price_1m,\n",
    "        LAG([close], 60) OVER (PARTITION BY ticker ORDER BY date) as price_3m,\n",
    "        volume,\n",
    "        ROW_NUMBER() OVER (PARTITION BY ticker ORDER BY date DESC) as rn\n",
    "    FROM market.daily_prices\n",
    "    WHERE ticker IN ('{tickers_str}')\n",
    ")\n",
    "SELECT \n",
    "    ticker,\n",
    "    current_price,\n",
    "    [current_date],\n",
    "    (current_price - price_1w) / NULLIF(price_1w, 0) * 100 as return_1w,\n",
    "    (current_price - price_1m) / NULLIF(price_1m, 0) * 100 as return_1m,\n",
    "    (current_price - price_3m) / NULLIF(price_3m, 0) * 100 as return_3m,\n",
    "    volume\n",
    "FROM LatestPrices\n",
    "WHERE rn = 1\n",
    "ORDER BY ticker\n",
    "\"\"\"\n",
    "\n",
    "prices_df = db.execute_query(query)\n",
    "\n",
    "# Convert return columns to numeric (handle NaN/None)\n",
    "for col in ['return_1w', 'return_1m', 'return_3m']:\n",
    "    if col in prices_df.columns:\n",
    "        prices_df[col] = pd.to_numeric(prices_df[col], errors='coerce')\n",
    "\n",
    "# Merge with portfolio\n",
    "portfolio_analysis = portfolio.merge(prices_df, on='ticker', how='left')\n",
    "\n",
    "# Add ML predictions if available\n",
    "if ml_predictions is not None:\n",
    "    ml_subset = ml_predictions[['ticker', 'pred_return_1M', 'pred_return_3M']].copy()\n",
    "    portfolio_analysis = portfolio_analysis.merge(ml_subset, on='ticker', how='left')\n",
    "\n",
    "# Display top performers\n",
    "print(\"=\" * 80)\n",
    "print(\"🏆 TOP PERFORMERS (Past Month)\")\n",
    "print(\"=\" * 80)\n",
    "top_performers = portfolio_analysis.nlargest(10, 'return_1m')\n",
    "print(f\"\\n{'Rank':<6} {'Ticker':<8} {'Company':<30} {'1M Return':<12} {'Weight':<10}\")\n",
    "print(\"-\" * 80)\n",
    "for idx, row in enumerate(top_performers.itertuples(), 1):\n",
    "    print(f\"{idx:<6} {row.ticker:<8} {row.company_name[:28]:<30} {row.return_1m:>10.2f}% {row.weight*100:>8.2f}%\")\n",
    "\n",
    "print(\"\\n\" + \"=\" * 80)\n",
    "print(\"📉 WEAKEST PERFORMERS (Past Month)\")\n",
    "print(\"=\" * 80)\n",
    "weak_performers = portfolio_analysis.nsmallest(10, 'return_1m')\n",
    "print(f\"\\n{'Rank':<6} {'Ticker':<8} {'Company':<30} {'1M Return':<12} {'Weight':<10}\")\n",
    "print(\"-\" * 80)\n",
    "for idx, row in enumerate(weak_performers.itertuples(), 1):\n",
    "    print(f\"{idx:<6} {row.ticker:<8} {row.company_name[:28]:<30} {row.return_1m:>10.2f}% {row.weight*100:>8.2f}%\")\n",
    "\n",
    "print(\"=\" * 80)\n",
    "\n",
    "\n",
    "\n"
   ]
  },
  {
   "cell_type": "markdown",
   "id": "md_11",
   "metadata": {},
   "source": [
    "## 📊 Step 6: Historical Performance Analysis\n"
   ]
  },
  {
   "cell_type": "code",
   "execution_count": 11,
   "id": "code_12",
   "metadata": {},
   "outputs": [
    {
     "name": "stderr",
     "output_type": "stream",
     "text": [
      "2025-10-03 16:42:08,997 - INFO - ✅ Query executed successfully, returned 6150 rows\n",
      "2025-10-03 16:42:09,008 - INFO - ✅ Query executed successfully, returned 124 rows\n"
     ]
    },
    {
     "name": "stdout",
     "output_type": "stream",
     "text": [
      "✅ SPY benchmark data loaded\n"
     ]
    },
    {
     "data": {
      "application/vnd.plotly.v1+json": {
       "config": {
        "plotlyServerURL": "https://plot.ly"
       },
       "data": [
        {
         "hovertemplate": "Date: %{x}<br>Return: %{y:.2f}%<extra></extra>",
         "line": {
          "color": "blue",
          "width": 3
         },
         "mode": "lines",
         "name": "Portfolio",
         "type": "scatter",
         "x": [
          "2025-04-07T00:00:00.000000000",
          "2025-04-08T00:00:00.000000000",
          "2025-04-09T00:00:00.000000000",
          "2025-04-10T00:00:00.000000000",
          "2025-04-11T00:00:00.000000000",
          "2025-04-14T00:00:00.000000000",
          "2025-04-15T00:00:00.000000000",
          "2025-04-16T00:00:00.000000000",
          "2025-04-17T00:00:00.000000000",
          "2025-04-21T00:00:00.000000000",
          "2025-04-22T00:00:00.000000000",
          "2025-04-23T00:00:00.000000000",
          "2025-04-24T00:00:00.000000000",
          "2025-04-25T00:00:00.000000000",
          "2025-04-28T00:00:00.000000000",
          "2025-04-29T00:00:00.000000000",
          "2025-04-30T00:00:00.000000000",
          "2025-05-01T00:00:00.000000000",
          "2025-05-02T00:00:00.000000000",
          "2025-05-05T00:00:00.000000000",
          "2025-05-06T00:00:00.000000000",
          "2025-05-07T00:00:00.000000000",
          "2025-05-08T00:00:00.000000000",
          "2025-05-09T00:00:00.000000000",
          "2025-05-12T00:00:00.000000000",
          "2025-05-13T00:00:00.000000000",
          "2025-05-14T00:00:00.000000000",
          "2025-05-15T00:00:00.000000000",
          "2025-05-16T00:00:00.000000000",
          "2025-05-19T00:00:00.000000000",
          "2025-05-20T00:00:00.000000000",
          "2025-05-21T00:00:00.000000000",
          "2025-05-22T00:00:00.000000000",
          "2025-05-23T00:00:00.000000000",
          "2025-05-27T00:00:00.000000000",
          "2025-05-28T00:00:00.000000000",
          "2025-05-29T00:00:00.000000000",
          "2025-05-30T00:00:00.000000000",
          "2025-06-02T00:00:00.000000000",
          "2025-06-03T00:00:00.000000000",
          "2025-06-04T00:00:00.000000000",
          "2025-06-05T00:00:00.000000000",
          "2025-06-06T00:00:00.000000000",
          "2025-06-09T00:00:00.000000000",
          "2025-06-10T00:00:00.000000000",
          "2025-06-11T00:00:00.000000000",
          "2025-06-12T00:00:00.000000000",
          "2025-06-13T00:00:00.000000000",
          "2025-06-16T00:00:00.000000000",
          "2025-06-17T00:00:00.000000000",
          "2025-06-18T00:00:00.000000000",
          "2025-06-20T00:00:00.000000000",
          "2025-06-23T00:00:00.000000000",
          "2025-06-24T00:00:00.000000000",
          "2025-06-25T00:00:00.000000000",
          "2025-06-26T00:00:00.000000000",
          "2025-06-27T00:00:00.000000000",
          "2025-06-30T00:00:00.000000000",
          "2025-07-01T00:00:00.000000000",
          "2025-07-02T00:00:00.000000000",
          "2025-07-03T00:00:00.000000000",
          "2025-07-07T00:00:00.000000000",
          "2025-07-08T00:00:00.000000000",
          "2025-07-09T00:00:00.000000000",
          "2025-07-10T00:00:00.000000000",
          "2025-07-11T00:00:00.000000000",
          "2025-07-14T00:00:00.000000000",
          "2025-07-15T00:00:00.000000000",
          "2025-07-16T00:00:00.000000000",
          "2025-07-17T00:00:00.000000000",
          "2025-07-18T00:00:00.000000000",
          "2025-07-21T00:00:00.000000000",
          "2025-07-22T00:00:00.000000000",
          "2025-07-23T00:00:00.000000000",
          "2025-07-24T00:00:00.000000000",
          "2025-07-25T00:00:00.000000000",
          "2025-07-28T00:00:00.000000000",
          "2025-07-29T00:00:00.000000000",
          "2025-07-30T00:00:00.000000000",
          "2025-07-31T00:00:00.000000000",
          "2025-08-01T00:00:00.000000000",
          "2025-08-04T00:00:00.000000000",
          "2025-08-05T00:00:00.000000000",
          "2025-08-06T00:00:00.000000000",
          "2025-08-07T00:00:00.000000000",
          "2025-08-08T00:00:00.000000000",
          "2025-08-11T00:00:00.000000000",
          "2025-08-12T00:00:00.000000000",
          "2025-08-13T00:00:00.000000000",
          "2025-08-14T00:00:00.000000000",
          "2025-08-15T00:00:00.000000000",
          "2025-08-18T00:00:00.000000000",
          "2025-08-19T00:00:00.000000000",
          "2025-08-20T00:00:00.000000000",
          "2025-08-21T00:00:00.000000000",
          "2025-08-22T00:00:00.000000000",
          "2025-08-25T00:00:00.000000000",
          "2025-08-26T00:00:00.000000000",
          "2025-08-27T00:00:00.000000000",
          "2025-08-28T00:00:00.000000000",
          "2025-08-29T00:00:00.000000000",
          "2025-09-02T00:00:00.000000000",
          "2025-09-03T00:00:00.000000000",
          "2025-09-04T00:00:00.000000000",
          "2025-09-05T00:00:00.000000000",
          "2025-09-08T00:00:00.000000000",
          "2025-09-09T00:00:00.000000000",
          "2025-09-10T00:00:00.000000000",
          "2025-09-11T00:00:00.000000000",
          "2025-09-12T00:00:00.000000000",
          "2025-09-15T00:00:00.000000000",
          "2025-09-16T00:00:00.000000000",
          "2025-09-17T00:00:00.000000000",
          "2025-09-18T00:00:00.000000000",
          "2025-09-19T00:00:00.000000000",
          "2025-09-22T00:00:00.000000000",
          "2025-09-23T00:00:00.000000000",
          "2025-09-24T00:00:00.000000000",
          "2025-09-25T00:00:00.000000000",
          "2025-09-26T00:00:00.000000000",
          "2025-09-29T00:00:00.000000000",
          "2025-09-30T00:00:00.000000000",
          "2025-10-01T00:00:00.000000000"
         ],
         "y": {
          "bdata": "AAAAAAAAAAAE0o+fm7vxv5/kBliNihlAMnNwAn/4CkBYA1zpK+ARQPhmMA043RZAWz+MkxVbFkBQoce2rb4OQAkJ+04BrhJADvw6INVFBkDzzFfdLKUVQADWYztmrRxA+HFsQumaIEDTKK3xoHcfQIq6kOjnyyBAIi4UyrRLIkAwsdd84/EiQIa/W1rueyJAZGIOLkrmJUBICJfoyxIlQCo/BmUmaSRAbldzEu/DJUDAJ6dWZIgnQANl5O3AKChAgET1VxHvLEA+vd+9P44tQA6DZrDZqC1A8jMbHtoOMEBe8dLDpRMxQCDsJ/X3GzFAv8gSiEowMUDyvCsxZl8tQNzUjz0sPCtADBSjm6qEKkAsJnmjI4guQPzum/1CySxA3AkoUFK/LkDMxmSkPmwvQHaDUEpppi9AQkNBQP24MEBMef9SATowQB4t1xfUpy9Ast8kOe0QMUDbwq1gb3gxQJdmw7p90DFAKF4JD8CBMUAcs9M3VI8xQKPd3KvnJzBADul4IIf0MEDuAfMJOH8vQGwbcRylQjBAw3ftPovEMEA2iGm6iFsxQFD8KhK7rTJAyzmjAzE0MkBP83MDk3wzQBjdiArOETRAlmd1RpF0NEBooilyrnc2QPmCvg6jhDJAlFqW2LAbM0ArLD3L01syQBKE/prPZjFAJL3BmZzbMUCC/FbfonkyQALjlG4udTFA4BD9Li67MUCc2XTyTFkwQFQDxNRrIDFAlBsx+8PoMUCeOOLiYLoxQHHJp7zTmTFAI8cs24EdM0AgU+Nue5ozQGH2zosUTjJAgL6gsxOLM0DWpcCJdkUyQMQ/0gtOHzFA9vxxp6V+L0BaY/6+bc8tQILr2rq/tSpAXGHghSODLEBcr17bdLkrQMDFGQn3+ypATJ3zjB7KK0C0WWpQSOssQJ8xjpvaVCxAbh79DUnVL0DYPnmh+4QwQKhYXZ1VdzBAsqfsyX9NMUB8/B2+PwsyQLxLFTInIzJAqIFAnzJgMkCgWqRYxc0xQKrqWeW4wDNAXL7VVe/7MkCmMNkJDTszQDmnwAS6izNAbhdfNvcFM0C8XVcnMTczQH42pS1KIjNA8V774fgGM0D1ywFy3fcyQD4/mEJK4jJAgZSmE4fxMkCPjv9MwVA0QBp+WlfdzjRAbry4XN2PNkDZR6baLPk1QEiXO+f94jVAwFlml2CpNUBgi89MpmE2QK+9aZDs1TZA4dbktFMDN0Dhk8aixJA3QCqm489wcTdA5/QxLBghOEB0kwL362M3QG7FqjZklThAUnQMR//ZOED+dbItd8w4QIEOCtn4FjlA",
          "dtype": "f8"
         }
        },
        {
         "hovertemplate": "Date: %{x}<br>Return: %{y:.2f}%<extra></extra>",
         "line": {
          "color": "orange",
          "dash": "dash",
          "width": 2
         },
         "mode": "lines",
         "name": "S&P 500 (SPY)",
         "type": "scatter",
         "x": [
          "2025-04-07T00:00:00.000000000",
          "2025-04-08T00:00:00.000000000",
          "2025-04-09T00:00:00.000000000",
          "2025-04-10T00:00:00.000000000",
          "2025-04-11T00:00:00.000000000",
          "2025-04-14T00:00:00.000000000",
          "2025-04-15T00:00:00.000000000",
          "2025-04-16T00:00:00.000000000",
          "2025-04-17T00:00:00.000000000",
          "2025-04-21T00:00:00.000000000",
          "2025-04-22T00:00:00.000000000",
          "2025-04-23T00:00:00.000000000",
          "2025-04-24T00:00:00.000000000",
          "2025-04-25T00:00:00.000000000",
          "2025-04-28T00:00:00.000000000",
          "2025-04-29T00:00:00.000000000",
          "2025-04-30T00:00:00.000000000",
          "2025-05-01T00:00:00.000000000",
          "2025-05-02T00:00:00.000000000",
          "2025-05-05T00:00:00.000000000",
          "2025-05-06T00:00:00.000000000",
          "2025-05-07T00:00:00.000000000",
          "2025-05-08T00:00:00.000000000",
          "2025-05-09T00:00:00.000000000",
          "2025-05-12T00:00:00.000000000",
          "2025-05-13T00:00:00.000000000",
          "2025-05-14T00:00:00.000000000",
          "2025-05-15T00:00:00.000000000",
          "2025-05-16T00:00:00.000000000",
          "2025-05-19T00:00:00.000000000",
          "2025-05-20T00:00:00.000000000",
          "2025-05-21T00:00:00.000000000",
          "2025-05-22T00:00:00.000000000",
          "2025-05-23T00:00:00.000000000",
          "2025-05-27T00:00:00.000000000",
          "2025-05-28T00:00:00.000000000",
          "2025-05-29T00:00:00.000000000",
          "2025-05-30T00:00:00.000000000",
          "2025-06-02T00:00:00.000000000",
          "2025-06-03T00:00:00.000000000",
          "2025-06-04T00:00:00.000000000",
          "2025-06-05T00:00:00.000000000",
          "2025-06-06T00:00:00.000000000",
          "2025-06-09T00:00:00.000000000",
          "2025-06-10T00:00:00.000000000",
          "2025-06-11T00:00:00.000000000",
          "2025-06-12T00:00:00.000000000",
          "2025-06-13T00:00:00.000000000",
          "2025-06-16T00:00:00.000000000",
          "2025-06-17T00:00:00.000000000",
          "2025-06-18T00:00:00.000000000",
          "2025-06-20T00:00:00.000000000",
          "2025-06-23T00:00:00.000000000",
          "2025-06-24T00:00:00.000000000",
          "2025-06-25T00:00:00.000000000",
          "2025-06-26T00:00:00.000000000",
          "2025-06-27T00:00:00.000000000",
          "2025-06-30T00:00:00.000000000",
          "2025-07-01T00:00:00.000000000",
          "2025-07-02T00:00:00.000000000",
          "2025-07-03T00:00:00.000000000",
          "2025-07-07T00:00:00.000000000",
          "2025-07-08T00:00:00.000000000",
          "2025-07-09T00:00:00.000000000",
          "2025-07-10T00:00:00.000000000",
          "2025-07-11T00:00:00.000000000",
          "2025-07-14T00:00:00.000000000",
          "2025-07-15T00:00:00.000000000",
          "2025-07-16T00:00:00.000000000",
          "2025-07-17T00:00:00.000000000",
          "2025-07-18T00:00:00.000000000",
          "2025-07-21T00:00:00.000000000",
          "2025-07-22T00:00:00.000000000",
          "2025-07-23T00:00:00.000000000",
          "2025-07-24T00:00:00.000000000",
          "2025-07-25T00:00:00.000000000",
          "2025-07-28T00:00:00.000000000",
          "2025-07-29T00:00:00.000000000",
          "2025-07-30T00:00:00.000000000",
          "2025-07-31T00:00:00.000000000",
          "2025-08-01T00:00:00.000000000",
          "2025-08-04T00:00:00.000000000",
          "2025-08-05T00:00:00.000000000",
          "2025-08-06T00:00:00.000000000",
          "2025-08-07T00:00:00.000000000",
          "2025-08-08T00:00:00.000000000",
          "2025-08-11T00:00:00.000000000",
          "2025-08-12T00:00:00.000000000",
          "2025-08-13T00:00:00.000000000",
          "2025-08-14T00:00:00.000000000",
          "2025-08-15T00:00:00.000000000",
          "2025-08-18T00:00:00.000000000",
          "2025-08-19T00:00:00.000000000",
          "2025-08-20T00:00:00.000000000",
          "2025-08-21T00:00:00.000000000",
          "2025-08-22T00:00:00.000000000",
          "2025-08-25T00:00:00.000000000",
          "2025-08-26T00:00:00.000000000",
          "2025-08-27T00:00:00.000000000",
          "2025-08-28T00:00:00.000000000",
          "2025-08-29T00:00:00.000000000",
          "2025-09-02T00:00:00.000000000",
          "2025-09-03T00:00:00.000000000",
          "2025-09-04T00:00:00.000000000",
          "2025-09-05T00:00:00.000000000",
          "2025-09-08T00:00:00.000000000",
          "2025-09-09T00:00:00.000000000",
          "2025-09-10T00:00:00.000000000",
          "2025-09-11T00:00:00.000000000",
          "2025-09-12T00:00:00.000000000",
          "2025-09-15T00:00:00.000000000",
          "2025-09-16T00:00:00.000000000",
          "2025-09-17T00:00:00.000000000",
          "2025-09-18T00:00:00.000000000",
          "2025-09-19T00:00:00.000000000",
          "2025-09-22T00:00:00.000000000",
          "2025-09-23T00:00:00.000000000",
          "2025-09-24T00:00:00.000000000",
          "2025-09-25T00:00:00.000000000",
          "2025-09-26T00:00:00.000000000",
          "2025-09-29T00:00:00.000000000",
          "2025-09-30T00:00:00.000000000",
          "2025-10-01T00:00:00.000000000"
         ],
         "y": {
          "bdata": "AAAAAAAAAAA0uzNVcw/5v7M2PofXiiFAQDVZgA8FEEAW+2foUXEXQMmgSPr1jBtAf1JPRmVaGkDDOVDVUOAQQNN/ZJmOeBFAtGswaM8i/j8ZB44iHSMSQE7eBLDHnRhAHBqB2ezGIEBqaUrA4lciQCKkKuozbSJAkMT+ynHNI0C6rp9QyOMjQLxQD7q4ciVA1uBbnz68KECIqihEV3InQB3XbOU3lCVAGmnq5sSCJkAEhew1rQ8oQKy+/CyZxidAOs09wcUrL0B7q3vgSlkwQGWpCqBbfzBA648xPgYRMUCbBjDr2c4xQFA1rWjW7zFA+t5d2VSKMUAg0v9jkh4vQPCSTajrNS9ATjVCruWhLUAkMaYkDDQxQOwldl91hjBA96wxwjf8MEAjOkpIt9owQCB2aMs5gzFA2w6hJ8cuMkDp4nQMqCYyQLGkbcB6lDFAX+Qq7pTJMkD5xMkY/eQyQBgNw9CPkTNAyq9KwEE6M0Da/nZbkLMzQL04XAL3XDJADKmPZUF9M0D4raTN3XcyQHw2czlMczJAHn0pKxUsMkAOHMHa5FYzQMVNLAZmqDRArqQeW7W5NEBIg0N7gas1QMYcajBCRjZAUA5rBuzbNkBQvh9IvtE2QOqoeYdGYDdAYY5FPjRZOEAVAGZP/Gs3QCypc/qsWjdAHAT1CgsYOEDB/1Tbo3E4QDMF3dakAThAxFJeijg+OEDoKkHlTbY3QKXhSGAvIDhA/NB5nqXiOEANDytdO8s4QJ5crBDPBzlA5qzxQWMMOUC3QJaIvBw6QHzowfRsJzpAEmi/R9qvOkAjnuGjtKc6QNhz+vMvUjpA+lq5XXYpOkDQv7b2TrA5QArvX77roDdA1LrlhPqBOUDAQ2t6Fd84QEJESF/w0zlADPXq+fW4OUCmYCTL67M6QM2FlPPHczpAANIcZ2nMO0CVzJRraDw8QCQCw+F1PzxAGw0QNZjyO0AyBmmedus7QHIC1FXOOTtAtSgsSkTjOkAyFIvj8WA6QBkc7EPJUTxAnNIQTTbBO0Dqqe5NJko8QHwsqpH6lDxAWHdnx40JPUAxqujAjEQ8QHPEIpc4UTtAKAWB0twBPEBYx7KFuxM9QKdg9sgHtDxAqjqYR/gEPUBhxPSUVFE9QBIrsVEIsT1Av1/abfDEPkBNYM5Tvbk+QNO7Q0roaz9APKP8JpU9P0BSx4SD1xM/QFnToqGhsD9A4w1LZs0rQEDv2eAI8ntAQL6oUsJLH0BAjgS9NOLSP0DugXQMMTc/QGuw1Ruj9z9AKrZquEorQEAri/WeGWtAQGhv7LUJpUBA",
          "dtype": "f8"
         }
        }
       ],
       "layout": {
        "height": 500,
        "hovermode": "x unified",
        "shapes": [
         {
          "line": {
           "color": "gray",
           "dash": "dot"
          },
          "opacity": 0.5,
          "type": "line",
          "x0": 0,
          "x1": 1,
          "xref": "x domain",
          "y0": 0,
          "y1": 0,
          "yref": "y"
         }
        ],
        "template": {
         "data": {
          "bar": [
           {
            "error_x": {
             "color": "#2a3f5f"
            },
            "error_y": {
             "color": "#2a3f5f"
            },
            "marker": {
             "line": {
              "color": "white",
              "width": 0.5
             },
             "pattern": {
              "fillmode": "overlay",
              "size": 10,
              "solidity": 0.2
             }
            },
            "type": "bar"
           }
          ],
          "barpolar": [
           {
            "marker": {
             "line": {
              "color": "white",
              "width": 0.5
             },
             "pattern": {
              "fillmode": "overlay",
              "size": 10,
              "solidity": 0.2
             }
            },
            "type": "barpolar"
           }
          ],
          "carpet": [
           {
            "aaxis": {
             "endlinecolor": "#2a3f5f",
             "gridcolor": "#C8D4E3",
             "linecolor": "#C8D4E3",
             "minorgridcolor": "#C8D4E3",
             "startlinecolor": "#2a3f5f"
            },
            "baxis": {
             "endlinecolor": "#2a3f5f",
             "gridcolor": "#C8D4E3",
             "linecolor": "#C8D4E3",
             "minorgridcolor": "#C8D4E3",
             "startlinecolor": "#2a3f5f"
            },
            "type": "carpet"
           }
          ],
          "choropleth": [
           {
            "colorbar": {
             "outlinewidth": 0,
             "ticks": ""
            },
            "type": "choropleth"
           }
          ],
          "contour": [
           {
            "colorbar": {
             "outlinewidth": 0,
             "ticks": ""
            },
            "colorscale": [
             [
              0,
              "#0d0887"
             ],
             [
              0.1111111111111111,
              "#46039f"
             ],
             [
              0.2222222222222222,
              "#7201a8"
             ],
             [
              0.3333333333333333,
              "#9c179e"
             ],
             [
              0.4444444444444444,
              "#bd3786"
             ],
             [
              0.5555555555555556,
              "#d8576b"
             ],
             [
              0.6666666666666666,
              "#ed7953"
             ],
             [
              0.7777777777777778,
              "#fb9f3a"
             ],
             [
              0.8888888888888888,
              "#fdca26"
             ],
             [
              1,
              "#f0f921"
             ]
            ],
            "type": "contour"
           }
          ],
          "contourcarpet": [
           {
            "colorbar": {
             "outlinewidth": 0,
             "ticks": ""
            },
            "type": "contourcarpet"
           }
          ],
          "heatmap": [
           {
            "colorbar": {
             "outlinewidth": 0,
             "ticks": ""
            },
            "colorscale": [
             [
              0,
              "#0d0887"
             ],
             [
              0.1111111111111111,
              "#46039f"
             ],
             [
              0.2222222222222222,
              "#7201a8"
             ],
             [
              0.3333333333333333,
              "#9c179e"
             ],
             [
              0.4444444444444444,
              "#bd3786"
             ],
             [
              0.5555555555555556,
              "#d8576b"
             ],
             [
              0.6666666666666666,
              "#ed7953"
             ],
             [
              0.7777777777777778,
              "#fb9f3a"
             ],
             [
              0.8888888888888888,
              "#fdca26"
             ],
             [
              1,
              "#f0f921"
             ]
            ],
            "type": "heatmap"
           }
          ],
          "histogram": [
           {
            "marker": {
             "pattern": {
              "fillmode": "overlay",
              "size": 10,
              "solidity": 0.2
             }
            },
            "type": "histogram"
           }
          ],
          "histogram2d": [
           {
            "colorbar": {
             "outlinewidth": 0,
             "ticks": ""
            },
            "colorscale": [
             [
              0,
              "#0d0887"
             ],
             [
              0.1111111111111111,
              "#46039f"
             ],
             [
              0.2222222222222222,
              "#7201a8"
             ],
             [
              0.3333333333333333,
              "#9c179e"
             ],
             [
              0.4444444444444444,
              "#bd3786"
             ],
             [
              0.5555555555555556,
              "#d8576b"
             ],
             [
              0.6666666666666666,
              "#ed7953"
             ],
             [
              0.7777777777777778,
              "#fb9f3a"
             ],
             [
              0.8888888888888888,
              "#fdca26"
             ],
             [
              1,
              "#f0f921"
             ]
            ],
            "type": "histogram2d"
           }
          ],
          "histogram2dcontour": [
           {
            "colorbar": {
             "outlinewidth": 0,
             "ticks": ""
            },
            "colorscale": [
             [
              0,
              "#0d0887"
             ],
             [
              0.1111111111111111,
              "#46039f"
             ],
             [
              0.2222222222222222,
              "#7201a8"
             ],
             [
              0.3333333333333333,
              "#9c179e"
             ],
             [
              0.4444444444444444,
              "#bd3786"
             ],
             [
              0.5555555555555556,
              "#d8576b"
             ],
             [
              0.6666666666666666,
              "#ed7953"
             ],
             [
              0.7777777777777778,
              "#fb9f3a"
             ],
             [
              0.8888888888888888,
              "#fdca26"
             ],
             [
              1,
              "#f0f921"
             ]
            ],
            "type": "histogram2dcontour"
           }
          ],
          "mesh3d": [
           {
            "colorbar": {
             "outlinewidth": 0,
             "ticks": ""
            },
            "type": "mesh3d"
           }
          ],
          "parcoords": [
           {
            "line": {
             "colorbar": {
              "outlinewidth": 0,
              "ticks": ""
             }
            },
            "type": "parcoords"
           }
          ],
          "pie": [
           {
            "automargin": true,
            "type": "pie"
           }
          ],
          "scatter": [
           {
            "fillpattern": {
             "fillmode": "overlay",
             "size": 10,
             "solidity": 0.2
            },
            "type": "scatter"
           }
          ],
          "scatter3d": [
           {
            "line": {
             "colorbar": {
              "outlinewidth": 0,
              "ticks": ""
             }
            },
            "marker": {
             "colorbar": {
              "outlinewidth": 0,
              "ticks": ""
             }
            },
            "type": "scatter3d"
           }
          ],
          "scattercarpet": [
           {
            "marker": {
             "colorbar": {
              "outlinewidth": 0,
              "ticks": ""
             }
            },
            "type": "scattercarpet"
           }
          ],
          "scattergeo": [
           {
            "marker": {
             "colorbar": {
              "outlinewidth": 0,
              "ticks": ""
             }
            },
            "type": "scattergeo"
           }
          ],
          "scattergl": [
           {
            "marker": {
             "colorbar": {
              "outlinewidth": 0,
              "ticks": ""
             }
            },
            "type": "scattergl"
           }
          ],
          "scattermap": [
           {
            "marker": {
             "colorbar": {
              "outlinewidth": 0,
              "ticks": ""
             }
            },
            "type": "scattermap"
           }
          ],
          "scattermapbox": [
           {
            "marker": {
             "colorbar": {
              "outlinewidth": 0,
              "ticks": ""
             }
            },
            "type": "scattermapbox"
           }
          ],
          "scatterpolar": [
           {
            "marker": {
             "colorbar": {
              "outlinewidth": 0,
              "ticks": ""
             }
            },
            "type": "scatterpolar"
           }
          ],
          "scatterpolargl": [
           {
            "marker": {
             "colorbar": {
              "outlinewidth": 0,
              "ticks": ""
             }
            },
            "type": "scatterpolargl"
           }
          ],
          "scatterternary": [
           {
            "marker": {
             "colorbar": {
              "outlinewidth": 0,
              "ticks": ""
             }
            },
            "type": "scatterternary"
           }
          ],
          "surface": [
           {
            "colorbar": {
             "outlinewidth": 0,
             "ticks": ""
            },
            "colorscale": [
             [
              0,
              "#0d0887"
             ],
             [
              0.1111111111111111,
              "#46039f"
             ],
             [
              0.2222222222222222,
              "#7201a8"
             ],
             [
              0.3333333333333333,
              "#9c179e"
             ],
             [
              0.4444444444444444,
              "#bd3786"
             ],
             [
              0.5555555555555556,
              "#d8576b"
             ],
             [
              0.6666666666666666,
              "#ed7953"
             ],
             [
              0.7777777777777778,
              "#fb9f3a"
             ],
             [
              0.8888888888888888,
              "#fdca26"
             ],
             [
              1,
              "#f0f921"
             ]
            ],
            "type": "surface"
           }
          ],
          "table": [
           {
            "cells": {
             "fill": {
              "color": "#EBF0F8"
             },
             "line": {
              "color": "white"
             }
            },
            "header": {
             "fill": {
              "color": "#C8D4E3"
             },
             "line": {
              "color": "white"
             }
            },
            "type": "table"
           }
          ]
         },
         "layout": {
          "annotationdefaults": {
           "arrowcolor": "#2a3f5f",
           "arrowhead": 0,
           "arrowwidth": 1
          },
          "autotypenumbers": "strict",
          "coloraxis": {
           "colorbar": {
            "outlinewidth": 0,
            "ticks": ""
           }
          },
          "colorscale": {
           "diverging": [
            [
             0,
             "#8e0152"
            ],
            [
             0.1,
             "#c51b7d"
            ],
            [
             0.2,
             "#de77ae"
            ],
            [
             0.3,
             "#f1b6da"
            ],
            [
             0.4,
             "#fde0ef"
            ],
            [
             0.5,
             "#f7f7f7"
            ],
            [
             0.6,
             "#e6f5d0"
            ],
            [
             0.7,
             "#b8e186"
            ],
            [
             0.8,
             "#7fbc41"
            ],
            [
             0.9,
             "#4d9221"
            ],
            [
             1,
             "#276419"
            ]
           ],
           "sequential": [
            [
             0,
             "#0d0887"
            ],
            [
             0.1111111111111111,
             "#46039f"
            ],
            [
             0.2222222222222222,
             "#7201a8"
            ],
            [
             0.3333333333333333,
             "#9c179e"
            ],
            [
             0.4444444444444444,
             "#bd3786"
            ],
            [
             0.5555555555555556,
             "#d8576b"
            ],
            [
             0.6666666666666666,
             "#ed7953"
            ],
            [
             0.7777777777777778,
             "#fb9f3a"
            ],
            [
             0.8888888888888888,
             "#fdca26"
            ],
            [
             1,
             "#f0f921"
            ]
           ],
           "sequentialminus": [
            [
             0,
             "#0d0887"
            ],
            [
             0.1111111111111111,
             "#46039f"
            ],
            [
             0.2222222222222222,
             "#7201a8"
            ],
            [
             0.3333333333333333,
             "#9c179e"
            ],
            [
             0.4444444444444444,
             "#bd3786"
            ],
            [
             0.5555555555555556,
             "#d8576b"
            ],
            [
             0.6666666666666666,
             "#ed7953"
            ],
            [
             0.7777777777777778,
             "#fb9f3a"
            ],
            [
             0.8888888888888888,
             "#fdca26"
            ],
            [
             1,
             "#f0f921"
            ]
           ]
          },
          "colorway": [
           "#636efa",
           "#EF553B",
           "#00cc96",
           "#ab63fa",
           "#FFA15A",
           "#19d3f3",
           "#FF6692",
           "#B6E880",
           "#FF97FF",
           "#FECB52"
          ],
          "font": {
           "color": "#2a3f5f"
          },
          "geo": {
           "bgcolor": "white",
           "lakecolor": "white",
           "landcolor": "white",
           "showlakes": true,
           "showland": true,
           "subunitcolor": "#C8D4E3"
          },
          "hoverlabel": {
           "align": "left"
          },
          "hovermode": "closest",
          "mapbox": {
           "style": "light"
          },
          "paper_bgcolor": "white",
          "plot_bgcolor": "white",
          "polar": {
           "angularaxis": {
            "gridcolor": "#EBF0F8",
            "linecolor": "#EBF0F8",
            "ticks": ""
           },
           "bgcolor": "white",
           "radialaxis": {
            "gridcolor": "#EBF0F8",
            "linecolor": "#EBF0F8",
            "ticks": ""
           }
          },
          "scene": {
           "xaxis": {
            "backgroundcolor": "white",
            "gridcolor": "#DFE8F3",
            "gridwidth": 2,
            "linecolor": "#EBF0F8",
            "showbackground": true,
            "ticks": "",
            "zerolinecolor": "#EBF0F8"
           },
           "yaxis": {
            "backgroundcolor": "white",
            "gridcolor": "#DFE8F3",
            "gridwidth": 2,
            "linecolor": "#EBF0F8",
            "showbackground": true,
            "ticks": "",
            "zerolinecolor": "#EBF0F8"
           },
           "zaxis": {
            "backgroundcolor": "white",
            "gridcolor": "#DFE8F3",
            "gridwidth": 2,
            "linecolor": "#EBF0F8",
            "showbackground": true,
            "ticks": "",
            "zerolinecolor": "#EBF0F8"
           }
          },
          "shapedefaults": {
           "line": {
            "color": "#2a3f5f"
           }
          },
          "ternary": {
           "aaxis": {
            "gridcolor": "#DFE8F3",
            "linecolor": "#A2B1C6",
            "ticks": ""
           },
           "baxis": {
            "gridcolor": "#DFE8F3",
            "linecolor": "#A2B1C6",
            "ticks": ""
           },
           "bgcolor": "white",
           "caxis": {
            "gridcolor": "#DFE8F3",
            "linecolor": "#A2B1C6",
            "ticks": ""
           }
          },
          "title": {
           "x": 0.05
          },
          "xaxis": {
           "automargin": true,
           "gridcolor": "#EBF0F8",
           "linecolor": "#EBF0F8",
           "ticks": "",
           "title": {
            "standoff": 15
           },
           "zerolinecolor": "#EBF0F8",
           "zerolinewidth": 2
          },
          "yaxis": {
           "automargin": true,
           "gridcolor": "#EBF0F8",
           "linecolor": "#EBF0F8",
           "ticks": "",
           "title": {
            "standoff": 15
           },
           "zerolinecolor": "#EBF0F8",
           "zerolinewidth": 2
          }
         }
        },
        "title": {
         "text": "Portfolio Performance (6 Months)"
        },
        "xaxis": {
         "title": {
          "text": "Date"
         }
        },
        "yaxis": {
         "title": {
          "text": "Cumulative Return (%)"
         }
        }
       }
      }
     },
     "metadata": {},
     "output_type": "display_data"
    },
    {
     "name": "stderr",
     "output_type": "stream",
     "text": [
      "2025-10-03 16:42:09,019 - INFO - 🔌 Database connection closed\n"
     ]
    },
    {
     "name": "stdout",
     "output_type": "stream",
     "text": [
      "\n",
      "📊 Performance Metrics (6-Month Period):\n",
      "   Total Return: +25.09%\n",
      "   Annualized Volatility: 17.89%\n",
      "   Sharpe Ratio: 2.401\n",
      "   SPY Total Return: +33.29%\n",
      "   Outperformance: -8.20%\n"
     ]
    }
   ],
   "source": [
    "# Load historical prices for portfolio stocks\n",
    "query_hist = f\"\"\"\n",
    "SELECT \n",
    "    ticker,\n",
    "    date,\n",
    "    [close] as price\n",
    "FROM market.daily_prices\n",
    "WHERE ticker IN ('{tickers_str}')\n",
    "  AND date >= DATEADD(day, -180, (SELECT MAX(date) FROM market.daily_prices))\n",
    "ORDER BY ticker, date\n",
    "\"\"\"\n",
    "\n",
    "hist_prices = db.execute_query(query_hist)\n",
    "hist_prices['date'] = pd.to_datetime(hist_prices['date'])\n",
    "\n",
    "# Convert price to float (handle Decimal type from SQL Server)\n",
    "hist_prices['price'] = pd.to_numeric(hist_prices['price'], errors='coerce')\n",
    "\n",
    "# Pivot to wide format\n",
    "price_matrix = hist_prices.pivot(index='date', columns='ticker', values='price')\n",
    "\n",
    "# Calculate portfolio value over time\n",
    "weights = portfolio.set_index('ticker')['weight']\n",
    "weights = weights.reindex(price_matrix.columns, fill_value=0)\n",
    "\n",
    "# Normalize prices to returns\n",
    "returns = price_matrix.pct_change().fillna(0)\n",
    "portfolio_returns = (returns * weights.values).sum(axis=1)\n",
    "portfolio_cumulative = (1 + portfolio_returns).cumprod()\n",
    "\n",
    "# Load SPY for comparison if available\n",
    "query_spy = \"\"\"\n",
    "SELECT date, [close] as price\n",
    "FROM market.daily_prices\n",
    "WHERE ticker = 'SPY'\n",
    "  AND date >= DATEADD(day, -180, (SELECT MAX(date) FROM market.daily_prices))\n",
    "ORDER BY date\n",
    "\"\"\"\n",
    "\n",
    "try:\n",
    "    spy_prices = db.execute_query(query_spy)\n",
    "    if len(spy_prices) > 0:\n",
    "        spy_prices['date'] = pd.to_datetime(spy_prices['date'])\n",
    "        spy_prices['price'] = pd.to_numeric(spy_prices['price'], errors='coerce')\n",
    "        spy_prices = spy_prices.set_index('date')\n",
    "        spy_returns = spy_prices['price'].pct_change().fillna(0)\n",
    "        \n",
    "        # Align dates\n",
    "        common_dates = portfolio_cumulative.index.intersection(spy_returns.index)\n",
    "        spy_returns_aligned = spy_returns.loc[common_dates]\n",
    "        spy_cumulative = (1 + spy_returns_aligned).cumprod()\n",
    "        \n",
    "        has_spy = True\n",
    "        print(\"✅ SPY benchmark data loaded\")\n",
    "    else:\n",
    "        has_spy = False\n",
    "        print(\"⚠️  No SPY data available\")\n",
    "except:\n",
    "    has_spy = False\n",
    "    print(\"⚠️  Could not load SPY data\")\n",
    "\n",
    "# Create interactive performance chart\n",
    "fig = go.Figure()\n",
    "\n",
    "# Portfolio line\n",
    "fig.add_trace(go.Scatter(\n",
    "    x=portfolio_cumulative.index,\n",
    "    y=(portfolio_cumulative - 1) * 100,\n",
    "    mode='lines',\n",
    "    name='Portfolio',\n",
    "    line=dict(color='blue', width=3),\n",
    "    hovertemplate='Date: %{x}<br>Return: %{y:.2f}%<extra></extra>'\n",
    "))\n",
    "\n",
    "# SPY line if available\n",
    "if has_spy:\n",
    "    fig.add_trace(go.Scatter(\n",
    "        x=spy_cumulative.index,\n",
    "        y=(spy_cumulative - 1) * 100,\n",
    "        mode='lines',\n",
    "        name='S&P 500 (SPY)',\n",
    "        line=dict(color='orange', width=2, dash='dash'),\n",
    "        hovertemplate='Date: %{x}<br>Return: %{y:.2f}%<extra></extra>'\n",
    "    ))\n",
    "\n",
    "fig.add_hline(y=0, line_dash=\"dot\", line_color=\"gray\", opacity=0.5)\n",
    "\n",
    "fig.update_layout(\n",
    "    title='Portfolio Performance (6 Months)',\n",
    "    xaxis_title='Date',\n",
    "    yaxis_title='Cumulative Return (%)',\n",
    "    height=500,\n",
    "    template='plotly_white',\n",
    "    hovermode='x unified'\n",
    ")\n",
    "\n",
    "fig.show()\n",
    "\n",
    "# Calculate metrics\n",
    "total_return = (portfolio_cumulative.iloc[-1] - 1) * 100\n",
    "annual_volatility = portfolio_returns.std() * np.sqrt(252) * 100\n",
    "sharpe = (portfolio_returns.mean() * 252 - 0.045) / (portfolio_returns.std() * np.sqrt(252))\n",
    "\n",
    "print(f\"\\n📊 Performance Metrics (6-Month Period):\")\n",
    "print(f\"   Total Return: {total_return:+.2f}%\")\n",
    "print(f\"   Annualized Volatility: {annual_volatility:.2f}%\")\n",
    "print(f\"   Sharpe Ratio: {sharpe:.3f}\")\n",
    "\n",
    "if has_spy:\n",
    "    spy_total = (spy_cumulative.iloc[-1] - 1) * 100\n",
    "    print(f\"   SPY Total Return: {spy_total:+.2f}%\")\n",
    "    print(f\"   Outperformance: {total_return - spy_total:+.2f}%\")\n",
    "\n",
    "db.close()\n"
   ]
  },
  {
   "cell_type": "markdown",
   "id": "md_13",
   "metadata": {},
   "source": [
    "## 🧠 Step 7: ML Model Insights\n"
   ]
  },
  {
   "cell_type": "code",
   "execution_count": 12,
   "id": "code_14",
   "metadata": {},
   "outputs": [
    {
     "ename": "KeyError",
     "evalue": "\"['ml_rank'] not in index\"",
     "output_type": "error",
     "traceback": [
      "\u001b[31m---------------------------------------------------------------------------\u001b[39m",
      "\u001b[31mKeyError\u001b[39m                                  Traceback (most recent call last)",
      "\u001b[36mCell\u001b[39m\u001b[36m \u001b[39m\u001b[32mIn[12]\u001b[39m\u001b[32m, line 4\u001b[39m\n\u001b[32m      1\u001b[39m \u001b[38;5;28;01mif\u001b[39;00m ml_predictions \u001b[38;5;129;01mis\u001b[39;00m \u001b[38;5;129;01mnot\u001b[39;00m \u001b[38;5;28;01mNone\u001b[39;00m:\n\u001b[32m      2\u001b[39m     \u001b[38;5;66;03m# Merge predictions with portfolio\u001b[39;00m\n\u001b[32m      3\u001b[39m     ml_portfolio = portfolio.merge(\n\u001b[32m----> \u001b[39m\u001b[32m4\u001b[39m         \u001b[43mml_predictions\u001b[49m\u001b[43m[\u001b[49m\u001b[43m[\u001b[49m\u001b[33;43m'\u001b[39;49m\u001b[33;43mticker\u001b[39;49m\u001b[33;43m'\u001b[39;49m\u001b[43m,\u001b[49m\u001b[43m \u001b[49m\u001b[33;43m'\u001b[39;49m\u001b[33;43mpred_return_1M\u001b[39;49m\u001b[33;43m'\u001b[39;49m\u001b[43m,\u001b[49m\u001b[43m \u001b[49m\u001b[33;43m'\u001b[39;49m\u001b[33;43mpred_return_3M\u001b[39;49m\u001b[33;43m'\u001b[39;49m\u001b[43m,\u001b[49m\u001b[43m \u001b[49m\u001b[33;43m'\u001b[39;49m\u001b[33;43mml_rank\u001b[39;49m\u001b[33;43m'\u001b[39;49m\u001b[43m]\u001b[49m\u001b[43m]\u001b[49m,\n\u001b[32m      5\u001b[39m         on=\u001b[33m'\u001b[39m\u001b[33mticker\u001b[39m\u001b[33m'\u001b[39m,\n\u001b[32m      6\u001b[39m         how=\u001b[33m'\u001b[39m\u001b[33mleft\u001b[39m\u001b[33m'\u001b[39m\n\u001b[32m      7\u001b[39m     )\n\u001b[32m      9\u001b[39m     \u001b[38;5;66;03m# Create prediction scatter plot\u001b[39;00m\n\u001b[32m     10\u001b[39m     fig = go.Figure()\n",
      "\u001b[36mFile \u001b[39m\u001b[32m~/Documents/GitHub/smartportfolio/SmartPortfolio/.venv/lib/python3.11/site-packages/pandas/core/frame.py:4119\u001b[39m, in \u001b[36mDataFrame.__getitem__\u001b[39m\u001b[34m(self, key)\u001b[39m\n\u001b[32m   4117\u001b[39m     \u001b[38;5;28;01mif\u001b[39;00m is_iterator(key):\n\u001b[32m   4118\u001b[39m         key = \u001b[38;5;28mlist\u001b[39m(key)\n\u001b[32m-> \u001b[39m\u001b[32m4119\u001b[39m     indexer = \u001b[38;5;28;43mself\u001b[39;49m\u001b[43m.\u001b[49m\u001b[43mcolumns\u001b[49m\u001b[43m.\u001b[49m\u001b[43m_get_indexer_strict\u001b[49m\u001b[43m(\u001b[49m\u001b[43mkey\u001b[49m\u001b[43m,\u001b[49m\u001b[43m \u001b[49m\u001b[33;43m\"\u001b[39;49m\u001b[33;43mcolumns\u001b[39;49m\u001b[33;43m\"\u001b[39;49m\u001b[43m)\u001b[49m[\u001b[32m1\u001b[39m]\n\u001b[32m   4121\u001b[39m \u001b[38;5;66;03m# take() does not accept boolean indexers\u001b[39;00m\n\u001b[32m   4122\u001b[39m \u001b[38;5;28;01mif\u001b[39;00m \u001b[38;5;28mgetattr\u001b[39m(indexer, \u001b[33m\"\u001b[39m\u001b[33mdtype\u001b[39m\u001b[33m\"\u001b[39m, \u001b[38;5;28;01mNone\u001b[39;00m) == \u001b[38;5;28mbool\u001b[39m:\n",
      "\u001b[36mFile \u001b[39m\u001b[32m~/Documents/GitHub/smartportfolio/SmartPortfolio/.venv/lib/python3.11/site-packages/pandas/core/indexes/base.py:6212\u001b[39m, in \u001b[36mIndex._get_indexer_strict\u001b[39m\u001b[34m(self, key, axis_name)\u001b[39m\n\u001b[32m   6209\u001b[39m \u001b[38;5;28;01melse\u001b[39;00m:\n\u001b[32m   6210\u001b[39m     keyarr, indexer, new_indexer = \u001b[38;5;28mself\u001b[39m._reindex_non_unique(keyarr)\n\u001b[32m-> \u001b[39m\u001b[32m6212\u001b[39m \u001b[38;5;28;43mself\u001b[39;49m\u001b[43m.\u001b[49m\u001b[43m_raise_if_missing\u001b[49m\u001b[43m(\u001b[49m\u001b[43mkeyarr\u001b[49m\u001b[43m,\u001b[49m\u001b[43m \u001b[49m\u001b[43mindexer\u001b[49m\u001b[43m,\u001b[49m\u001b[43m \u001b[49m\u001b[43maxis_name\u001b[49m\u001b[43m)\u001b[49m\n\u001b[32m   6214\u001b[39m keyarr = \u001b[38;5;28mself\u001b[39m.take(indexer)\n\u001b[32m   6215\u001b[39m \u001b[38;5;28;01mif\u001b[39;00m \u001b[38;5;28misinstance\u001b[39m(key, Index):\n\u001b[32m   6216\u001b[39m     \u001b[38;5;66;03m# GH 42790 - Preserve name from an Index\u001b[39;00m\n",
      "\u001b[36mFile \u001b[39m\u001b[32m~/Documents/GitHub/smartportfolio/SmartPortfolio/.venv/lib/python3.11/site-packages/pandas/core/indexes/base.py:6264\u001b[39m, in \u001b[36mIndex._raise_if_missing\u001b[39m\u001b[34m(self, key, indexer, axis_name)\u001b[39m\n\u001b[32m   6261\u001b[39m     \u001b[38;5;28;01mraise\u001b[39;00m \u001b[38;5;167;01mKeyError\u001b[39;00m(\u001b[33mf\u001b[39m\u001b[33m\"\u001b[39m\u001b[33mNone of [\u001b[39m\u001b[38;5;132;01m{\u001b[39;00mkey\u001b[38;5;132;01m}\u001b[39;00m\u001b[33m] are in the [\u001b[39m\u001b[38;5;132;01m{\u001b[39;00maxis_name\u001b[38;5;132;01m}\u001b[39;00m\u001b[33m]\u001b[39m\u001b[33m\"\u001b[39m)\n\u001b[32m   6263\u001b[39m not_found = \u001b[38;5;28mlist\u001b[39m(ensure_index(key)[missing_mask.nonzero()[\u001b[32m0\u001b[39m]].unique())\n\u001b[32m-> \u001b[39m\u001b[32m6264\u001b[39m \u001b[38;5;28;01mraise\u001b[39;00m \u001b[38;5;167;01mKeyError\u001b[39;00m(\u001b[33mf\u001b[39m\u001b[33m\"\u001b[39m\u001b[38;5;132;01m{\u001b[39;00mnot_found\u001b[38;5;132;01m}\u001b[39;00m\u001b[33m not in index\u001b[39m\u001b[33m\"\u001b[39m)\n",
      "\u001b[31mKeyError\u001b[39m: \"['ml_rank'] not in index\""
     ]
    }
   ],
   "source": [
    "if ml_predictions is not None:\n",
    "    # Merge predictions with portfolio\n",
    "    ml_portfolio = portfolio.merge(\n",
    "        ml_predictions[['ticker', 'pred_return_1M', 'pred_return_3M', 'rank']],\n",
    "        on='ticker',\n",
    "        how='left'\n",
    "    )\n",
    "    \n",
    "    # Create prediction scatter plot\n",
    "    fig = go.Figure()\n",
    "    \n",
    "    fig.add_trace(go.Scatter(\n",
    "        x=ml_portfolio['pred_return_1M'],\n",
    "        y=ml_portfolio['pred_return_3M'],\n",
    "        mode='markers',\n",
    "        marker=dict(\n",
    "            size=ml_portfolio['weight'] * 1000,  # Size by weight\n",
    "            color=ml_portfolio['weight'],\n",
    "            colorscale='Viridis',\n",
    "            showscale=True,\n",
    "            colorbar=dict(title=\"Weight\"),\n",
    "            line=dict(width=1, color='white')\n",
    "        ),\n",
    "        text=ml_portfolio['ticker'],\n",
    "        hovertemplate='<b>%{text}</b><br>1M Pred: %{x:.2f}%<br>3M Pred: %{y:.2f}%<extra></extra>'\n",
    "    ))\n",
    "    \n",
    "    fig.update_layout(\n",
    "        title='ML Predictions: 1-Month vs 3-Month Returns',\n",
    "        xaxis_title='Predicted 1-Month Return (%)',\n",
    "        yaxis_title='Predicted 3-Month Return (%)',\n",
    "        height=500,\n",
    "        template='plotly_white'\n",
    "    )\n",
    "    \n",
    "    fig.show()\n",
    "    \n",
    "    # Top ML picks\n",
    "    print(\"=\" * 80)\n",
    "    print(\"🧠 TOP ML-PREDICTED STOCKS IN PORTFOLIO\")\n",
    "    print(\"=\" * 80)\n",
    "    top_ml = ml_portfolio.nlargest(10, 'pred_return_3M')\n",
    "    print(f\"\\n{'Ticker':<8} {'Company':<30} {'1M Pred':<12} {'3M Pred':<12} {'Weight':<10}\")\n",
    "    print(\"-\" * 80)\n",
    "    for row in top_ml.itertuples():\n",
    "        print(f\"{row.ticker:<8} {row.company_name[:28]:<30} {row.pred_return_1M:>10.2f}% {row.pred_return_3M:>10.2f}% {row.weight*100:>8.2f}%\")\n",
    "    print(\"=\" * 80)\n",
    "else:\n",
    "    print(\"⚠️  ML predictions not available. Run Notebook 03 first.\")\n",
    "\n",
    "\n"
   ]
  },
  {
   "cell_type": "markdown",
   "id": "md_15",
   "metadata": {},
   "source": [
    "## ⚠️ Step 8: Risk Analysis Dashboard\n"
   ]
  },
  {
   "cell_type": "code",
   "execution_count": 13,
   "id": "code_16",
   "metadata": {},
   "outputs": [
    {
     "data": {
      "application/vnd.plotly.v1+json": {
       "config": {
        "plotlyServerURL": "https://plot.ly"
       },
       "data": [
        {
         "colorscale": [
          [
           0,
           "rgb(103,0,31)"
          ],
          [
           0.1,
           "rgb(178,24,43)"
          ],
          [
           0.2,
           "rgb(214,96,77)"
          ],
          [
           0.3,
           "rgb(244,165,130)"
          ],
          [
           0.4,
           "rgb(253,219,199)"
          ],
          [
           0.5,
           "rgb(247,247,247)"
          ],
          [
           0.6,
           "rgb(209,229,240)"
          ],
          [
           0.7,
           "rgb(146,197,222)"
          ],
          [
           0.8,
           "rgb(67,147,195)"
          ],
          [
           0.9,
           "rgb(33,102,172)"
          ],
          [
           1,
           "rgb(5,48,97)"
          ]
         ],
         "hovertemplate": "%{x} vs %{y}<br>Correlation: %{z:.3f}<extra></extra>",
         "text": {
          "bdata": "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",
          "dtype": "f8",
          "shape": "20, 20"
         },
         "textfont": {
          "size": 8
         },
         "texttemplate": "%{text:.2f}",
         "type": "heatmap",
         "x": [
          "NEE",
          "MDLZ",
          "CNC",
          "WFC",
          "C",
          "PG",
          "BA",
          "SLB",
          "FCX",
          "HOOD",
          "MRNA",
          "SMCI",
          "KO",
          "T",
          "PM",
          "KR",
          "MCHP",
          "CMCSA",
          "PYPL",
          "FOX"
         ],
         "y": [
          "NEE",
          "MDLZ",
          "CNC",
          "WFC",
          "C",
          "PG",
          "BA",
          "SLB",
          "FCX",
          "HOOD",
          "MRNA",
          "SMCI",
          "KO",
          "T",
          "PM",
          "KR",
          "MCHP",
          "CMCSA",
          "PYPL",
          "FOX"
         ],
         "z": {
          "bdata": "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",
          "dtype": "f8",
          "shape": "20, 20"
         },
         "zmid": 0
        }
       ],
       "layout": {
        "height": 700,
        "template": {
         "data": {
          "bar": [
           {
            "error_x": {
             "color": "#2a3f5f"
            },
            "error_y": {
             "color": "#2a3f5f"
            },
            "marker": {
             "line": {
              "color": "white",
              "width": 0.5
             },
             "pattern": {
              "fillmode": "overlay",
              "size": 10,
              "solidity": 0.2
             }
            },
            "type": "bar"
           }
          ],
          "barpolar": [
           {
            "marker": {
             "line": {
              "color": "white",
              "width": 0.5
             },
             "pattern": {
              "fillmode": "overlay",
              "size": 10,
              "solidity": 0.2
             }
            },
            "type": "barpolar"
           }
          ],
          "carpet": [
           {
            "aaxis": {
             "endlinecolor": "#2a3f5f",
             "gridcolor": "#C8D4E3",
             "linecolor": "#C8D4E3",
             "minorgridcolor": "#C8D4E3",
             "startlinecolor": "#2a3f5f"
            },
            "baxis": {
             "endlinecolor": "#2a3f5f",
             "gridcolor": "#C8D4E3",
             "linecolor": "#C8D4E3",
             "minorgridcolor": "#C8D4E3",
             "startlinecolor": "#2a3f5f"
            },
            "type": "carpet"
           }
          ],
          "choropleth": [
           {
            "colorbar": {
             "outlinewidth": 0,
             "ticks": ""
            },
            "type": "choropleth"
           }
          ],
          "contour": [
           {
            "colorbar": {
             "outlinewidth": 0,
             "ticks": ""
            },
            "colorscale": [
             [
              0,
              "#0d0887"
             ],
             [
              0.1111111111111111,
              "#46039f"
             ],
             [
              0.2222222222222222,
              "#7201a8"
             ],
             [
              0.3333333333333333,
              "#9c179e"
             ],
             [
              0.4444444444444444,
              "#bd3786"
             ],
             [
              0.5555555555555556,
              "#d8576b"
             ],
             [
              0.6666666666666666,
              "#ed7953"
             ],
             [
              0.7777777777777778,
              "#fb9f3a"
             ],
             [
              0.8888888888888888,
              "#fdca26"
             ],
             [
              1,
              "#f0f921"
             ]
            ],
            "type": "contour"
           }
          ],
          "contourcarpet": [
           {
            "colorbar": {
             "outlinewidth": 0,
             "ticks": ""
            },
            "type": "contourcarpet"
           }
          ],
          "heatmap": [
           {
            "colorbar": {
             "outlinewidth": 0,
             "ticks": ""
            },
            "colorscale": [
             [
              0,
              "#0d0887"
             ],
             [
              0.1111111111111111,
              "#46039f"
             ],
             [
              0.2222222222222222,
              "#7201a8"
             ],
             [
              0.3333333333333333,
              "#9c179e"
             ],
             [
              0.4444444444444444,
              "#bd3786"
             ],
             [
              0.5555555555555556,
              "#d8576b"
             ],
             [
              0.6666666666666666,
              "#ed7953"
             ],
             [
              0.7777777777777778,
              "#fb9f3a"
             ],
             [
              0.8888888888888888,
              "#fdca26"
             ],
             [
              1,
              "#f0f921"
             ]
            ],
            "type": "heatmap"
           }
          ],
          "histogram": [
           {
            "marker": {
             "pattern": {
              "fillmode": "overlay",
              "size": 10,
              "solidity": 0.2
             }
            },
            "type": "histogram"
           }
          ],
          "histogram2d": [
           {
            "colorbar": {
             "outlinewidth": 0,
             "ticks": ""
            },
            "colorscale": [
             [
              0,
              "#0d0887"
             ],
             [
              0.1111111111111111,
              "#46039f"
             ],
             [
              0.2222222222222222,
              "#7201a8"
             ],
             [
              0.3333333333333333,
              "#9c179e"
             ],
             [
              0.4444444444444444,
              "#bd3786"
             ],
             [
              0.5555555555555556,
              "#d8576b"
             ],
             [
              0.6666666666666666,
              "#ed7953"
             ],
             [
              0.7777777777777778,
              "#fb9f3a"
             ],
             [
              0.8888888888888888,
              "#fdca26"
             ],
             [
              1,
              "#f0f921"
             ]
            ],
            "type": "histogram2d"
           }
          ],
          "histogram2dcontour": [
           {
            "colorbar": {
             "outlinewidth": 0,
             "ticks": ""
            },
            "colorscale": [
             [
              0,
              "#0d0887"
             ],
             [
              0.1111111111111111,
              "#46039f"
             ],
             [
              0.2222222222222222,
              "#7201a8"
             ],
             [
              0.3333333333333333,
              "#9c179e"
             ],
             [
              0.4444444444444444,
              "#bd3786"
             ],
             [
              0.5555555555555556,
              "#d8576b"
             ],
             [
              0.6666666666666666,
              "#ed7953"
             ],
             [
              0.7777777777777778,
              "#fb9f3a"
             ],
             [
              0.8888888888888888,
              "#fdca26"
             ],
             [
              1,
              "#f0f921"
             ]
            ],
            "type": "histogram2dcontour"
           }
          ],
          "mesh3d": [
           {
            "colorbar": {
             "outlinewidth": 0,
             "ticks": ""
            },
            "type": "mesh3d"
           }
          ],
          "parcoords": [
           {
            "line": {
             "colorbar": {
              "outlinewidth": 0,
              "ticks": ""
             }
            },
            "type": "parcoords"
           }
          ],
          "pie": [
           {
            "automargin": true,
            "type": "pie"
           }
          ],
          "scatter": [
           {
            "fillpattern": {
             "fillmode": "overlay",
             "size": 10,
             "solidity": 0.2
            },
            "type": "scatter"
           }
          ],
          "scatter3d": [
           {
            "line": {
             "colorbar": {
              "outlinewidth": 0,
              "ticks": ""
             }
            },
            "marker": {
             "colorbar": {
              "outlinewidth": 0,
              "ticks": ""
             }
            },
            "type": "scatter3d"
           }
          ],
          "scattercarpet": [
           {
            "marker": {
             "colorbar": {
              "outlinewidth": 0,
              "ticks": ""
             }
            },
            "type": "scattercarpet"
           }
          ],
          "scattergeo": [
           {
            "marker": {
             "colorbar": {
              "outlinewidth": 0,
              "ticks": ""
             }
            },
            "type": "scattergeo"
           }
          ],
          "scattergl": [
           {
            "marker": {
             "colorbar": {
              "outlinewidth": 0,
              "ticks": ""
             }
            },
            "type": "scattergl"
           }
          ],
          "scattermap": [
           {
            "marker": {
             "colorbar": {
              "outlinewidth": 0,
              "ticks": ""
             }
            },
            "type": "scattermap"
           }
          ],
          "scattermapbox": [
           {
            "marker": {
             "colorbar": {
              "outlinewidth": 0,
              "ticks": ""
             }
            },
            "type": "scattermapbox"
           }
          ],
          "scatterpolar": [
           {
            "marker": {
             "colorbar": {
              "outlinewidth": 0,
              "ticks": ""
             }
            },
            "type": "scatterpolar"
           }
          ],
          "scatterpolargl": [
           {
            "marker": {
             "colorbar": {
              "outlinewidth": 0,
              "ticks": ""
             }
            },
            "type": "scatterpolargl"
           }
          ],
          "scatterternary": [
           {
            "marker": {
             "colorbar": {
              "outlinewidth": 0,
              "ticks": ""
             }
            },
            "type": "scatterternary"
           }
          ],
          "surface": [
           {
            "colorbar": {
             "outlinewidth": 0,
             "ticks": ""
            },
            "colorscale": [
             [
              0,
              "#0d0887"
             ],
             [
              0.1111111111111111,
              "#46039f"
             ],
             [
              0.2222222222222222,
              "#7201a8"
             ],
             [
              0.3333333333333333,
              "#9c179e"
             ],
             [
              0.4444444444444444,
              "#bd3786"
             ],
             [
              0.5555555555555556,
              "#d8576b"
             ],
             [
              0.6666666666666666,
              "#ed7953"
             ],
             [
              0.7777777777777778,
              "#fb9f3a"
             ],
             [
              0.8888888888888888,
              "#fdca26"
             ],
             [
              1,
              "#f0f921"
             ]
            ],
            "type": "surface"
           }
          ],
          "table": [
           {
            "cells": {
             "fill": {
              "color": "#EBF0F8"
             },
             "line": {
              "color": "white"
             }
            },
            "header": {
             "fill": {
              "color": "#C8D4E3"
             },
             "line": {
              "color": "white"
             }
            },
            "type": "table"
           }
          ]
         },
         "layout": {
          "annotationdefaults": {
           "arrowcolor": "#2a3f5f",
           "arrowhead": 0,
           "arrowwidth": 1
          },
          "autotypenumbers": "strict",
          "coloraxis": {
           "colorbar": {
            "outlinewidth": 0,
            "ticks": ""
           }
          },
          "colorscale": {
           "diverging": [
            [
             0,
             "#8e0152"
            ],
            [
             0.1,
             "#c51b7d"
            ],
            [
             0.2,
             "#de77ae"
            ],
            [
             0.3,
             "#f1b6da"
            ],
            [
             0.4,
             "#fde0ef"
            ],
            [
             0.5,
             "#f7f7f7"
            ],
            [
             0.6,
             "#e6f5d0"
            ],
            [
             0.7,
             "#b8e186"
            ],
            [
             0.8,
             "#7fbc41"
            ],
            [
             0.9,
             "#4d9221"
            ],
            [
             1,
             "#276419"
            ]
           ],
           "sequential": [
            [
             0,
             "#0d0887"
            ],
            [
             0.1111111111111111,
             "#46039f"
            ],
            [
             0.2222222222222222,
             "#7201a8"
            ],
            [
             0.3333333333333333,
             "#9c179e"
            ],
            [
             0.4444444444444444,
             "#bd3786"
            ],
            [
             0.5555555555555556,
             "#d8576b"
            ],
            [
             0.6666666666666666,
             "#ed7953"
            ],
            [
             0.7777777777777778,
             "#fb9f3a"
            ],
            [
             0.8888888888888888,
             "#fdca26"
            ],
            [
             1,
             "#f0f921"
            ]
           ],
           "sequentialminus": [
            [
             0,
             "#0d0887"
            ],
            [
             0.1111111111111111,
             "#46039f"
            ],
            [
             0.2222222222222222,
             "#7201a8"
            ],
            [
             0.3333333333333333,
             "#9c179e"
            ],
            [
             0.4444444444444444,
             "#bd3786"
            ],
            [
             0.5555555555555556,
             "#d8576b"
            ],
            [
             0.6666666666666666,
             "#ed7953"
            ],
            [
             0.7777777777777778,
             "#fb9f3a"
            ],
            [
             0.8888888888888888,
             "#fdca26"
            ],
            [
             1,
             "#f0f921"
            ]
           ]
          },
          "colorway": [
           "#636efa",
           "#EF553B",
           "#00cc96",
           "#ab63fa",
           "#FFA15A",
           "#19d3f3",
           "#FF6692",
           "#B6E880",
           "#FF97FF",
           "#FECB52"
          ],
          "font": {
           "color": "#2a3f5f"
          },
          "geo": {
           "bgcolor": "white",
           "lakecolor": "white",
           "landcolor": "white",
           "showlakes": true,
           "showland": true,
           "subunitcolor": "#C8D4E3"
          },
          "hoverlabel": {
           "align": "left"
          },
          "hovermode": "closest",
          "mapbox": {
           "style": "light"
          },
          "paper_bgcolor": "white",
          "plot_bgcolor": "white",
          "polar": {
           "angularaxis": {
            "gridcolor": "#EBF0F8",
            "linecolor": "#EBF0F8",
            "ticks": ""
           },
           "bgcolor": "white",
           "radialaxis": {
            "gridcolor": "#EBF0F8",
            "linecolor": "#EBF0F8",
            "ticks": ""
           }
          },
          "scene": {
           "xaxis": {
            "backgroundcolor": "white",
            "gridcolor": "#DFE8F3",
            "gridwidth": 2,
            "linecolor": "#EBF0F8",
            "showbackground": true,
            "ticks": "",
            "zerolinecolor": "#EBF0F8"
           },
           "yaxis": {
            "backgroundcolor": "white",
            "gridcolor": "#DFE8F3",
            "gridwidth": 2,
            "linecolor": "#EBF0F8",
            "showbackground": true,
            "ticks": "",
            "zerolinecolor": "#EBF0F8"
           },
           "zaxis": {
            "backgroundcolor": "white",
            "gridcolor": "#DFE8F3",
            "gridwidth": 2,
            "linecolor": "#EBF0F8",
            "showbackground": true,
            "ticks": "",
            "zerolinecolor": "#EBF0F8"
           }
          },
          "shapedefaults": {
           "line": {
            "color": "#2a3f5f"
           }
          },
          "ternary": {
           "aaxis": {
            "gridcolor": "#DFE8F3",
            "linecolor": "#A2B1C6",
            "ticks": ""
           },
           "baxis": {
            "gridcolor": "#DFE8F3",
            "linecolor": "#A2B1C6",
            "ticks": ""
           },
           "bgcolor": "white",
           "caxis": {
            "gridcolor": "#DFE8F3",
            "linecolor": "#A2B1C6",
            "ticks": ""
           }
          },
          "title": {
           "x": 0.05
          },
          "xaxis": {
           "automargin": true,
           "gridcolor": "#EBF0F8",
           "linecolor": "#EBF0F8",
           "ticks": "",
           "title": {
            "standoff": 15
           },
           "zerolinecolor": "#EBF0F8",
           "zerolinewidth": 2
          },
          "yaxis": {
           "automargin": true,
           "gridcolor": "#EBF0F8",
           "linecolor": "#EBF0F8",
           "ticks": "",
           "title": {
            "standoff": 15
           },
           "zerolinecolor": "#EBF0F8",
           "zerolinewidth": 2
          }
         }
        },
        "title": {
         "text": "Stock Correlation Matrix (Top 20 Holdings)"
        },
        "width": 700
       }
      }
     },
     "metadata": {},
     "output_type": "display_data"
    },
    {
     "data": {
      "application/vnd.plotly.v1+json": {
       "config": {
        "plotlyServerURL": "https://plot.ly"
       },
       "data": [
        {
         "hovertemplate": "<b>%{y}</b><br>Annual Volatility: %{x:.2f}%<extra></extra>",
         "marker": {
          "color": {
           "bdata": "pik7TVk8QkAI1Ba92o1CQASOxhTMwEJAKu8p/iLcQ0BcQrR+705FQMujlcNAh0VAsg85ZC0+RkAZibLef01HQGEnbq9Yd0dAqwCkOKB9SUD2VIvXDZNKQIy3WsfC9EpAwHEXUV71TEBSp9WggFZPQGT2i5+3609AhDAxs/2YUEDFLfpBRAJRQN5jIGuZR1FAgjqHqHL/UUDlk8qx6bpSQA==",
           "dtype": "f8"
          },
          "colorbar": {
           "title": {
            "text": "Volatility (%)"
           }
          },
          "colorscale": [
           [
            0,
            "rgb(255,245,240)"
           ],
           [
            0.125,
            "rgb(254,224,210)"
           ],
           [
            0.25,
            "rgb(252,187,161)"
           ],
           [
            0.375,
            "rgb(252,146,114)"
           ],
           [
            0.5,
            "rgb(251,106,74)"
           ],
           [
            0.625,
            "rgb(239,59,44)"
           ],
           [
            0.75,
            "rgb(203,24,29)"
           ],
           [
            0.875,
            "rgb(165,15,21)"
           ],
           [
            1,
            "rgb(103,0,13)"
           ]
          ],
          "showscale": true
         },
         "orientation": "h",
         "text": [
          "36.5%",
          "37.1%",
          "37.5%",
          "39.7%",
          "42.6%",
          "43.1%",
          "44.5%",
          "46.6%",
          "46.9%",
          "51.0%",
          "53.1%",
          "53.9%",
          "57.9%",
          "62.7%",
          "63.8%",
          "66.4%",
          "68.0%",
          "69.1%",
          "72.0%",
          "74.9%"
         ],
         "textposition": "auto",
         "type": "bar",
         "x": {
          "bdata": "pik7TVk8QkAI1Ba92o1CQASOxhTMwEJAKu8p/iLcQ0BcQrR+705FQMujlcNAh0VAsg85ZC0+RkAZibLef01HQGEnbq9Yd0dAqwCkOKB9SUD2VIvXDZNKQIy3WsfC9EpAwHEXUV71TEBSp9WggFZPQGT2i5+3609AhDAxs/2YUEDFLfpBRAJRQN5jIGuZR1FAgjqHqHL/UUDlk8qx6bpSQA==",
          "dtype": "f8"
         },
         "y": [
          "PANW",
          "NEM",
          "SLB",
          "META",
          "NKE",
          "WDC",
          "TXN",
          "CCL",
          "AVGO",
          "FCX",
          "DAY",
          "XYZ",
          "MRNA",
          "MCHP",
          "TSLA",
          "ALB",
          "HOOD",
          "ORCL",
          "CNC",
          "SMCI"
         ]
        }
       ],
       "layout": {
        "height": 600,
        "template": {
         "data": {
          "bar": [
           {
            "error_x": {
             "color": "#2a3f5f"
            },
            "error_y": {
             "color": "#2a3f5f"
            },
            "marker": {
             "line": {
              "color": "white",
              "width": 0.5
             },
             "pattern": {
              "fillmode": "overlay",
              "size": 10,
              "solidity": 0.2
             }
            },
            "type": "bar"
           }
          ],
          "barpolar": [
           {
            "marker": {
             "line": {
              "color": "white",
              "width": 0.5
             },
             "pattern": {
              "fillmode": "overlay",
              "size": 10,
              "solidity": 0.2
             }
            },
            "type": "barpolar"
           }
          ],
          "carpet": [
           {
            "aaxis": {
             "endlinecolor": "#2a3f5f",
             "gridcolor": "#C8D4E3",
             "linecolor": "#C8D4E3",
             "minorgridcolor": "#C8D4E3",
             "startlinecolor": "#2a3f5f"
            },
            "baxis": {
             "endlinecolor": "#2a3f5f",
             "gridcolor": "#C8D4E3",
             "linecolor": "#C8D4E3",
             "minorgridcolor": "#C8D4E3",
             "startlinecolor": "#2a3f5f"
            },
            "type": "carpet"
           }
          ],
          "choropleth": [
           {
            "colorbar": {
             "outlinewidth": 0,
             "ticks": ""
            },
            "type": "choropleth"
           }
          ],
          "contour": [
           {
            "colorbar": {
             "outlinewidth": 0,
             "ticks": ""
            },
            "colorscale": [
             [
              0,
              "#0d0887"
             ],
             [
              0.1111111111111111,
              "#46039f"
             ],
             [
              0.2222222222222222,
              "#7201a8"
             ],
             [
              0.3333333333333333,
              "#9c179e"
             ],
             [
              0.4444444444444444,
              "#bd3786"
             ],
             [
              0.5555555555555556,
              "#d8576b"
             ],
             [
              0.6666666666666666,
              "#ed7953"
             ],
             [
              0.7777777777777778,
              "#fb9f3a"
             ],
             [
              0.8888888888888888,
              "#fdca26"
             ],
             [
              1,
              "#f0f921"
             ]
            ],
            "type": "contour"
           }
          ],
          "contourcarpet": [
           {
            "colorbar": {
             "outlinewidth": 0,
             "ticks": ""
            },
            "type": "contourcarpet"
           }
          ],
          "heatmap": [
           {
            "colorbar": {
             "outlinewidth": 0,
             "ticks": ""
            },
            "colorscale": [
             [
              0,
              "#0d0887"
             ],
             [
              0.1111111111111111,
              "#46039f"
             ],
             [
              0.2222222222222222,
              "#7201a8"
             ],
             [
              0.3333333333333333,
              "#9c179e"
             ],
             [
              0.4444444444444444,
              "#bd3786"
             ],
             [
              0.5555555555555556,
              "#d8576b"
             ],
             [
              0.6666666666666666,
              "#ed7953"
             ],
             [
              0.7777777777777778,
              "#fb9f3a"
             ],
             [
              0.8888888888888888,
              "#fdca26"
             ],
             [
              1,
              "#f0f921"
             ]
            ],
            "type": "heatmap"
           }
          ],
          "histogram": [
           {
            "marker": {
             "pattern": {
              "fillmode": "overlay",
              "size": 10,
              "solidity": 0.2
             }
            },
            "type": "histogram"
           }
          ],
          "histogram2d": [
           {
            "colorbar": {
             "outlinewidth": 0,
             "ticks": ""
            },
            "colorscale": [
             [
              0,
              "#0d0887"
             ],
             [
              0.1111111111111111,
              "#46039f"
             ],
             [
              0.2222222222222222,
              "#7201a8"
             ],
             [
              0.3333333333333333,
              "#9c179e"
             ],
             [
              0.4444444444444444,
              "#bd3786"
             ],
             [
              0.5555555555555556,
              "#d8576b"
             ],
             [
              0.6666666666666666,
              "#ed7953"
             ],
             [
              0.7777777777777778,
              "#fb9f3a"
             ],
             [
              0.8888888888888888,
              "#fdca26"
             ],
             [
              1,
              "#f0f921"
             ]
            ],
            "type": "histogram2d"
           }
          ],
          "histogram2dcontour": [
           {
            "colorbar": {
             "outlinewidth": 0,
             "ticks": ""
            },
            "colorscale": [
             [
              0,
              "#0d0887"
             ],
             [
              0.1111111111111111,
              "#46039f"
             ],
             [
              0.2222222222222222,
              "#7201a8"
             ],
             [
              0.3333333333333333,
              "#9c179e"
             ],
             [
              0.4444444444444444,
              "#bd3786"
             ],
             [
              0.5555555555555556,
              "#d8576b"
             ],
             [
              0.6666666666666666,
              "#ed7953"
             ],
             [
              0.7777777777777778,
              "#fb9f3a"
             ],
             [
              0.8888888888888888,
              "#fdca26"
             ],
             [
              1,
              "#f0f921"
             ]
            ],
            "type": "histogram2dcontour"
           }
          ],
          "mesh3d": [
           {
            "colorbar": {
             "outlinewidth": 0,
             "ticks": ""
            },
            "type": "mesh3d"
           }
          ],
          "parcoords": [
           {
            "line": {
             "colorbar": {
              "outlinewidth": 0,
              "ticks": ""
             }
            },
            "type": "parcoords"
           }
          ],
          "pie": [
           {
            "automargin": true,
            "type": "pie"
           }
          ],
          "scatter": [
           {
            "fillpattern": {
             "fillmode": "overlay",
             "size": 10,
             "solidity": 0.2
            },
            "type": "scatter"
           }
          ],
          "scatter3d": [
           {
            "line": {
             "colorbar": {
              "outlinewidth": 0,
              "ticks": ""
             }
            },
            "marker": {
             "colorbar": {
              "outlinewidth": 0,
              "ticks": ""
             }
            },
            "type": "scatter3d"
           }
          ],
          "scattercarpet": [
           {
            "marker": {
             "colorbar": {
              "outlinewidth": 0,
              "ticks": ""
             }
            },
            "type": "scattercarpet"
           }
          ],
          "scattergeo": [
           {
            "marker": {
             "colorbar": {
              "outlinewidth": 0,
              "ticks": ""
             }
            },
            "type": "scattergeo"
           }
          ],
          "scattergl": [
           {
            "marker": {
             "colorbar": {
              "outlinewidth": 0,
              "ticks": ""
             }
            },
            "type": "scattergl"
           }
          ],
          "scattermap": [
           {
            "marker": {
             "colorbar": {
              "outlinewidth": 0,
              "ticks": ""
             }
            },
            "type": "scattermap"
           }
          ],
          "scattermapbox": [
           {
            "marker": {
             "colorbar": {
              "outlinewidth": 0,
              "ticks": ""
             }
            },
            "type": "scattermapbox"
           }
          ],
          "scatterpolar": [
           {
            "marker": {
             "colorbar": {
              "outlinewidth": 0,
              "ticks": ""
             }
            },
            "type": "scatterpolar"
           }
          ],
          "scatterpolargl": [
           {
            "marker": {
             "colorbar": {
              "outlinewidth": 0,
              "ticks": ""
             }
            },
            "type": "scatterpolargl"
           }
          ],
          "scatterternary": [
           {
            "marker": {
             "colorbar": {
              "outlinewidth": 0,
              "ticks": ""
             }
            },
            "type": "scatterternary"
           }
          ],
          "surface": [
           {
            "colorbar": {
             "outlinewidth": 0,
             "ticks": ""
            },
            "colorscale": [
             [
              0,
              "#0d0887"
             ],
             [
              0.1111111111111111,
              "#46039f"
             ],
             [
              0.2222222222222222,
              "#7201a8"
             ],
             [
              0.3333333333333333,
              "#9c179e"
             ],
             [
              0.4444444444444444,
              "#bd3786"
             ],
             [
              0.5555555555555556,
              "#d8576b"
             ],
             [
              0.6666666666666666,
              "#ed7953"
             ],
             [
              0.7777777777777778,
              "#fb9f3a"
             ],
             [
              0.8888888888888888,
              "#fdca26"
             ],
             [
              1,
              "#f0f921"
             ]
            ],
            "type": "surface"
           }
          ],
          "table": [
           {
            "cells": {
             "fill": {
              "color": "#EBF0F8"
             },
             "line": {
              "color": "white"
             }
            },
            "header": {
             "fill": {
              "color": "#C8D4E3"
             },
             "line": {
              "color": "white"
             }
            },
            "type": "table"
           }
          ]
         },
         "layout": {
          "annotationdefaults": {
           "arrowcolor": "#2a3f5f",
           "arrowhead": 0,
           "arrowwidth": 1
          },
          "autotypenumbers": "strict",
          "coloraxis": {
           "colorbar": {
            "outlinewidth": 0,
            "ticks": ""
           }
          },
          "colorscale": {
           "diverging": [
            [
             0,
             "#8e0152"
            ],
            [
             0.1,
             "#c51b7d"
            ],
            [
             0.2,
             "#de77ae"
            ],
            [
             0.3,
             "#f1b6da"
            ],
            [
             0.4,
             "#fde0ef"
            ],
            [
             0.5,
             "#f7f7f7"
            ],
            [
             0.6,
             "#e6f5d0"
            ],
            [
             0.7,
             "#b8e186"
            ],
            [
             0.8,
             "#7fbc41"
            ],
            [
             0.9,
             "#4d9221"
            ],
            [
             1,
             "#276419"
            ]
           ],
           "sequential": [
            [
             0,
             "#0d0887"
            ],
            [
             0.1111111111111111,
             "#46039f"
            ],
            [
             0.2222222222222222,
             "#7201a8"
            ],
            [
             0.3333333333333333,
             "#9c179e"
            ],
            [
             0.4444444444444444,
             "#bd3786"
            ],
            [
             0.5555555555555556,
             "#d8576b"
            ],
            [
             0.6666666666666666,
             "#ed7953"
            ],
            [
             0.7777777777777778,
             "#fb9f3a"
            ],
            [
             0.8888888888888888,
             "#fdca26"
            ],
            [
             1,
             "#f0f921"
            ]
           ],
           "sequentialminus": [
            [
             0,
             "#0d0887"
            ],
            [
             0.1111111111111111,
             "#46039f"
            ],
            [
             0.2222222222222222,
             "#7201a8"
            ],
            [
             0.3333333333333333,
             "#9c179e"
            ],
            [
             0.4444444444444444,
             "#bd3786"
            ],
            [
             0.5555555555555556,
             "#d8576b"
            ],
            [
             0.6666666666666666,
             "#ed7953"
            ],
            [
             0.7777777777777778,
             "#fb9f3a"
            ],
            [
             0.8888888888888888,
             "#fdca26"
            ],
            [
             1,
             "#f0f921"
            ]
           ]
          },
          "colorway": [
           "#636efa",
           "#EF553B",
           "#00cc96",
           "#ab63fa",
           "#FFA15A",
           "#19d3f3",
           "#FF6692",
           "#B6E880",
           "#FF97FF",
           "#FECB52"
          ],
          "font": {
           "color": "#2a3f5f"
          },
          "geo": {
           "bgcolor": "white",
           "lakecolor": "white",
           "landcolor": "white",
           "showlakes": true,
           "showland": true,
           "subunitcolor": "#C8D4E3"
          },
          "hoverlabel": {
           "align": "left"
          },
          "hovermode": "closest",
          "mapbox": {
           "style": "light"
          },
          "paper_bgcolor": "white",
          "plot_bgcolor": "white",
          "polar": {
           "angularaxis": {
            "gridcolor": "#EBF0F8",
            "linecolor": "#EBF0F8",
            "ticks": ""
           },
           "bgcolor": "white",
           "radialaxis": {
            "gridcolor": "#EBF0F8",
            "linecolor": "#EBF0F8",
            "ticks": ""
           }
          },
          "scene": {
           "xaxis": {
            "backgroundcolor": "white",
            "gridcolor": "#DFE8F3",
            "gridwidth": 2,
            "linecolor": "#EBF0F8",
            "showbackground": true,
            "ticks": "",
            "zerolinecolor": "#EBF0F8"
           },
           "yaxis": {
            "backgroundcolor": "white",
            "gridcolor": "#DFE8F3",
            "gridwidth": 2,
            "linecolor": "#EBF0F8",
            "showbackground": true,
            "ticks": "",
            "zerolinecolor": "#EBF0F8"
           },
           "zaxis": {
            "backgroundcolor": "white",
            "gridcolor": "#DFE8F3",
            "gridwidth": 2,
            "linecolor": "#EBF0F8",
            "showbackground": true,
            "ticks": "",
            "zerolinecolor": "#EBF0F8"
           }
          },
          "shapedefaults": {
           "line": {
            "color": "#2a3f5f"
           }
          },
          "ternary": {
           "aaxis": {
            "gridcolor": "#DFE8F3",
            "linecolor": "#A2B1C6",
            "ticks": ""
           },
           "baxis": {
            "gridcolor": "#DFE8F3",
            "linecolor": "#A2B1C6",
            "ticks": ""
           },
           "bgcolor": "white",
           "caxis": {
            "gridcolor": "#DFE8F3",
            "linecolor": "#A2B1C6",
            "ticks": ""
           }
          },
          "title": {
           "x": 0.05
          },
          "xaxis": {
           "automargin": true,
           "gridcolor": "#EBF0F8",
           "linecolor": "#EBF0F8",
           "ticks": "",
           "title": {
            "standoff": 15
           },
           "zerolinecolor": "#EBF0F8",
           "zerolinewidth": 2
          },
          "yaxis": {
           "automargin": true,
           "gridcolor": "#EBF0F8",
           "linecolor": "#EBF0F8",
           "ticks": "",
           "title": {
            "standoff": 15
           },
           "zerolinecolor": "#EBF0F8",
           "zerolinewidth": 2
          }
         }
        },
        "title": {
         "text": "Stock Volatility Rankings (Top 20 Most Volatile)"
        },
        "xaxis": {
         "title": {
          "text": "Annualized Volatility (%)"
         }
        },
        "yaxis": {
         "title": {
          "text": "Ticker"
         }
        }
       }
      }
     },
     "metadata": {},
     "output_type": "display_data"
    },
    {
     "data": {
      "application/vnd.plotly.v1+json": {
       "config": {
        "plotlyServerURL": "https://plot.ly"
       },
       "data": [
        {
         "hovertemplate": "<b>%{text}</b><br>Volatility: %{x:.1f}%<br>Return: %{y:.1f}%<extra></extra>",
         "marker": {
          "color": {
           "bdata": "3vaETGAgR0CsNUZoyQL0v650oRRjl1PActmfDyvXTUBdhncM6DVcQMQAl98qaBTA8fp+dqzyV0DxyJLbQvs1QARIhl/UnFBA35PtISr7ckBK1EyOKtg/QNlNsw+JpF5A5JmNsrw66L9+Fo50+gsnQN+4YNVoCjFAtDEefB5vFUCNafXzYQdgQHjgtl0QuiLA6bZz7A5aQEDcKa6WfypKQO/TgV7pklFAvubPVC76UEBjQRU6+dZTQLPpY+Sl2UVAW5VIgqH0K0CV67AYKztlQBK3KGFTHz5AHR9b1+liUkDhDGUkQ724PwznB9SMcVJAg6uXShffY0Aq0P82beZaQCM9LX+RoV5A/sqAjPjtVkDmNUCzU0VRQI7UMDn/oDlAmPhFecbBSUB7TAG+8BlfQDNv+ov0p1tA2PFnnAdZU0DctjqwXuBnQGLYWwsuv2FAWgAjHPbTUkAaKz5/ez1ZQInsY+6RsEZAzpJC3s/JO0CvixfFXjdRQO1be/Tk/ElAD+1aRKwLc0DZU/zYHzMTwA==",
           "dtype": "f8"
          },
          "colorbar": {
           "title": {
            "text": "Return (%)"
           }
          },
          "colorscale": [
           [
            0,
            "rgb(165,0,38)"
           ],
           [
            0.1,
            "rgb(215,48,39)"
           ],
           [
            0.2,
            "rgb(244,109,67)"
           ],
           [
            0.3,
            "rgb(253,174,97)"
           ],
           [
            0.4,
            "rgb(254,224,139)"
           ],
           [
            0.5,
            "rgb(255,255,191)"
           ],
           [
            0.6,
            "rgb(217,239,139)"
           ],
           [
            0.7,
            "rgb(166,217,106)"
           ],
           [
            0.8,
            "rgb(102,189,99)"
           ],
           [
            0.9,
            "rgb(26,152,80)"
           ],
           [
            1,
            "rgb(0,104,55)"
           ]
          ],
          "line": {
           "color": "white",
           "width": 1
          },
          "showscale": true,
          "size": {
           "bdata": "pf//////WEBe//////9YQND8/////1hAOvr/////WEAwX8hszUdSQGdOQQ42o05AXAAuGC/NQUBuFgAAAAAkQMUVAAAAACRA6RIAAAAAJECdDwAAAAAkQBMOAAAAACRAag0AAAAAJEDBDAAAAAAkQFAMAAAAACRAGAwAAAAAJECOCgAAAAAkQB4KAAAAACRAIwgAAAAAJEDwBQAAAAAkQLgFAAAAACRA1gQAAAAAJEDWBAAAAAAkQNYEAAAAACRA9gMAAAAAJECFAwAAAAAkQNwCAAAAACRA3AIAAAAAJECKAQAAAAAkQBkBAAAAACRA4QAAAAAAJEDhAAAAAAAkQOEAAAAAACRAAAAAAAAAJEAAAAAAAAAkQAAAAAAAACRAAAAAAAAAJEAAAAAAAAAkQAAAAAAAACRAAAAAAAAAJEAAAAAAAAAkQAAAAAAAACRAAAAAAAAAJEAAAAAAAAAkQAAAAAAAACRAAAAAAAAAJEAAAAAAAAAkQAAAAAAAACRAAAAAAAAAJEAAAAAAAAAkQA==",
           "dtype": "f8"
          }
         },
         "mode": "markers",
         "text": [
          "NEE",
          "MDLZ",
          "CNC",
          "WFC",
          "C",
          "PG",
          "BA",
          "SLB",
          "FCX",
          "HOOD",
          "MRNA",
          "SMCI",
          "KO",
          "T",
          "PM",
          "KR",
          "MCHP",
          "CMCSA",
          "PYPL",
          "FOX",
          "NKE",
          "HBAN",
          "JPM",
          "WMT",
          "VZ",
          "AVGO",
          "ROL",
          "KEY",
          "PCG",
          "DAY",
          "TSLA",
          "GOOG",
          "CCL",
          "XYZ",
          "PANW",
          "OMC",
          "BKNG",
          "GE",
          "GOOGL",
          "BAC",
          "ORCL",
          "NEM",
          "META",
          "ALB",
          "TXN",
          "CVX",
          "VTRS",
          "CSCO",
          "WDC",
          "PGR"
         ],
         "type": "scatter",
         "x": {
          "bdata": "Z0dB3a6fPEB6JvOA60I1QII6h6hy/1FAltiJxuhBOkDCho6bb2c7QHtYLsF+EDFAcewCzHCLQUAEjsYUzMBCQKsApDigfUlAxS36QUQCUUDAcRdRXvVMQOWTyrHpulJAOuS4GykcLUBJScgxNIszQMum9T9cyjdA0XkqY2OEOUBSp9WggFZPQLOTxQP8ZDdArbhVFxN8QUBRywNZJyo+QFxCtH7vTkVAIcfoZlA8PEBKyaP53pk1QOiThHiUCDdA2A4P8DFlMUBhJ26vWHdHQOicr1BbyDNA7qjR+HzSPEBQhC0iHCY/QPZUi9cNk0pAZPaLn7frT0Bya74YT9k/QBmJst5/TUdAjLdax8L0SkCmKTtNWTxCQGTvufLCvkBAKy27vMY1OkCEuvq5YwA8QJV6r7Y8FUBAxGIeSdNdNkDeYyBrmUdRQAjUFr3ajUJAKu8p/iLcQ0CEMDGz/ZhQQLIPOWQtPkZAZE9FVPFUOEDw9NDL9hJBQH4v5y9g2zdAy6OVw0CHRUCdPWWmIZU1QA==",
          "dtype": "f8"
         },
         "y": {
          "bdata": "3vaETGAgR0CsNUZoyQL0v650oRRjl1PActmfDyvXTUBdhncM6DVcQMQAl98qaBTA8fp+dqzyV0DxyJLbQvs1QARIhl/UnFBA35PtISr7ckBK1EyOKtg/QNlNsw+JpF5A5JmNsrw66L9+Fo50+gsnQN+4YNVoCjFAtDEefB5vFUCNafXzYQdgQHjgtl0QuiLA6bZz7A5aQEDcKa6WfypKQO/TgV7pklFAvubPVC76UEBjQRU6+dZTQLPpY+Sl2UVAW5VIgqH0K0CV67AYKztlQBK3KGFTHz5AHR9b1+liUkDhDGUkQ724PwznB9SMcVJAg6uXShffY0Aq0P82beZaQCM9LX+RoV5A/sqAjPjtVkDmNUCzU0VRQI7UMDn/oDlAmPhFecbBSUB7TAG+8BlfQDNv+ov0p1tA2PFnnAdZU0DctjqwXuBnQGLYWwsuv2FAWgAjHPbTUkAaKz5/ez1ZQInsY+6RsEZAzpJC3s/JO0CvixfFXjdRQO1be/Tk/ElAD+1aRKwLc0DZU/zYHzMTwA==",
          "dtype": "f8"
         }
        }
       ],
       "layout": {
        "height": 500,
        "template": {
         "data": {
          "bar": [
           {
            "error_x": {
             "color": "#2a3f5f"
            },
            "error_y": {
             "color": "#2a3f5f"
            },
            "marker": {
             "line": {
              "color": "white",
              "width": 0.5
             },
             "pattern": {
              "fillmode": "overlay",
              "size": 10,
              "solidity": 0.2
             }
            },
            "type": "bar"
           }
          ],
          "barpolar": [
           {
            "marker": {
             "line": {
              "color": "white",
              "width": 0.5
             },
             "pattern": {
              "fillmode": "overlay",
              "size": 10,
              "solidity": 0.2
             }
            },
            "type": "barpolar"
           }
          ],
          "carpet": [
           {
            "aaxis": {
             "endlinecolor": "#2a3f5f",
             "gridcolor": "#C8D4E3",
             "linecolor": "#C8D4E3",
             "minorgridcolor": "#C8D4E3",
             "startlinecolor": "#2a3f5f"
            },
            "baxis": {
             "endlinecolor": "#2a3f5f",
             "gridcolor": "#C8D4E3",
             "linecolor": "#C8D4E3",
             "minorgridcolor": "#C8D4E3",
             "startlinecolor": "#2a3f5f"
            },
            "type": "carpet"
           }
          ],
          "choropleth": [
           {
            "colorbar": {
             "outlinewidth": 0,
             "ticks": ""
            },
            "type": "choropleth"
           }
          ],
          "contour": [
           {
            "colorbar": {
             "outlinewidth": 0,
             "ticks": ""
            },
            "colorscale": [
             [
              0,
              "#0d0887"
             ],
             [
              0.1111111111111111,
              "#46039f"
             ],
             [
              0.2222222222222222,
              "#7201a8"
             ],
             [
              0.3333333333333333,
              "#9c179e"
             ],
             [
              0.4444444444444444,
              "#bd3786"
             ],
             [
              0.5555555555555556,
              "#d8576b"
             ],
             [
              0.6666666666666666,
              "#ed7953"
             ],
             [
              0.7777777777777778,
              "#fb9f3a"
             ],
             [
              0.8888888888888888,
              "#fdca26"
             ],
             [
              1,
              "#f0f921"
             ]
            ],
            "type": "contour"
           }
          ],
          "contourcarpet": [
           {
            "colorbar": {
             "outlinewidth": 0,
             "ticks": ""
            },
            "type": "contourcarpet"
           }
          ],
          "heatmap": [
           {
            "colorbar": {
             "outlinewidth": 0,
             "ticks": ""
            },
            "colorscale": [
             [
              0,
              "#0d0887"
             ],
             [
              0.1111111111111111,
              "#46039f"
             ],
             [
              0.2222222222222222,
              "#7201a8"
             ],
             [
              0.3333333333333333,
              "#9c179e"
             ],
             [
              0.4444444444444444,
              "#bd3786"
             ],
             [
              0.5555555555555556,
              "#d8576b"
             ],
             [
              0.6666666666666666,
              "#ed7953"
             ],
             [
              0.7777777777777778,
              "#fb9f3a"
             ],
             [
              0.8888888888888888,
              "#fdca26"
             ],
             [
              1,
              "#f0f921"
             ]
            ],
            "type": "heatmap"
           }
          ],
          "histogram": [
           {
            "marker": {
             "pattern": {
              "fillmode": "overlay",
              "size": 10,
              "solidity": 0.2
             }
            },
            "type": "histogram"
           }
          ],
          "histogram2d": [
           {
            "colorbar": {
             "outlinewidth": 0,
             "ticks": ""
            },
            "colorscale": [
             [
              0,
              "#0d0887"
             ],
             [
              0.1111111111111111,
              "#46039f"
             ],
             [
              0.2222222222222222,
              "#7201a8"
             ],
             [
              0.3333333333333333,
              "#9c179e"
             ],
             [
              0.4444444444444444,
              "#bd3786"
             ],
             [
              0.5555555555555556,
              "#d8576b"
             ],
             [
              0.6666666666666666,
              "#ed7953"
             ],
             [
              0.7777777777777778,
              "#fb9f3a"
             ],
             [
              0.8888888888888888,
              "#fdca26"
             ],
             [
              1,
              "#f0f921"
             ]
            ],
            "type": "histogram2d"
           }
          ],
          "histogram2dcontour": [
           {
            "colorbar": {
             "outlinewidth": 0,
             "ticks": ""
            },
            "colorscale": [
             [
              0,
              "#0d0887"
             ],
             [
              0.1111111111111111,
              "#46039f"
             ],
             [
              0.2222222222222222,
              "#7201a8"
             ],
             [
              0.3333333333333333,
              "#9c179e"
             ],
             [
              0.4444444444444444,
              "#bd3786"
             ],
             [
              0.5555555555555556,
              "#d8576b"
             ],
             [
              0.6666666666666666,
              "#ed7953"
             ],
             [
              0.7777777777777778,
              "#fb9f3a"
             ],
             [
              0.8888888888888888,
              "#fdca26"
             ],
             [
              1,
              "#f0f921"
             ]
            ],
            "type": "histogram2dcontour"
           }
          ],
          "mesh3d": [
           {
            "colorbar": {
             "outlinewidth": 0,
             "ticks": ""
            },
            "type": "mesh3d"
           }
          ],
          "parcoords": [
           {
            "line": {
             "colorbar": {
              "outlinewidth": 0,
              "ticks": ""
             }
            },
            "type": "parcoords"
           }
          ],
          "pie": [
           {
            "automargin": true,
            "type": "pie"
           }
          ],
          "scatter": [
           {
            "fillpattern": {
             "fillmode": "overlay",
             "size": 10,
             "solidity": 0.2
            },
            "type": "scatter"
           }
          ],
          "scatter3d": [
           {
            "line": {
             "colorbar": {
              "outlinewidth": 0,
              "ticks": ""
             }
            },
            "marker": {
             "colorbar": {
              "outlinewidth": 0,
              "ticks": ""
             }
            },
            "type": "scatter3d"
           }
          ],
          "scattercarpet": [
           {
            "marker": {
             "colorbar": {
              "outlinewidth": 0,
              "ticks": ""
             }
            },
            "type": "scattercarpet"
           }
          ],
          "scattergeo": [
           {
            "marker": {
             "colorbar": {
              "outlinewidth": 0,
              "ticks": ""
             }
            },
            "type": "scattergeo"
           }
          ],
          "scattergl": [
           {
            "marker": {
             "colorbar": {
              "outlinewidth": 0,
              "ticks": ""
             }
            },
            "type": "scattergl"
           }
          ],
          "scattermap": [
           {
            "marker": {
             "colorbar": {
              "outlinewidth": 0,
              "ticks": ""
             }
            },
            "type": "scattermap"
           }
          ],
          "scattermapbox": [
           {
            "marker": {
             "colorbar": {
              "outlinewidth": 0,
              "ticks": ""
             }
            },
            "type": "scattermapbox"
           }
          ],
          "scatterpolar": [
           {
            "marker": {
             "colorbar": {
              "outlinewidth": 0,
              "ticks": ""
             }
            },
            "type": "scatterpolar"
           }
          ],
          "scatterpolargl": [
           {
            "marker": {
             "colorbar": {
              "outlinewidth": 0,
              "ticks": ""
             }
            },
            "type": "scatterpolargl"
           }
          ],
          "scatterternary": [
           {
            "marker": {
             "colorbar": {
              "outlinewidth": 0,
              "ticks": ""
             }
            },
            "type": "scatterternary"
           }
          ],
          "surface": [
           {
            "colorbar": {
             "outlinewidth": 0,
             "ticks": ""
            },
            "colorscale": [
             [
              0,
              "#0d0887"
             ],
             [
              0.1111111111111111,
              "#46039f"
             ],
             [
              0.2222222222222222,
              "#7201a8"
             ],
             [
              0.3333333333333333,
              "#9c179e"
             ],
             [
              0.4444444444444444,
              "#bd3786"
             ],
             [
              0.5555555555555556,
              "#d8576b"
             ],
             [
              0.6666666666666666,
              "#ed7953"
             ],
             [
              0.7777777777777778,
              "#fb9f3a"
             ],
             [
              0.8888888888888888,
              "#fdca26"
             ],
             [
              1,
              "#f0f921"
             ]
            ],
            "type": "surface"
           }
          ],
          "table": [
           {
            "cells": {
             "fill": {
              "color": "#EBF0F8"
             },
             "line": {
              "color": "white"
             }
            },
            "header": {
             "fill": {
              "color": "#C8D4E3"
             },
             "line": {
              "color": "white"
             }
            },
            "type": "table"
           }
          ]
         },
         "layout": {
          "annotationdefaults": {
           "arrowcolor": "#2a3f5f",
           "arrowhead": 0,
           "arrowwidth": 1
          },
          "autotypenumbers": "strict",
          "coloraxis": {
           "colorbar": {
            "outlinewidth": 0,
            "ticks": ""
           }
          },
          "colorscale": {
           "diverging": [
            [
             0,
             "#8e0152"
            ],
            [
             0.1,
             "#c51b7d"
            ],
            [
             0.2,
             "#de77ae"
            ],
            [
             0.3,
             "#f1b6da"
            ],
            [
             0.4,
             "#fde0ef"
            ],
            [
             0.5,
             "#f7f7f7"
            ],
            [
             0.6,
             "#e6f5d0"
            ],
            [
             0.7,
             "#b8e186"
            ],
            [
             0.8,
             "#7fbc41"
            ],
            [
             0.9,
             "#4d9221"
            ],
            [
             1,
             "#276419"
            ]
           ],
           "sequential": [
            [
             0,
             "#0d0887"
            ],
            [
             0.1111111111111111,
             "#46039f"
            ],
            [
             0.2222222222222222,
             "#7201a8"
            ],
            [
             0.3333333333333333,
             "#9c179e"
            ],
            [
             0.4444444444444444,
             "#bd3786"
            ],
            [
             0.5555555555555556,
             "#d8576b"
            ],
            [
             0.6666666666666666,
             "#ed7953"
            ],
            [
             0.7777777777777778,
             "#fb9f3a"
            ],
            [
             0.8888888888888888,
             "#fdca26"
            ],
            [
             1,
             "#f0f921"
            ]
           ],
           "sequentialminus": [
            [
             0,
             "#0d0887"
            ],
            [
             0.1111111111111111,
             "#46039f"
            ],
            [
             0.2222222222222222,
             "#7201a8"
            ],
            [
             0.3333333333333333,
             "#9c179e"
            ],
            [
             0.4444444444444444,
             "#bd3786"
            ],
            [
             0.5555555555555556,
             "#d8576b"
            ],
            [
             0.6666666666666666,
             "#ed7953"
            ],
            [
             0.7777777777777778,
             "#fb9f3a"
            ],
            [
             0.8888888888888888,
             "#fdca26"
            ],
            [
             1,
             "#f0f921"
            ]
           ]
          },
          "colorway": [
           "#636efa",
           "#EF553B",
           "#00cc96",
           "#ab63fa",
           "#FFA15A",
           "#19d3f3",
           "#FF6692",
           "#B6E880",
           "#FF97FF",
           "#FECB52"
          ],
          "font": {
           "color": "#2a3f5f"
          },
          "geo": {
           "bgcolor": "white",
           "lakecolor": "white",
           "landcolor": "white",
           "showlakes": true,
           "showland": true,
           "subunitcolor": "#C8D4E3"
          },
          "hoverlabel": {
           "align": "left"
          },
          "hovermode": "closest",
          "mapbox": {
           "style": "light"
          },
          "paper_bgcolor": "white",
          "plot_bgcolor": "white",
          "polar": {
           "angularaxis": {
            "gridcolor": "#EBF0F8",
            "linecolor": "#EBF0F8",
            "ticks": ""
           },
           "bgcolor": "white",
           "radialaxis": {
            "gridcolor": "#EBF0F8",
            "linecolor": "#EBF0F8",
            "ticks": ""
           }
          },
          "scene": {
           "xaxis": {
            "backgroundcolor": "white",
            "gridcolor": "#DFE8F3",
            "gridwidth": 2,
            "linecolor": "#EBF0F8",
            "showbackground": true,
            "ticks": "",
            "zerolinecolor": "#EBF0F8"
           },
           "yaxis": {
            "backgroundcolor": "white",
            "gridcolor": "#DFE8F3",
            "gridwidth": 2,
            "linecolor": "#EBF0F8",
            "showbackground": true,
            "ticks": "",
            "zerolinecolor": "#EBF0F8"
           },
           "zaxis": {
            "backgroundcolor": "white",
            "gridcolor": "#DFE8F3",
            "gridwidth": 2,
            "linecolor": "#EBF0F8",
            "showbackground": true,
            "ticks": "",
            "zerolinecolor": "#EBF0F8"
           }
          },
          "shapedefaults": {
           "line": {
            "color": "#2a3f5f"
           }
          },
          "ternary": {
           "aaxis": {
            "gridcolor": "#DFE8F3",
            "linecolor": "#A2B1C6",
            "ticks": ""
           },
           "baxis": {
            "gridcolor": "#DFE8F3",
            "linecolor": "#A2B1C6",
            "ticks": ""
           },
           "bgcolor": "white",
           "caxis": {
            "gridcolor": "#DFE8F3",
            "linecolor": "#A2B1C6",
            "ticks": ""
           }
          },
          "title": {
           "x": 0.05
          },
          "xaxis": {
           "automargin": true,
           "gridcolor": "#EBF0F8",
           "linecolor": "#EBF0F8",
           "ticks": "",
           "title": {
            "standoff": 15
           },
           "zerolinecolor": "#EBF0F8",
           "zerolinewidth": 2
          },
          "yaxis": {
           "automargin": true,
           "gridcolor": "#EBF0F8",
           "linecolor": "#EBF0F8",
           "ticks": "",
           "title": {
            "standoff": 15
           },
           "zerolinecolor": "#EBF0F8",
           "zerolinewidth": 2
          }
         }
        },
        "title": {
         "text": "Risk-Return Profile"
        },
        "xaxis": {
         "title": {
          "text": "Volatility (Annual %)"
         }
        },
        "yaxis": {
         "title": {
          "text": "Return (Annual %)"
         }
        }
       }
      }
     },
     "metadata": {},
     "output_type": "display_data"
    },
    {
     "name": "stdout",
     "output_type": "stream",
     "text": [
      "✅ Risk analysis complete!\n"
     ]
    }
   ],
   "source": [
    "# Correlation matrix\n",
    "correlation_matrix = returns[portfolio.head(20)['ticker'].tolist()].corr()\n",
    "\n",
    "# Create correlation heatmap\n",
    "fig = go.Figure(data=go.Heatmap(\n",
    "    z=correlation_matrix.values,\n",
    "    x=correlation_matrix.columns,\n",
    "    y=correlation_matrix.index,\n",
    "    colorscale='RdBu',\n",
    "    zmid=0,\n",
    "    text=correlation_matrix.values,\n",
    "    texttemplate='%{text:.2f}',\n",
    "    textfont={\"size\": 8},\n",
    "    hovertemplate='%{x} vs %{y}<br>Correlation: %{z:.3f}<extra></extra>'\n",
    "))\n",
    "\n",
    "fig.update_layout(\n",
    "    title='Stock Correlation Matrix (Top 20 Holdings)',\n",
    "    height=700,\n",
    "    width=700,\n",
    "    template='plotly_white'\n",
    ")\n",
    "\n",
    "fig.show()\n",
    "\n",
    "# Volatility analysis\n",
    "volatilities = returns[portfolio['ticker'].tolist()].std() * np.sqrt(252) * 100\n",
    "vol_df = pd.DataFrame({\n",
    "    'ticker': volatilities.index,\n",
    "    'volatility': volatilities.values\n",
    "})\n",
    "vol_df = vol_df.merge(portfolio[['ticker', 'weight', 'company_name']], on='ticker')\n",
    "vol_df = vol_df.sort_values('volatility', ascending=False)\n",
    "\n",
    "# Volatility chart\n",
    "fig = go.Figure()\n",
    "\n",
    "top_20_vol = vol_df.head(20).sort_values('volatility', ascending=True)\n",
    "\n",
    "fig.add_trace(go.Bar(\n",
    "    y=top_20_vol['ticker'],\n",
    "    x=top_20_vol['volatility'],\n",
    "    orientation='h',\n",
    "    marker=dict(\n",
    "        color=top_20_vol['volatility'],\n",
    "        colorscale='Reds',\n",
    "        showscale=True,\n",
    "        colorbar=dict(title=\"Volatility (%)\")\n",
    "    ),\n",
    "    text=[f\"{v:.1f}%\" for v in top_20_vol['volatility']],\n",
    "    textposition='auto',\n",
    "    hovertemplate='<b>%{y}</b><br>Annual Volatility: %{x:.2f}%<extra></extra>'\n",
    "))\n",
    "\n",
    "fig.update_layout(\n",
    "    title='Stock Volatility Rankings (Top 20 Most Volatile)',\n",
    "    xaxis_title='Annualized Volatility (%)',\n",
    "    yaxis_title='Ticker',\n",
    "    height=600,\n",
    "    template='plotly_white'\n",
    ")\n",
    "\n",
    "fig.show()\n",
    "\n",
    "# Risk/Return scatter\n",
    "avg_returns = returns[portfolio['ticker'].tolist()].mean() * 252 * 100\n",
    "risk_return = pd.DataFrame({\n",
    "    'ticker': avg_returns.index,\n",
    "    'return': avg_returns.values,\n",
    "    'volatility': volatilities.values\n",
    "})\n",
    "risk_return = risk_return.merge(portfolio[['ticker', 'weight']], on='ticker')\n",
    "\n",
    "fig = go.Figure()\n",
    "\n",
    "fig.add_trace(go.Scatter(\n",
    "    x=risk_return['volatility'],\n",
    "    y=risk_return['return'],\n",
    "    mode='markers',\n",
    "    marker=dict(\n",
    "        size=risk_return['weight'] * 1000,\n",
    "        color=risk_return['return'],\n",
    "        colorscale='RdYlGn',\n",
    "        showscale=True,\n",
    "        colorbar=dict(title=\"Return (%)\"),\n",
    "        line=dict(width=1, color='white')\n",
    "    ),\n",
    "    text=risk_return['ticker'],\n",
    "    hovertemplate='<b>%{text}</b><br>Volatility: %{x:.1f}%<br>Return: %{y:.1f}%<extra></extra>'\n",
    "))\n",
    "\n",
    "fig.update_layout(\n",
    "    title='Risk-Return Profile',\n",
    "    xaxis_title='Volatility (Annual %)',\n",
    "    yaxis_title='Return (Annual %)',\n",
    "    height=500,\n",
    "    template='plotly_white'\n",
    ")\n",
    "\n",
    "fig.show()\n",
    "\n",
    "print(\"✅ Risk analysis complete!\")\n"
   ]
  },
  {
   "cell_type": "markdown",
   "id": "md_17",
   "metadata": {},
   "source": [
    "## 🔮 Step 9: Future Projections\n"
   ]
  },
  {
   "cell_type": "code",
   "execution_count": 14,
   "id": "code_18",
   "metadata": {},
   "outputs": [
    {
     "name": "stdout",
     "output_type": "stream",
     "text": [
      "================================================================================\n",
      "🔮 FUTURE OUTLOOK (1-Year Monte Carlo Simulation)\n",
      "================================================================================\n",
      "\n",
      "💰 Expected Outcomes:\n",
      "   Starting Value: $5,000.00\n",
      "   Mean Final Value: $6,179.73\n",
      "   Expected Return: +23.59%\n",
      "   Median Final Value: $6,061.42\n",
      "\n",
      "⚠️  Risk Metrics:\n",
      "   Probability of Loss: 16.5%\n",
      "   Probability of Gain: 83.5%\n",
      "   Value at Risk (95%): $643.79\n",
      "\n",
      "📊 Confidence Intervals:\n",
      "   5th Percentile: Worst case scenario\n",
      "   50th Percentile: Most likely outcome\n",
      "   95th Percentile: Best case scenario\n",
      "\n",
      "✅ RECOMMENDATION:\n",
      "   🟡 MODERATE BUY\n",
      "   • Decent risk-adjusted returns (Sharpe: 0.98)\n",
      "   • Acceptable risk level\n",
      "================================================================================\n"
     ]
    }
   ],
   "source": [
    "if performance is not None:\n",
    "    mc = performance.get('monte_carlo', {})\n",
    "    \n",
    "    print(\"=\" * 80)\n",
    "    print(\"🔮 FUTURE OUTLOOK (1-Year Monte Carlo Simulation)\")\n",
    "    print(\"=\" * 80)\n",
    "    \n",
    "    if mc:\n",
    "        initial = 5000  # From config\n",
    "        mean_final = mc.get('mean_final_value', 0)\n",
    "        median_final = mc.get('median_final_value', 0)\n",
    "        prob_loss = mc.get('probability_loss', 0)\n",
    "        var_95 = mc.get('var_95', 0)\n",
    "        \n",
    "        print(f\"\\n💰 Expected Outcomes:\")\n",
    "        print(f\"   Starting Value: ${initial:,.2f}\")\n",
    "        print(f\"   Mean Final Value: ${mean_final:,.2f}\")\n",
    "        print(f\"   Expected Return: {(mean_final/initial - 1)*100:+.2f}%\")\n",
    "        print(f\"   Median Final Value: ${median_final:,.2f}\")\n",
    "        \n",
    "        print(f\"\\n⚠️  Risk Metrics:\")\n",
    "        print(f\"   Probability of Loss: {prob_loss*100:.1f}%\")\n",
    "        print(f\"   Probability of Gain: {(1-prob_loss)*100:.1f}%\")\n",
    "        print(f\"   Value at Risk (95%): ${abs(var_95):,.2f}\")\n",
    "        \n",
    "        print(f\"\\n📊 Confidence Intervals:\")\n",
    "        # These would come from percentiles in simulation\n",
    "        print(f\"   5th Percentile: Worst case scenario\")\n",
    "        print(f\"   50th Percentile: Most likely outcome\")\n",
    "        print(f\"   95th Percentile: Best case scenario\")\n",
    "        \n",
    "        # Investment recommendation\n",
    "        print(f\"\\n✅ RECOMMENDATION:\")\n",
    "        backtest = performance.get('backtest', {})\n",
    "        sharpe = backtest.get('sharpe_ratio', 0)\n",
    "        \n",
    "        if sharpe > 1.0 and prob_loss < 0.3:\n",
    "            print(f\"   🟢 STRONG BUY\")\n",
    "            print(f\"   • High risk-adjusted returns (Sharpe: {sharpe:.2f})\")\n",
    "            print(f\"   • Low probability of loss ({prob_loss*100:.1f}%)\")\n",
    "            print(f\"   • Diversified portfolio with {len(portfolio)} holdings\")\n",
    "        elif sharpe > 0.5 and prob_loss < 0.4:\n",
    "            print(f\"   🟡 MODERATE BUY\")\n",
    "            print(f\"   • Decent risk-adjusted returns (Sharpe: {sharpe:.2f})\")\n",
    "            print(f\"   • Acceptable risk level\")\n",
    "        else:\n",
    "            print(f\"   🔴 CAUTION\")\n",
    "            print(f\"   • Review risk tolerance carefully\")\n",
    "            print(f\"   • Consider rebalancing\")\n",
    "    \n",
    "    print(\"=\" * 80)\n",
    "else:\n",
    "    print(\"⚠️  Performance simulation not available. Run Notebook 05 first.\")\n"
   ]
  },
  {
   "cell_type": "markdown",
   "id": "md_19",
   "metadata": {},
   "source": [
    "## 📋 Step 10: Complete Portfolio Summary\n"
   ]
  },
  {
   "cell_type": "code",
   "execution_count": 15,
   "id": "code_20",
   "metadata": {},
   "outputs": [
    {
     "name": "stdout",
     "output_type": "stream",
     "text": [
      "================================================================================\n",
      "📊 COMPLETE PORTFOLIO HOLDINGS\n",
      "================================================================================\n",
      "\n",
      "Showing all 50 positions\n",
      "\n"
     ]
    },
    {
     "data": {
      "text/html": [
       "<div>\n",
       "<style scoped>\n",
       "    .dataframe tbody tr th:only-of-type {\n",
       "        vertical-align: middle;\n",
       "    }\n",
       "\n",
       "    .dataframe tbody tr th {\n",
       "        vertical-align: top;\n",
       "    }\n",
       "\n",
       "    .dataframe thead th {\n",
       "        text-align: right;\n",
       "    }\n",
       "</style>\n",
       "<table border=\"1\" class=\"dataframe\">\n",
       "  <thead>\n",
       "    <tr style=\"text-align: right;\">\n",
       "      <th></th>\n",
       "      <th>ticker</th>\n",
       "      <th>company_name</th>\n",
       "      <th>sector</th>\n",
       "      <th>weight</th>\n",
       "      <th>dollar_amount</th>\n",
       "      <th>shares</th>\n",
       "      <th>pred_return_3M</th>\n",
       "    </tr>\n",
       "  </thead>\n",
       "  <tbody>\n",
       "    <tr>\n",
       "      <th>0</th>\n",
       "      <td>NEE</td>\n",
       "      <td>NextEra Energy</td>\n",
       "      <td>Utilities</td>\n",
       "      <td>10.00%</td>\n",
       "      <td>$500</td>\n",
       "      <td>6</td>\n",
       "      <td>0.086290</td>\n",
       "    </tr>\n",
       "    <tr>\n",
       "      <th>1</th>\n",
       "      <td>MDLZ</td>\n",
       "      <td>Mondelez International</td>\n",
       "      <td>Consumer Staples</td>\n",
       "      <td>10.00%</td>\n",
       "      <td>$500</td>\n",
       "      <td>7</td>\n",
       "      <td>0.045024</td>\n",
       "    </tr>\n",
       "    <tr>\n",
       "      <th>2</th>\n",
       "      <td>CNC</td>\n",
       "      <td>Centene Corporation</td>\n",
       "      <td>Health Care</td>\n",
       "      <td>10.00%</td>\n",
       "      <td>$500</td>\n",
       "      <td>13</td>\n",
       "      <td>0.054620</td>\n",
       "    </tr>\n",
       "    <tr>\n",
       "      <th>3</th>\n",
       "      <td>WFC</td>\n",
       "      <td>Wells Fargo</td>\n",
       "      <td>Financials</td>\n",
       "      <td>10.00%</td>\n",
       "      <td>$500</td>\n",
       "      <td>6</td>\n",
       "      <td>0.064142</td>\n",
       "    </tr>\n",
       "    <tr>\n",
       "      <th>4</th>\n",
       "      <td>C</td>\n",
       "      <td>Citigroup</td>\n",
       "      <td>Financials</td>\n",
       "      <td>7.31%</td>\n",
       "      <td>$366</td>\n",
       "      <td>3</td>\n",
       "      <td>0.072323</td>\n",
       "    </tr>\n",
       "    <tr>\n",
       "      <th>5</th>\n",
       "      <td>PG</td>\n",
       "      <td>Procter &amp; Gamble</td>\n",
       "      <td>Consumer Staples</td>\n",
       "      <td>6.13%</td>\n",
       "      <td>$306</td>\n",
       "      <td>2</td>\n",
       "      <td>0.079875</td>\n",
       "    </tr>\n",
       "    <tr>\n",
       "      <th>6</th>\n",
       "      <td>BA</td>\n",
       "      <td>Boeing</td>\n",
       "      <td>Industrials</td>\n",
       "      <td>3.56%</td>\n",
       "      <td>$178</td>\n",
       "      <td>0</td>\n",
       "      <td>0.053574</td>\n",
       "    </tr>\n",
       "    <tr>\n",
       "      <th>7</th>\n",
       "      <td>SLB</td>\n",
       "      <td>Schlumberger</td>\n",
       "      <td>Energy</td>\n",
       "      <td>1.00%</td>\n",
       "      <td>$50</td>\n",
       "      <td>1</td>\n",
       "      <td>0.056253</td>\n",
       "    </tr>\n",
       "    <tr>\n",
       "      <th>8</th>\n",
       "      <td>FCX</td>\n",
       "      <td>Freeport-McMoRan</td>\n",
       "      <td>Materials</td>\n",
       "      <td>1.00%</td>\n",
       "      <td>$50</td>\n",
       "      <td>1</td>\n",
       "      <td>0.188617</td>\n",
       "    </tr>\n",
       "    <tr>\n",
       "      <th>9</th>\n",
       "      <td>HOOD</td>\n",
       "      <td>Robinhood Markets</td>\n",
       "      <td>Financials</td>\n",
       "      <td>1.00%</td>\n",
       "      <td>$50</td>\n",
       "      <td>0</td>\n",
       "      <td>0.216255</td>\n",
       "    </tr>\n",
       "    <tr>\n",
       "      <th>10</th>\n",
       "      <td>MRNA</td>\n",
       "      <td>Moderna</td>\n",
       "      <td>Health Care</td>\n",
       "      <td>1.00%</td>\n",
       "      <td>$50</td>\n",
       "      <td>1</td>\n",
       "      <td>0.060305</td>\n",
       "    </tr>\n",
       "    <tr>\n",
       "      <th>11</th>\n",
       "      <td>SMCI</td>\n",
       "      <td>Supermicro</td>\n",
       "      <td>Information Technology</td>\n",
       "      <td>1.00%</td>\n",
       "      <td>$50</td>\n",
       "      <td>0</td>\n",
       "      <td>0.233378</td>\n",
       "    </tr>\n",
       "    <tr>\n",
       "      <th>12</th>\n",
       "      <td>KO</td>\n",
       "      <td>Coca-Cola Company (The)</td>\n",
       "      <td>Consumer Staples</td>\n",
       "      <td>1.00%</td>\n",
       "      <td>$50</td>\n",
       "      <td>0</td>\n",
       "      <td>0.092013</td>\n",
       "    </tr>\n",
       "    <tr>\n",
       "      <th>13</th>\n",
       "      <td>T</td>\n",
       "      <td>AT&amp;T</td>\n",
       "      <td>Communication Services</td>\n",
       "      <td>1.00%</td>\n",
       "      <td>$50</td>\n",
       "      <td>1</td>\n",
       "      <td>0.048110</td>\n",
       "    </tr>\n",
       "    <tr>\n",
       "      <th>14</th>\n",
       "      <td>PM</td>\n",
       "      <td>Philip Morris International</td>\n",
       "      <td>Consumer Staples</td>\n",
       "      <td>1.00%</td>\n",
       "      <td>$50</td>\n",
       "      <td>0</td>\n",
       "      <td>0.047970</td>\n",
       "    </tr>\n",
       "    <tr>\n",
       "      <th>15</th>\n",
       "      <td>KR</td>\n",
       "      <td>Kroger</td>\n",
       "      <td>Consumer Staples</td>\n",
       "      <td>1.00%</td>\n",
       "      <td>$50</td>\n",
       "      <td>0</td>\n",
       "      <td>0.049406</td>\n",
       "    </tr>\n",
       "    <tr>\n",
       "      <th>16</th>\n",
       "      <td>MCHP</td>\n",
       "      <td>Microchip Technology</td>\n",
       "      <td>Information Technology</td>\n",
       "      <td>1.00%</td>\n",
       "      <td>$50</td>\n",
       "      <td>0</td>\n",
       "      <td>0.059525</td>\n",
       "    </tr>\n",
       "    <tr>\n",
       "      <th>17</th>\n",
       "      <td>CMCSA</td>\n",
       "      <td>Comcast</td>\n",
       "      <td>Communication Services</td>\n",
       "      <td>1.00%</td>\n",
       "      <td>$50</td>\n",
       "      <td>1</td>\n",
       "      <td>0.056253</td>\n",
       "    </tr>\n",
       "    <tr>\n",
       "      <th>18</th>\n",
       "      <td>PYPL</td>\n",
       "      <td>PayPal</td>\n",
       "      <td>Financials</td>\n",
       "      <td>1.00%</td>\n",
       "      <td>$50</td>\n",
       "      <td>0</td>\n",
       "      <td>0.048639</td>\n",
       "    </tr>\n",
       "    <tr>\n",
       "      <th>19</th>\n",
       "      <td>FOX</td>\n",
       "      <td>Fox Corporation (Class B)</td>\n",
       "      <td>Communication Services</td>\n",
       "      <td>1.00%</td>\n",
       "      <td>$50</td>\n",
       "      <td>0</td>\n",
       "      <td>0.054999</td>\n",
       "    </tr>\n",
       "    <tr>\n",
       "      <th>20</th>\n",
       "      <td>NKE</td>\n",
       "      <td>Nike, Inc.</td>\n",
       "      <td>Consumer Discretionary</td>\n",
       "      <td>1.00%</td>\n",
       "      <td>$50</td>\n",
       "      <td>0</td>\n",
       "      <td>0.086290</td>\n",
       "    </tr>\n",
       "    <tr>\n",
       "      <th>21</th>\n",
       "      <td>HBAN</td>\n",
       "      <td>Huntington Bancshares</td>\n",
       "      <td>Financials</td>\n",
       "      <td>1.00%</td>\n",
       "      <td>$50</td>\n",
       "      <td>2</td>\n",
       "      <td>0.083963</td>\n",
       "    </tr>\n",
       "    <tr>\n",
       "      <th>22</th>\n",
       "      <td>JPM</td>\n",
       "      <td>JPMorgan Chase</td>\n",
       "      <td>Financials</td>\n",
       "      <td>1.00%</td>\n",
       "      <td>$50</td>\n",
       "      <td>0</td>\n",
       "      <td>0.051521</td>\n",
       "    </tr>\n",
       "    <tr>\n",
       "      <th>23</th>\n",
       "      <td>WMT</td>\n",
       "      <td>Walmart</td>\n",
       "      <td>Consumer Staples</td>\n",
       "      <td>1.00%</td>\n",
       "      <td>$50</td>\n",
       "      <td>0</td>\n",
       "      <td>0.044444</td>\n",
       "    </tr>\n",
       "    <tr>\n",
       "      <th>24</th>\n",
       "      <td>VZ</td>\n",
       "      <td>Verizon</td>\n",
       "      <td>Communication Services</td>\n",
       "      <td>1.00%</td>\n",
       "      <td>$50</td>\n",
       "      <td>1</td>\n",
       "      <td>0.053820</td>\n",
       "    </tr>\n",
       "    <tr>\n",
       "      <th>25</th>\n",
       "      <td>AVGO</td>\n",
       "      <td>Broadcom</td>\n",
       "      <td>Information Technology</td>\n",
       "      <td>1.00%</td>\n",
       "      <td>$50</td>\n",
       "      <td>0</td>\n",
       "      <td>0.070008</td>\n",
       "    </tr>\n",
       "    <tr>\n",
       "      <th>26</th>\n",
       "      <td>ROL</td>\n",
       "      <td>Rollins, Inc.</td>\n",
       "      <td>Industrials</td>\n",
       "      <td>1.00%</td>\n",
       "      <td>$50</td>\n",
       "      <td>0</td>\n",
       "      <td>0.049429</td>\n",
       "    </tr>\n",
       "    <tr>\n",
       "      <th>27</th>\n",
       "      <td>KEY</td>\n",
       "      <td>KeyCorp</td>\n",
       "      <td>Financials</td>\n",
       "      <td>1.00%</td>\n",
       "      <td>$50</td>\n",
       "      <td>2</td>\n",
       "      <td>0.161858</td>\n",
       "    </tr>\n",
       "    <tr>\n",
       "      <th>28</th>\n",
       "      <td>PCG</td>\n",
       "      <td>PG&amp;E Corporation</td>\n",
       "      <td>Utilities</td>\n",
       "      <td>1.00%</td>\n",
       "      <td>$50</td>\n",
       "      <td>3</td>\n",
       "      <td>0.118733</td>\n",
       "    </tr>\n",
       "    <tr>\n",
       "      <th>29</th>\n",
       "      <td>DAY</td>\n",
       "      <td>Dayforce</td>\n",
       "      <td>Industrials</td>\n",
       "      <td>1.00%</td>\n",
       "      <td>$50</td>\n",
       "      <td>0</td>\n",
       "      <td>0.051511</td>\n",
       "    </tr>\n",
       "    <tr>\n",
       "      <th>30</th>\n",
       "      <td>TSLA</td>\n",
       "      <td>Tesla, Inc.</td>\n",
       "      <td>Consumer Discretionary</td>\n",
       "      <td>1.00%</td>\n",
       "      <td>$50</td>\n",
       "      <td>0</td>\n",
       "      <td>0.102511</td>\n",
       "    </tr>\n",
       "    <tr>\n",
       "      <th>31</th>\n",
       "      <td>GOOG</td>\n",
       "      <td>Alphabet Inc. (Class C)</td>\n",
       "      <td>Communication Services</td>\n",
       "      <td>1.00%</td>\n",
       "      <td>$50</td>\n",
       "      <td>0</td>\n",
       "      <td>0.099255</td>\n",
       "    </tr>\n",
       "    <tr>\n",
       "      <th>32</th>\n",
       "      <td>CCL</td>\n",
       "      <td>Carnival</td>\n",
       "      <td>Consumer Discretionary</td>\n",
       "      <td>1.00%</td>\n",
       "      <td>$50</td>\n",
       "      <td>1</td>\n",
       "      <td>0.094353</td>\n",
       "    </tr>\n",
       "    <tr>\n",
       "      <th>33</th>\n",
       "      <td>XYZ</td>\n",
       "      <td>Block, Inc.</td>\n",
       "      <td>Financials</td>\n",
       "      <td>1.00%</td>\n",
       "      <td>$50</td>\n",
       "      <td>0</td>\n",
       "      <td>0.045024</td>\n",
       "    </tr>\n",
       "    <tr>\n",
       "      <th>34</th>\n",
       "      <td>PANW</td>\n",
       "      <td>Palo Alto Networks</td>\n",
       "      <td>Information Technology</td>\n",
       "      <td>1.00%</td>\n",
       "      <td>$50</td>\n",
       "      <td>0</td>\n",
       "      <td>0.044487</td>\n",
       "    </tr>\n",
       "    <tr>\n",
       "      <th>35</th>\n",
       "      <td>OMC</td>\n",
       "      <td>Omnicom Group</td>\n",
       "      <td>Communication Services</td>\n",
       "      <td>1.00%</td>\n",
       "      <td>$50</td>\n",
       "      <td>0</td>\n",
       "      <td>0.048164</td>\n",
       "    </tr>\n",
       "    <tr>\n",
       "      <th>36</th>\n",
       "      <td>BKNG</td>\n",
       "      <td>Booking Holdings</td>\n",
       "      <td>Consumer Discretionary</td>\n",
       "      <td>1.00%</td>\n",
       "      <td>$50</td>\n",
       "      <td>0</td>\n",
       "      <td>0.046744</td>\n",
       "    </tr>\n",
       "    <tr>\n",
       "      <th>37</th>\n",
       "      <td>GE</td>\n",
       "      <td>GE Aerospace</td>\n",
       "      <td>Industrials</td>\n",
       "      <td>1.00%</td>\n",
       "      <td>$50</td>\n",
       "      <td>0</td>\n",
       "      <td>0.046820</td>\n",
       "    </tr>\n",
       "    <tr>\n",
       "      <th>38</th>\n",
       "      <td>GOOGL</td>\n",
       "      <td>Alphabet Inc. (Class A)</td>\n",
       "      <td>Communication Services</td>\n",
       "      <td>1.00%</td>\n",
       "      <td>$50</td>\n",
       "      <td>0</td>\n",
       "      <td>0.122728</td>\n",
       "    </tr>\n",
       "    <tr>\n",
       "      <th>39</th>\n",
       "      <td>BAC</td>\n",
       "      <td>Bank of America</td>\n",
       "      <td>Financials</td>\n",
       "      <td>1.00%</td>\n",
       "      <td>$50</td>\n",
       "      <td>0</td>\n",
       "      <td>0.172687</td>\n",
       "    </tr>\n",
       "    <tr>\n",
       "      <th>40</th>\n",
       "      <td>ORCL</td>\n",
       "      <td>Oracle Corporation</td>\n",
       "      <td>Information Technology</td>\n",
       "      <td>1.00%</td>\n",
       "      <td>$50</td>\n",
       "      <td>0</td>\n",
       "      <td>0.076099</td>\n",
       "    </tr>\n",
       "    <tr>\n",
       "      <th>41</th>\n",
       "      <td>NEM</td>\n",
       "      <td>Newmont</td>\n",
       "      <td>Materials</td>\n",
       "      <td>1.00%</td>\n",
       "      <td>$50</td>\n",
       "      <td>0</td>\n",
       "      <td>0.048627</td>\n",
       "    </tr>\n",
       "    <tr>\n",
       "      <th>42</th>\n",
       "      <td>META</td>\n",
       "      <td>Meta Platforms</td>\n",
       "      <td>Communication Services</td>\n",
       "      <td>1.00%</td>\n",
       "      <td>$50</td>\n",
       "      <td>0</td>\n",
       "      <td>0.049293</td>\n",
       "    </tr>\n",
       "    <tr>\n",
       "      <th>43</th>\n",
       "      <td>ALB</td>\n",
       "      <td>Albemarle Corporation</td>\n",
       "      <td>Materials</td>\n",
       "      <td>1.00%</td>\n",
       "      <td>$50</td>\n",
       "      <td>0</td>\n",
       "      <td>0.049406</td>\n",
       "    </tr>\n",
       "    <tr>\n",
       "      <th>44</th>\n",
       "      <td>TXN</td>\n",
       "      <td>Texas Instruments</td>\n",
       "      <td>Information Technology</td>\n",
       "      <td>1.00%</td>\n",
       "      <td>$50</td>\n",
       "      <td>0</td>\n",
       "      <td>0.070135</td>\n",
       "    </tr>\n",
       "    <tr>\n",
       "      <th>45</th>\n",
       "      <td>CVX</td>\n",
       "      <td>Chevron Corporation</td>\n",
       "      <td>Energy</td>\n",
       "      <td>1.00%</td>\n",
       "      <td>$50</td>\n",
       "      <td>0</td>\n",
       "      <td>0.118607</td>\n",
       "    </tr>\n",
       "    <tr>\n",
       "      <th>46</th>\n",
       "      <td>VTRS</td>\n",
       "      <td>Viatris</td>\n",
       "      <td>Health Care</td>\n",
       "      <td>1.00%</td>\n",
       "      <td>$50</td>\n",
       "      <td>4</td>\n",
       "      <td>0.054224</td>\n",
       "    </tr>\n",
       "    <tr>\n",
       "      <th>47</th>\n",
       "      <td>CSCO</td>\n",
       "      <td>Cisco</td>\n",
       "      <td>Information Technology</td>\n",
       "      <td>1.00%</td>\n",
       "      <td>$50</td>\n",
       "      <td>0</td>\n",
       "      <td>0.098293</td>\n",
       "    </tr>\n",
       "    <tr>\n",
       "      <th>48</th>\n",
       "      <td>WDC</td>\n",
       "      <td>Western Digital</td>\n",
       "      <td>Information Technology</td>\n",
       "      <td>1.00%</td>\n",
       "      <td>$50</td>\n",
       "      <td>0</td>\n",
       "      <td>0.065326</td>\n",
       "    </tr>\n",
       "    <tr>\n",
       "      <th>49</th>\n",
       "      <td>PGR</td>\n",
       "      <td>Progressive Corporation</td>\n",
       "      <td>Financials</td>\n",
       "      <td>1.00%</td>\n",
       "      <td>$50</td>\n",
       "      <td>0</td>\n",
       "      <td>0.051377</td>\n",
       "    </tr>\n",
       "  </tbody>\n",
       "</table>\n",
       "</div>"
      ],
      "text/plain": [
       "   ticker                 company_name                  sector  weight  \\\n",
       "0     NEE               NextEra Energy               Utilities  10.00%   \n",
       "1    MDLZ       Mondelez International        Consumer Staples  10.00%   \n",
       "2     CNC          Centene Corporation             Health Care  10.00%   \n",
       "3     WFC                  Wells Fargo              Financials  10.00%   \n",
       "4       C                    Citigroup              Financials   7.31%   \n",
       "5      PG             Procter & Gamble        Consumer Staples   6.13%   \n",
       "6      BA                       Boeing             Industrials   3.56%   \n",
       "7     SLB                 Schlumberger                  Energy   1.00%   \n",
       "8     FCX             Freeport-McMoRan               Materials   1.00%   \n",
       "9    HOOD            Robinhood Markets              Financials   1.00%   \n",
       "10   MRNA                      Moderna             Health Care   1.00%   \n",
       "11   SMCI                   Supermicro  Information Technology   1.00%   \n",
       "12     KO      Coca-Cola Company (The)        Consumer Staples   1.00%   \n",
       "13      T                         AT&T  Communication Services   1.00%   \n",
       "14     PM  Philip Morris International        Consumer Staples   1.00%   \n",
       "15     KR                       Kroger        Consumer Staples   1.00%   \n",
       "16   MCHP         Microchip Technology  Information Technology   1.00%   \n",
       "17  CMCSA                      Comcast  Communication Services   1.00%   \n",
       "18   PYPL                       PayPal              Financials   1.00%   \n",
       "19    FOX    Fox Corporation (Class B)  Communication Services   1.00%   \n",
       "20    NKE                   Nike, Inc.  Consumer Discretionary   1.00%   \n",
       "21   HBAN        Huntington Bancshares              Financials   1.00%   \n",
       "22    JPM               JPMorgan Chase              Financials   1.00%   \n",
       "23    WMT                      Walmart        Consumer Staples   1.00%   \n",
       "24     VZ                      Verizon  Communication Services   1.00%   \n",
       "25   AVGO                     Broadcom  Information Technology   1.00%   \n",
       "26    ROL                Rollins, Inc.             Industrials   1.00%   \n",
       "27    KEY                      KeyCorp              Financials   1.00%   \n",
       "28    PCG             PG&E Corporation               Utilities   1.00%   \n",
       "29    DAY                     Dayforce             Industrials   1.00%   \n",
       "30   TSLA                  Tesla, Inc.  Consumer Discretionary   1.00%   \n",
       "31   GOOG      Alphabet Inc. (Class C)  Communication Services   1.00%   \n",
       "32    CCL                     Carnival  Consumer Discretionary   1.00%   \n",
       "33    XYZ                  Block, Inc.              Financials   1.00%   \n",
       "34   PANW           Palo Alto Networks  Information Technology   1.00%   \n",
       "35    OMC                Omnicom Group  Communication Services   1.00%   \n",
       "36   BKNG             Booking Holdings  Consumer Discretionary   1.00%   \n",
       "37     GE                 GE Aerospace             Industrials   1.00%   \n",
       "38  GOOGL      Alphabet Inc. (Class A)  Communication Services   1.00%   \n",
       "39    BAC              Bank of America              Financials   1.00%   \n",
       "40   ORCL           Oracle Corporation  Information Technology   1.00%   \n",
       "41    NEM                      Newmont               Materials   1.00%   \n",
       "42   META               Meta Platforms  Communication Services   1.00%   \n",
       "43    ALB        Albemarle Corporation               Materials   1.00%   \n",
       "44    TXN            Texas Instruments  Information Technology   1.00%   \n",
       "45    CVX          Chevron Corporation                  Energy   1.00%   \n",
       "46   VTRS                      Viatris             Health Care   1.00%   \n",
       "47   CSCO                        Cisco  Information Technology   1.00%   \n",
       "48    WDC              Western Digital  Information Technology   1.00%   \n",
       "49    PGR      Progressive Corporation              Financials   1.00%   \n",
       "\n",
       "   dollar_amount  shares  pred_return_3M  \n",
       "0           $500       6        0.086290  \n",
       "1           $500       7        0.045024  \n",
       "2           $500      13        0.054620  \n",
       "3           $500       6        0.064142  \n",
       "4           $366       3        0.072323  \n",
       "5           $306       2        0.079875  \n",
       "6           $178       0        0.053574  \n",
       "7            $50       1        0.056253  \n",
       "8            $50       1        0.188617  \n",
       "9            $50       0        0.216255  \n",
       "10           $50       1        0.060305  \n",
       "11           $50       0        0.233378  \n",
       "12           $50       0        0.092013  \n",
       "13           $50       1        0.048110  \n",
       "14           $50       0        0.047970  \n",
       "15           $50       0        0.049406  \n",
       "16           $50       0        0.059525  \n",
       "17           $50       1        0.056253  \n",
       "18           $50       0        0.048639  \n",
       "19           $50       0        0.054999  \n",
       "20           $50       0        0.086290  \n",
       "21           $50       2        0.083963  \n",
       "22           $50       0        0.051521  \n",
       "23           $50       0        0.044444  \n",
       "24           $50       1        0.053820  \n",
       "25           $50       0        0.070008  \n",
       "26           $50       0        0.049429  \n",
       "27           $50       2        0.161858  \n",
       "28           $50       3        0.118733  \n",
       "29           $50       0        0.051511  \n",
       "30           $50       0        0.102511  \n",
       "31           $50       0        0.099255  \n",
       "32           $50       1        0.094353  \n",
       "33           $50       0        0.045024  \n",
       "34           $50       0        0.044487  \n",
       "35           $50       0        0.048164  \n",
       "36           $50       0        0.046744  \n",
       "37           $50       0        0.046820  \n",
       "38           $50       0        0.122728  \n",
       "39           $50       0        0.172687  \n",
       "40           $50       0        0.076099  \n",
       "41           $50       0        0.048627  \n",
       "42           $50       0        0.049293  \n",
       "43           $50       0        0.049406  \n",
       "44           $50       0        0.070135  \n",
       "45           $50       0        0.118607  \n",
       "46           $50       4        0.054224  \n",
       "47           $50       0        0.098293  \n",
       "48           $50       0        0.065326  \n",
       "49           $50       0        0.051377  "
      ]
     },
     "metadata": {},
     "output_type": "display_data"
    },
    {
     "name": "stdout",
     "output_type": "stream",
     "text": [
      "\n",
      "✅ Summary exported to: dashboard_summary_20251003_1644.csv\n"
     ]
    }
   ],
   "source": [
    "# Create comprehensive summary table\n",
    "summary_table = portfolio[['ticker', 'company_name', 'sector', 'weight', \n",
    "                           'dollar_amount', 'shares']].copy()\n",
    "\n",
    "# Add price data if available\n",
    "if 'current_price' in portfolio_analysis.columns:\n",
    "    summary_table = summary_table.merge(\n",
    "        portfolio_analysis[['ticker', 'current_price', 'return_1w', 'return_1m', 'return_3m']],\n",
    "        on='ticker',\n",
    "        how='left'\n",
    "    )\n",
    "\n",
    "# Add ML predictions if available\n",
    "if ml_predictions is not None and 'pred_return_3M' in ml_predictions.columns:\n",
    "    summary_table = summary_table.merge(\n",
    "        ml_predictions[['ticker', 'pred_return_3M']],\n",
    "        on='ticker',\n",
    "        how='left'\n",
    "    )\n",
    "\n",
    "# Format for display\n",
    "summary_table['weight'] = summary_table['weight'].apply(lambda x: f\"{x*100:.2f}%\")\n",
    "summary_table['dollar_amount'] = summary_table['dollar_amount'].apply(lambda x: f\"${x:,.0f}\")\n",
    "\n",
    "print(\"=\" * 80)\n",
    "print(\"📊 COMPLETE PORTFOLIO HOLDINGS\")\n",
    "print(\"=\" * 80)\n",
    "print(f\"\\nShowing all {len(summary_table)} positions\\n\")\n",
    "\n",
    "# Display full table\n",
    "display(summary_table)\n",
    "\n",
    "# Export option\n",
    "export_path = data_dir / f'dashboard_summary_{datetime.now().strftime(\"%Y%m%d_%H%M\")}.csv'\n",
    "summary_table.to_csv(export_path, index=False)\n",
    "print(f\"\\n✅ Summary exported to: {export_path.name}\")\n",
    "\n"
   ]
  },
  {
   "cell_type": "markdown",
   "id": "md_21",
   "metadata": {},
   "source": [
    "## 📝 Step 11: Next Actions & Recommendations\n"
   ]
  },
  {
   "cell_type": "code",
   "execution_count": 16,
   "id": "code_22",
   "metadata": {},
   "outputs": [
    {
     "name": "stdout",
     "output_type": "stream",
     "text": [
      "================================================================================\n",
      "📋 RECOMMENDED NEXT ACTIONS\n",
      "================================================================================\n",
      "\n",
      "🔄 Portfolio Maintenance:\n",
      "   1. Monitor positions weekly\n",
      "   2. Rebalance monthly (if drift > 5%)\n",
      "   3. Review stop-losses for volatile holdings\n",
      "   4. Check for corporate actions (dividends, splits)\n",
      "\n",
      "🔍 Areas to Monitor:\n",
      "   ⚠️  1 stocks down >10% this month\n",
      "      Review fundamentals and consider trimming\n",
      "\n",
      "📅 Regular Updates:\n",
      "   • Daily: Check major news and market events\n",
      "   • Weekly: Review performance vs benchmark\n",
      "   • Monthly: Rebalance if needed\n",
      "   • Quarterly: Re-run ML predictions and optimization\n",
      "\n",
      "🔄 Refresh Schedule:\n",
      "   • Notebook 01: Monthly (update price data)\n",
      "   • Notebook 02: Monthly (re-screen stocks)\n",
      "   • Notebook 03: Quarterly (retrain ML models)\n",
      "   • Notebook 04: Monthly (re-optimize allocation)\n",
      "   • Notebook 05: Monthly (update backtest)\n",
      "   • Notebook 06: Weekly (review dashboard)\n",
      "================================================================================\n",
      "✅ Dashboard complete!\n",
      "================================================================================\n"
     ]
    }
   ],
   "source": [
    "print(\"=\" * 80)\n",
    "print(\"📋 RECOMMENDED NEXT ACTIONS\")\n",
    "print(\"=\" * 80)\n",
    "\n",
    "print(f\"\\n🔄 Portfolio Maintenance:\")\n",
    "print(f\"   1. Monitor positions weekly\")\n",
    "print(f\"   2. Rebalance monthly (if drift > 5%)\")\n",
    "print(f\"   3. Review stop-losses for volatile holdings\")\n",
    "print(f\"   4. Check for corporate actions (dividends, splits)\")\n",
    "\n",
    "print(f\"\\n🔍 Areas to Monitor:\")\n",
    "\n",
    "# Check concentration\n",
    "if top_5_weight > 0.5:\n",
    "    print(f\"   ⚠️  HIGH CONCENTRATION: Top 5 = {top_5_weight*100:.1f}%\")\n",
    "    print(f\"      Consider reducing position sizes\")\n",
    "\n",
    "# Check sector exposure\n",
    "if 'sector' in portfolio.columns:\n",
    "    max_sector = portfolio.groupby('sector')['weight'].sum().max()\n",
    "    if max_sector > 0.35:\n",
    "        max_sector_name = portfolio.groupby('sector')['weight'].sum().idxmax()\n",
    "        print(f\"   ⚠️  SECTOR RISK: {max_sector_name} = {max_sector*100:.1f}%\")\n",
    "        print(f\"      Consider sector diversification\")\n",
    "\n",
    "# Check weak performers\n",
    "weak_count = len(portfolio_analysis[portfolio_analysis['return_1m'] < -10])\n",
    "if weak_count > 0:\n",
    "    print(f\"   ⚠️  {weak_count} stocks down >10% this month\")\n",
    "    print(f\"      Review fundamentals and consider trimming\")\n",
    "\n",
    "print(f\"\\n📅 Regular Updates:\")\n",
    "print(f\"   • Daily: Check major news and market events\")\n",
    "print(f\"   • Weekly: Review performance vs benchmark\")\n",
    "print(f\"   • Monthly: Rebalance if needed\")\n",
    "print(f\"   • Quarterly: Re-run ML predictions and optimization\")\n",
    "\n",
    "print(f\"\\n🔄 Refresh Schedule:\")\n",
    "print(f\"   • Notebook 01: Monthly (update price data)\")\n",
    "print(f\"   • Notebook 02: Monthly (re-screen stocks)\")\n",
    "print(f\"   • Notebook 03: Quarterly (retrain ML models)\")\n",
    "print(f\"   • Notebook 04: Monthly (re-optimize allocation)\")\n",
    "print(f\"   • Notebook 05: Monthly (update backtest)\")\n",
    "print(f\"   • Notebook 06: Weekly (review dashboard)\")\n",
    "\n",
    "print(\"=\" * 80)\n",
    "print(\"✅ Dashboard complete!\")\n",
    "print(\"=\" * 80)\n"
   ]
  },
  {
   "cell_type": "markdown",
   "id": "md_23",
   "metadata": {},
   "source": [
    "## 💾 Step 12: Export Dashboard Data\n"
   ]
  },
  {
   "cell_type": "code",
   "execution_count": 17,
   "id": "code_24",
   "metadata": {},
   "outputs": [
    {
     "name": "stdout",
     "output_type": "stream",
     "text": [
      "✅ Full dashboard data exported:\n",
      "   dashboard_full_20251003_1644.csv\n",
      "   50 stocks with complete metrics\n",
      "\n",
      "✅ Summary JSON exported:\n",
      "   dashboard_summary_20251003_1644.json\n",
      "\n",
      "📊 Dashboard session complete!\n"
     ]
    }
   ],
   "source": [
    "# Create comprehensive export package\n",
    "timestamp = datetime.now().strftime('%Y%m%d_%H%M')\n",
    "\n",
    "# Export portfolio with all metrics\n",
    "full_export = portfolio.copy()\n",
    "\n",
    "if 'current_price' in portfolio_analysis.columns:\n",
    "    full_export = full_export.merge(\n",
    "        portfolio_analysis[['ticker', 'current_price', 'return_1w', 'return_1m', 'return_3m']],\n",
    "        on='ticker',\n",
    "        how='left'\n",
    "    )\n",
    "\n",
    "if ml_predictions is not None:\n",
    "    full_export = full_export.merge(\n",
    "        ml_predictions[['ticker', 'pred_return_1M', 'pred_return_3M', 'rank']],\n",
    "        on='ticker',\n",
    "        how='left'\n",
    "    )\n",
    "\n",
    "export_file = data_dir / f'dashboard_full_{timestamp}.csv'\n",
    "full_export.to_csv(export_file, index=False)\n",
    "\n",
    "print(f\"✅ Full dashboard data exported:\")\n",
    "print(f\"   {export_file.name}\")\n",
    "print(f\"   {len(full_export)} stocks with complete metrics\")\n",
    "\n",
    "# Create JSON summary\n",
    "dashboard_summary = {\n",
    "    'generated_at': timestamp,\n",
    "    'portfolio': {\n",
    "        'total_value': float(portfolio['dollar_amount'].sum()),\n",
    "        'num_holdings': len(portfolio),\n",
    "        'top_holding': portfolio.iloc[0]['ticker'],\n",
    "    },\n",
    "    'performance': {\n",
    "        'total_return': float(total_return),\n",
    "        'volatility': float(annual_volatility),\n",
    "        'sharpe_ratio': float(sharpe)\n",
    "    }\n",
    "}\n",
    "\n",
    "if performance:\n",
    "    dashboard_summary['simulation'] = performance.get('monte_carlo', {})\n",
    "\n",
    "json_file = data_dir / f'dashboard_summary_{timestamp}.json'\n",
    "with open(json_file, 'w') as f:\n",
    "    json.dump(dashboard_summary, f, indent=2)\n",
    "\n",
    "print(f\"\\n✅ Summary JSON exported:\")\n",
    "print(f\"   {json_file.name}\")\n",
    "\n",
    "print(f\"\\n📊 Dashboard session complete!\")\n",
    "\n",
    "\n"
   ]
  }
 ],
 "metadata": {
  "kernelspec": {
   "display_name": ".venv",
   "language": "python",
   "name": "python3"
  },
  "language_info": {
   "codemirror_mode": {
    "name": "ipython",
    "version": 3
   },
   "file_extension": ".py",
   "mimetype": "text/x-python",
   "name": "python",
   "nbconvert_exporter": "python",
   "pygments_lexer": "ipython3",
   "version": "3.11.13"
  }
 },
 "nbformat": 4,
 "nbformat_minor": 5
}
